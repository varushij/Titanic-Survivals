{
 "cells": [
  {
   "cell_type": "markdown",
   "metadata": {},
   "source": [
    "# 1. DEFINE"
   ]
  },
  {
   "cell_type": "markdown",
   "metadata": {},
   "source": [
    "#### 1.1 Define the problem"
   ]
  },
  {
   "cell_type": "code",
   "execution_count": 1,
   "metadata": {},
   "outputs": [],
   "source": [
    "# This problem aims at analyzing which group/category of people had higher chance of survial in the Titanic tragedy.\n",
    "# With the given set of features/columns, the problem aims at establishing the factors that contributing in \n",
    "# deciding the fate of passengers."
   ]
  },
  {
   "cell_type": "markdown",
   "metadata": {},
   "source": [
    "# 2. DISCOVER"
   ]
  },
  {
   "cell_type": "code",
   "execution_count": 2,
   "metadata": {
    "scrolled": true
   },
   "outputs": [],
   "source": [
    "# importing libraries\n",
    "import numpy as np\n",
    "import pandas as pd\n",
    "import matplotlib.pyplot as plt\n",
    "import missingno\n",
    "import seaborn as sns\n",
    "from sklearn.preprocessing import LabelEncoder, OneHotEncoder\n",
    "from sklearn.linear_model import LogisticRegression\n",
    "from sklearn.neighbors import KNeighborsClassifier \n",
    "from sklearn.svm import SVC\n",
    "from sklearn.naive_bayes import GaussianNB\n",
    "from sklearn import tree\n",
    "from sklearn.metrics import classification_report, confusion_matrix, accuracy_score "
   ]
  },
  {
   "cell_type": "markdown",
   "metadata": {},
   "source": [
    "### 2.1 Obtain dataset"
   ]
  },
  {
   "cell_type": "code",
   "execution_count": 3,
   "metadata": {},
   "outputs": [
    {
     "data": {
      "text/html": [
       "<div>\n",
       "<style scoped>\n",
       "    .dataframe tbody tr th:only-of-type {\n",
       "        vertical-align: middle;\n",
       "    }\n",
       "\n",
       "    .dataframe tbody tr th {\n",
       "        vertical-align: top;\n",
       "    }\n",
       "\n",
       "    .dataframe thead th {\n",
       "        text-align: right;\n",
       "    }\n",
       "</style>\n",
       "<table border=\"1\" class=\"dataframe\">\n",
       "  <thead>\n",
       "    <tr style=\"text-align: right;\">\n",
       "      <th></th>\n",
       "      <th>PassengerId</th>\n",
       "      <th>Survived</th>\n",
       "      <th>Pclass</th>\n",
       "      <th>Name</th>\n",
       "      <th>Sex</th>\n",
       "      <th>Age</th>\n",
       "      <th>SibSp</th>\n",
       "      <th>Parch</th>\n",
       "      <th>Ticket</th>\n",
       "      <th>Fare</th>\n",
       "      <th>Cabin</th>\n",
       "      <th>Embarked</th>\n",
       "    </tr>\n",
       "  </thead>\n",
       "  <tbody>\n",
       "    <tr>\n",
       "      <th>0</th>\n",
       "      <td>1</td>\n",
       "      <td>0</td>\n",
       "      <td>3</td>\n",
       "      <td>Braund, Mr. Owen Harris</td>\n",
       "      <td>male</td>\n",
       "      <td>22.0</td>\n",
       "      <td>1</td>\n",
       "      <td>0</td>\n",
       "      <td>A/5 21171</td>\n",
       "      <td>7.2500</td>\n",
       "      <td>NaN</td>\n",
       "      <td>S</td>\n",
       "    </tr>\n",
       "    <tr>\n",
       "      <th>1</th>\n",
       "      <td>2</td>\n",
       "      <td>1</td>\n",
       "      <td>1</td>\n",
       "      <td>Cumings, Mrs. John Bradley (Florence Briggs Th...</td>\n",
       "      <td>female</td>\n",
       "      <td>38.0</td>\n",
       "      <td>1</td>\n",
       "      <td>0</td>\n",
       "      <td>PC 17599</td>\n",
       "      <td>71.2833</td>\n",
       "      <td>C85</td>\n",
       "      <td>C</td>\n",
       "    </tr>\n",
       "    <tr>\n",
       "      <th>2</th>\n",
       "      <td>3</td>\n",
       "      <td>1</td>\n",
       "      <td>3</td>\n",
       "      <td>Heikkinen, Miss. Laina</td>\n",
       "      <td>female</td>\n",
       "      <td>26.0</td>\n",
       "      <td>0</td>\n",
       "      <td>0</td>\n",
       "      <td>STON/O2. 3101282</td>\n",
       "      <td>7.9250</td>\n",
       "      <td>NaN</td>\n",
       "      <td>S</td>\n",
       "    </tr>\n",
       "    <tr>\n",
       "      <th>3</th>\n",
       "      <td>4</td>\n",
       "      <td>1</td>\n",
       "      <td>1</td>\n",
       "      <td>Futrelle, Mrs. Jacques Heath (Lily May Peel)</td>\n",
       "      <td>female</td>\n",
       "      <td>35.0</td>\n",
       "      <td>1</td>\n",
       "      <td>0</td>\n",
       "      <td>113803</td>\n",
       "      <td>53.1000</td>\n",
       "      <td>C123</td>\n",
       "      <td>S</td>\n",
       "    </tr>\n",
       "    <tr>\n",
       "      <th>4</th>\n",
       "      <td>5</td>\n",
       "      <td>0</td>\n",
       "      <td>3</td>\n",
       "      <td>Allen, Mr. William Henry</td>\n",
       "      <td>male</td>\n",
       "      <td>35.0</td>\n",
       "      <td>0</td>\n",
       "      <td>0</td>\n",
       "      <td>373450</td>\n",
       "      <td>8.0500</td>\n",
       "      <td>NaN</td>\n",
       "      <td>S</td>\n",
       "    </tr>\n",
       "  </tbody>\n",
       "</table>\n",
       "</div>"
      ],
      "text/plain": [
       "   PassengerId  Survived  Pclass  \\\n",
       "0            1         0       3   \n",
       "1            2         1       1   \n",
       "2            3         1       3   \n",
       "3            4         1       1   \n",
       "4            5         0       3   \n",
       "\n",
       "                                                Name     Sex   Age  SibSp  \\\n",
       "0                            Braund, Mr. Owen Harris    male  22.0      1   \n",
       "1  Cumings, Mrs. John Bradley (Florence Briggs Th...  female  38.0      1   \n",
       "2                             Heikkinen, Miss. Laina  female  26.0      0   \n",
       "3       Futrelle, Mrs. Jacques Heath (Lily May Peel)  female  35.0      1   \n",
       "4                           Allen, Mr. William Henry    male  35.0      0   \n",
       "\n",
       "   Parch            Ticket     Fare Cabin Embarked  \n",
       "0      0         A/5 21171   7.2500   NaN        S  \n",
       "1      0          PC 17599  71.2833   C85        C  \n",
       "2      0  STON/O2. 3101282   7.9250   NaN        S  \n",
       "3      0            113803  53.1000  C123        S  \n",
       "4      0            373450   8.0500   NaN        S  "
      ]
     },
     "execution_count": 3,
     "metadata": {},
     "output_type": "execute_result"
    }
   ],
   "source": [
    "# Training dataset\n",
    "train_data = pd.read_csv('train.csv')\n",
    "train_data.head()"
   ]
  },
  {
   "cell_type": "code",
   "execution_count": 4,
   "metadata": {},
   "outputs": [
    {
     "data": {
      "text/html": [
       "<div>\n",
       "<style scoped>\n",
       "    .dataframe tbody tr th:only-of-type {\n",
       "        vertical-align: middle;\n",
       "    }\n",
       "\n",
       "    .dataframe tbody tr th {\n",
       "        vertical-align: top;\n",
       "    }\n",
       "\n",
       "    .dataframe thead th {\n",
       "        text-align: right;\n",
       "    }\n",
       "</style>\n",
       "<table border=\"1\" class=\"dataframe\">\n",
       "  <thead>\n",
       "    <tr style=\"text-align: right;\">\n",
       "      <th></th>\n",
       "      <th>PassengerId</th>\n",
       "      <th>Pclass</th>\n",
       "      <th>Name</th>\n",
       "      <th>Sex</th>\n",
       "      <th>Age</th>\n",
       "      <th>SibSp</th>\n",
       "      <th>Parch</th>\n",
       "      <th>Ticket</th>\n",
       "      <th>Fare</th>\n",
       "      <th>Cabin</th>\n",
       "      <th>Embarked</th>\n",
       "    </tr>\n",
       "  </thead>\n",
       "  <tbody>\n",
       "    <tr>\n",
       "      <th>0</th>\n",
       "      <td>892</td>\n",
       "      <td>3</td>\n",
       "      <td>Kelly, Mr. James</td>\n",
       "      <td>male</td>\n",
       "      <td>34.5</td>\n",
       "      <td>0</td>\n",
       "      <td>0</td>\n",
       "      <td>330911</td>\n",
       "      <td>7.8292</td>\n",
       "      <td>NaN</td>\n",
       "      <td>Q</td>\n",
       "    </tr>\n",
       "    <tr>\n",
       "      <th>1</th>\n",
       "      <td>893</td>\n",
       "      <td>3</td>\n",
       "      <td>Wilkes, Mrs. James (Ellen Needs)</td>\n",
       "      <td>female</td>\n",
       "      <td>47.0</td>\n",
       "      <td>1</td>\n",
       "      <td>0</td>\n",
       "      <td>363272</td>\n",
       "      <td>7.0000</td>\n",
       "      <td>NaN</td>\n",
       "      <td>S</td>\n",
       "    </tr>\n",
       "    <tr>\n",
       "      <th>2</th>\n",
       "      <td>894</td>\n",
       "      <td>2</td>\n",
       "      <td>Myles, Mr. Thomas Francis</td>\n",
       "      <td>male</td>\n",
       "      <td>62.0</td>\n",
       "      <td>0</td>\n",
       "      <td>0</td>\n",
       "      <td>240276</td>\n",
       "      <td>9.6875</td>\n",
       "      <td>NaN</td>\n",
       "      <td>Q</td>\n",
       "    </tr>\n",
       "    <tr>\n",
       "      <th>3</th>\n",
       "      <td>895</td>\n",
       "      <td>3</td>\n",
       "      <td>Wirz, Mr. Albert</td>\n",
       "      <td>male</td>\n",
       "      <td>27.0</td>\n",
       "      <td>0</td>\n",
       "      <td>0</td>\n",
       "      <td>315154</td>\n",
       "      <td>8.6625</td>\n",
       "      <td>NaN</td>\n",
       "      <td>S</td>\n",
       "    </tr>\n",
       "    <tr>\n",
       "      <th>4</th>\n",
       "      <td>896</td>\n",
       "      <td>3</td>\n",
       "      <td>Hirvonen, Mrs. Alexander (Helga E Lindqvist)</td>\n",
       "      <td>female</td>\n",
       "      <td>22.0</td>\n",
       "      <td>1</td>\n",
       "      <td>1</td>\n",
       "      <td>3101298</td>\n",
       "      <td>12.2875</td>\n",
       "      <td>NaN</td>\n",
       "      <td>S</td>\n",
       "    </tr>\n",
       "  </tbody>\n",
       "</table>\n",
       "</div>"
      ],
      "text/plain": [
       "   PassengerId  Pclass                                          Name     Sex  \\\n",
       "0          892       3                              Kelly, Mr. James    male   \n",
       "1          893       3              Wilkes, Mrs. James (Ellen Needs)  female   \n",
       "2          894       2                     Myles, Mr. Thomas Francis    male   \n",
       "3          895       3                              Wirz, Mr. Albert    male   \n",
       "4          896       3  Hirvonen, Mrs. Alexander (Helga E Lindqvist)  female   \n",
       "\n",
       "    Age  SibSp  Parch   Ticket     Fare Cabin Embarked  \n",
       "0  34.5      0      0   330911   7.8292   NaN        Q  \n",
       "1  47.0      1      0   363272   7.0000   NaN        S  \n",
       "2  62.0      0      0   240276   9.6875   NaN        Q  \n",
       "3  27.0      0      0   315154   8.6625   NaN        S  \n",
       "4  22.0      1      1  3101298  12.2875   NaN        S  "
      ]
     },
     "execution_count": 4,
     "metadata": {},
     "output_type": "execute_result"
    }
   ],
   "source": [
    "# Testing dataset\n",
    "test_data = pd.read_csv('test.csv')\n",
    "test_data.head()"
   ]
  },
  {
   "cell_type": "code",
   "execution_count": 5,
   "metadata": {},
   "outputs": [],
   "source": [
    "# A point to be noted here is: the number of columns in train_data and test_data datasets are different. This is because the \n",
    "# train_data dataset consists of one extra column, namely 'Survived', which will be considered as the class/label for this\n",
    "# dataset as per the problem definition.\n",
    "\n",
    "# The return type of pd.read_csv() is a DataFrame. So, 'train_data' and 'test_data' are both dataframes."
   ]
  },
  {
   "cell_type": "code",
   "execution_count": 6,
   "metadata": {},
   "outputs": [
    {
     "data": {
      "text/plain": [
       "(891, 12)"
      ]
     },
     "execution_count": 6,
     "metadata": {},
     "output_type": "execute_result"
    }
   ],
   "source": [
    "# The dimension of the train_data dataset can be obtained as:\n",
    "train_data.shape"
   ]
  },
  {
   "cell_type": "code",
   "execution_count": 7,
   "metadata": {},
   "outputs": [],
   "source": [
    "# This implies there are 891 entries/rows and a total of 12 columns in the dataset"
   ]
  },
  {
   "cell_type": "code",
   "execution_count": 8,
   "metadata": {},
   "outputs": [
    {
     "data": {
      "text/plain": [
       "(418, 11)"
      ]
     },
     "execution_count": 8,
     "metadata": {},
     "output_type": "execute_result"
    }
   ],
   "source": [
    "# The dimension of test_data dataset can be obtained as:\n",
    "test_data.shape"
   ]
  },
  {
   "cell_type": "code",
   "execution_count": 9,
   "metadata": {},
   "outputs": [],
   "source": [
    "# This implies that there are 418 entries/rows and a total of 11 columns in the dataset"
   ]
  },
  {
   "cell_type": "markdown",
   "metadata": {},
   "source": [
    "Now we have two datasets. <br>\n",
    "The 'train_data' consists of 891 entries and 12 columns (including the class label column 'Survived') <br>\n",
    "The 'test_data' consists of 418 entries and 11 columns"
   ]
  },
  {
   "cell_type": "markdown",
   "metadata": {},
   "source": [
    "### 2.2 Cleaning dataset"
   ]
  },
  {
   "cell_type": "markdown",
   "metadata": {},
   "source": [
    "In order to preserve the original datasets we will create one replicas of each of the original dataset and make changes in those replicas instead of the original dataset."
   ]
  },
  {
   "cell_type": "code",
   "execution_count": 10,
   "metadata": {},
   "outputs": [],
   "source": [
    "# Copying original train_data and test_data in a new dataframe\n",
    "train = train_data.copy()\n",
    "test = test_data.copy()"
   ]
  },
  {
   "cell_type": "markdown",
   "metadata": {},
   "source": [
    "### 2.2.1 First let's explore the columns in the datasets which do not contribute in our analysis and can be __dropped__."
   ]
  },
  {
   "cell_type": "code",
   "execution_count": 11,
   "metadata": {},
   "outputs": [
    {
     "data": {
      "text/html": [
       "<div>\n",
       "<style scoped>\n",
       "    .dataframe tbody tr th:only-of-type {\n",
       "        vertical-align: middle;\n",
       "    }\n",
       "\n",
       "    .dataframe tbody tr th {\n",
       "        vertical-align: top;\n",
       "    }\n",
       "\n",
       "    .dataframe thead th {\n",
       "        text-align: right;\n",
       "    }\n",
       "</style>\n",
       "<table border=\"1\" class=\"dataframe\">\n",
       "  <thead>\n",
       "    <tr style=\"text-align: right;\">\n",
       "      <th></th>\n",
       "      <th>PassengerId</th>\n",
       "      <th>Survived</th>\n",
       "      <th>Pclass</th>\n",
       "      <th>Name</th>\n",
       "      <th>Sex</th>\n",
       "      <th>Age</th>\n",
       "      <th>SibSp</th>\n",
       "      <th>Parch</th>\n",
       "      <th>Ticket</th>\n",
       "      <th>Fare</th>\n",
       "      <th>Cabin</th>\n",
       "      <th>Embarked</th>\n",
       "    </tr>\n",
       "  </thead>\n",
       "  <tbody>\n",
       "    <tr>\n",
       "      <th>0</th>\n",
       "      <td>1</td>\n",
       "      <td>0</td>\n",
       "      <td>3</td>\n",
       "      <td>Braund, Mr. Owen Harris</td>\n",
       "      <td>male</td>\n",
       "      <td>22.0</td>\n",
       "      <td>1</td>\n",
       "      <td>0</td>\n",
       "      <td>A/5 21171</td>\n",
       "      <td>7.2500</td>\n",
       "      <td>NaN</td>\n",
       "      <td>S</td>\n",
       "    </tr>\n",
       "    <tr>\n",
       "      <th>1</th>\n",
       "      <td>2</td>\n",
       "      <td>1</td>\n",
       "      <td>1</td>\n",
       "      <td>Cumings, Mrs. John Bradley (Florence Briggs Th...</td>\n",
       "      <td>female</td>\n",
       "      <td>38.0</td>\n",
       "      <td>1</td>\n",
       "      <td>0</td>\n",
       "      <td>PC 17599</td>\n",
       "      <td>71.2833</td>\n",
       "      <td>C85</td>\n",
       "      <td>C</td>\n",
       "    </tr>\n",
       "    <tr>\n",
       "      <th>2</th>\n",
       "      <td>3</td>\n",
       "      <td>1</td>\n",
       "      <td>3</td>\n",
       "      <td>Heikkinen, Miss. Laina</td>\n",
       "      <td>female</td>\n",
       "      <td>26.0</td>\n",
       "      <td>0</td>\n",
       "      <td>0</td>\n",
       "      <td>STON/O2. 3101282</td>\n",
       "      <td>7.9250</td>\n",
       "      <td>NaN</td>\n",
       "      <td>S</td>\n",
       "    </tr>\n",
       "    <tr>\n",
       "      <th>3</th>\n",
       "      <td>4</td>\n",
       "      <td>1</td>\n",
       "      <td>1</td>\n",
       "      <td>Futrelle, Mrs. Jacques Heath (Lily May Peel)</td>\n",
       "      <td>female</td>\n",
       "      <td>35.0</td>\n",
       "      <td>1</td>\n",
       "      <td>0</td>\n",
       "      <td>113803</td>\n",
       "      <td>53.1000</td>\n",
       "      <td>C123</td>\n",
       "      <td>S</td>\n",
       "    </tr>\n",
       "    <tr>\n",
       "      <th>4</th>\n",
       "      <td>5</td>\n",
       "      <td>0</td>\n",
       "      <td>3</td>\n",
       "      <td>Allen, Mr. William Henry</td>\n",
       "      <td>male</td>\n",
       "      <td>35.0</td>\n",
       "      <td>0</td>\n",
       "      <td>0</td>\n",
       "      <td>373450</td>\n",
       "      <td>8.0500</td>\n",
       "      <td>NaN</td>\n",
       "      <td>S</td>\n",
       "    </tr>\n",
       "  </tbody>\n",
       "</table>\n",
       "</div>"
      ],
      "text/plain": [
       "   PassengerId  Survived  Pclass  \\\n",
       "0            1         0       3   \n",
       "1            2         1       1   \n",
       "2            3         1       3   \n",
       "3            4         1       1   \n",
       "4            5         0       3   \n",
       "\n",
       "                                                Name     Sex   Age  SibSp  \\\n",
       "0                            Braund, Mr. Owen Harris    male  22.0      1   \n",
       "1  Cumings, Mrs. John Bradley (Florence Briggs Th...  female  38.0      1   \n",
       "2                             Heikkinen, Miss. Laina  female  26.0      0   \n",
       "3       Futrelle, Mrs. Jacques Heath (Lily May Peel)  female  35.0      1   \n",
       "4                           Allen, Mr. William Henry    male  35.0      0   \n",
       "\n",
       "   Parch            Ticket     Fare Cabin Embarked  \n",
       "0      0         A/5 21171   7.2500   NaN        S  \n",
       "1      0          PC 17599  71.2833   C85        C  \n",
       "2      0  STON/O2. 3101282   7.9250   NaN        S  \n",
       "3      0            113803  53.1000  C123        S  \n",
       "4      0            373450   8.0500   NaN        S  "
      ]
     },
     "execution_count": 11,
     "metadata": {},
     "output_type": "execute_result"
    }
   ],
   "source": [
    "train.head()"
   ]
  },
  {
   "cell_type": "code",
   "execution_count": 12,
   "metadata": {},
   "outputs": [
    {
     "data": {
      "text/html": [
       "<div>\n",
       "<style scoped>\n",
       "    .dataframe tbody tr th:only-of-type {\n",
       "        vertical-align: middle;\n",
       "    }\n",
       "\n",
       "    .dataframe tbody tr th {\n",
       "        vertical-align: top;\n",
       "    }\n",
       "\n",
       "    .dataframe thead th {\n",
       "        text-align: right;\n",
       "    }\n",
       "</style>\n",
       "<table border=\"1\" class=\"dataframe\">\n",
       "  <thead>\n",
       "    <tr style=\"text-align: right;\">\n",
       "      <th></th>\n",
       "      <th>Survived</th>\n",
       "      <th>Pclass</th>\n",
       "      <th>Name</th>\n",
       "      <th>Sex</th>\n",
       "      <th>Age</th>\n",
       "      <th>SibSp</th>\n",
       "      <th>Parch</th>\n",
       "      <th>Fare</th>\n",
       "      <th>Cabin</th>\n",
       "      <th>Embarked</th>\n",
       "    </tr>\n",
       "  </thead>\n",
       "  <tbody>\n",
       "    <tr>\n",
       "      <th>0</th>\n",
       "      <td>0</td>\n",
       "      <td>3</td>\n",
       "      <td>Braund, Mr. Owen Harris</td>\n",
       "      <td>male</td>\n",
       "      <td>22.0</td>\n",
       "      <td>1</td>\n",
       "      <td>0</td>\n",
       "      <td>7.2500</td>\n",
       "      <td>NaN</td>\n",
       "      <td>S</td>\n",
       "    </tr>\n",
       "    <tr>\n",
       "      <th>1</th>\n",
       "      <td>1</td>\n",
       "      <td>1</td>\n",
       "      <td>Cumings, Mrs. John Bradley (Florence Briggs Th...</td>\n",
       "      <td>female</td>\n",
       "      <td>38.0</td>\n",
       "      <td>1</td>\n",
       "      <td>0</td>\n",
       "      <td>71.2833</td>\n",
       "      <td>C85</td>\n",
       "      <td>C</td>\n",
       "    </tr>\n",
       "    <tr>\n",
       "      <th>2</th>\n",
       "      <td>1</td>\n",
       "      <td>3</td>\n",
       "      <td>Heikkinen, Miss. Laina</td>\n",
       "      <td>female</td>\n",
       "      <td>26.0</td>\n",
       "      <td>0</td>\n",
       "      <td>0</td>\n",
       "      <td>7.9250</td>\n",
       "      <td>NaN</td>\n",
       "      <td>S</td>\n",
       "    </tr>\n",
       "    <tr>\n",
       "      <th>3</th>\n",
       "      <td>1</td>\n",
       "      <td>1</td>\n",
       "      <td>Futrelle, Mrs. Jacques Heath (Lily May Peel)</td>\n",
       "      <td>female</td>\n",
       "      <td>35.0</td>\n",
       "      <td>1</td>\n",
       "      <td>0</td>\n",
       "      <td>53.1000</td>\n",
       "      <td>C123</td>\n",
       "      <td>S</td>\n",
       "    </tr>\n",
       "    <tr>\n",
       "      <th>4</th>\n",
       "      <td>0</td>\n",
       "      <td>3</td>\n",
       "      <td>Allen, Mr. William Henry</td>\n",
       "      <td>male</td>\n",
       "      <td>35.0</td>\n",
       "      <td>0</td>\n",
       "      <td>0</td>\n",
       "      <td>8.0500</td>\n",
       "      <td>NaN</td>\n",
       "      <td>S</td>\n",
       "    </tr>\n",
       "  </tbody>\n",
       "</table>\n",
       "</div>"
      ],
      "text/plain": [
       "   Survived  Pclass                                               Name  \\\n",
       "0         0       3                            Braund, Mr. Owen Harris   \n",
       "1         1       1  Cumings, Mrs. John Bradley (Florence Briggs Th...   \n",
       "2         1       3                             Heikkinen, Miss. Laina   \n",
       "3         1       1       Futrelle, Mrs. Jacques Heath (Lily May Peel)   \n",
       "4         0       3                           Allen, Mr. William Henry   \n",
       "\n",
       "      Sex   Age  SibSp  Parch     Fare Cabin Embarked  \n",
       "0    male  22.0      1      0   7.2500   NaN        S  \n",
       "1  female  38.0      1      0  71.2833   C85        C  \n",
       "2  female  26.0      0      0   7.9250   NaN        S  \n",
       "3  female  35.0      1      0  53.1000  C123        S  \n",
       "4    male  35.0      0      0   8.0500   NaN        S  "
      ]
     },
     "execution_count": 12,
     "metadata": {},
     "output_type": "execute_result"
    }
   ],
   "source": [
    "# The columns 'PassengerId' and 'Ticket' does not hold relevance in deciding the survival of a passenger and hence can be dropped.\n",
    "to_drop = ['PassengerId','Ticket']\n",
    "train.drop(to_drop,axis = 1, inplace = True) \n",
    "# 'axis = 1' implies columns; 'inplace = True' implies that the change be made directly in the object \n",
    "train.head()"
   ]
  },
  {
   "cell_type": "code",
   "execution_count": 13,
   "metadata": {},
   "outputs": [
    {
     "data": {
      "text/html": [
       "<div>\n",
       "<style scoped>\n",
       "    .dataframe tbody tr th:only-of-type {\n",
       "        vertical-align: middle;\n",
       "    }\n",
       "\n",
       "    .dataframe tbody tr th {\n",
       "        vertical-align: top;\n",
       "    }\n",
       "\n",
       "    .dataframe thead th {\n",
       "        text-align: right;\n",
       "    }\n",
       "</style>\n",
       "<table border=\"1\" class=\"dataframe\">\n",
       "  <thead>\n",
       "    <tr style=\"text-align: right;\">\n",
       "      <th></th>\n",
       "      <th>Pclass</th>\n",
       "      <th>Name</th>\n",
       "      <th>Sex</th>\n",
       "      <th>Age</th>\n",
       "      <th>SibSp</th>\n",
       "      <th>Parch</th>\n",
       "      <th>Fare</th>\n",
       "      <th>Cabin</th>\n",
       "      <th>Embarked</th>\n",
       "    </tr>\n",
       "  </thead>\n",
       "  <tbody>\n",
       "    <tr>\n",
       "      <th>0</th>\n",
       "      <td>3</td>\n",
       "      <td>Kelly, Mr. James</td>\n",
       "      <td>male</td>\n",
       "      <td>34.5</td>\n",
       "      <td>0</td>\n",
       "      <td>0</td>\n",
       "      <td>7.8292</td>\n",
       "      <td>NaN</td>\n",
       "      <td>Q</td>\n",
       "    </tr>\n",
       "    <tr>\n",
       "      <th>1</th>\n",
       "      <td>3</td>\n",
       "      <td>Wilkes, Mrs. James (Ellen Needs)</td>\n",
       "      <td>female</td>\n",
       "      <td>47.0</td>\n",
       "      <td>1</td>\n",
       "      <td>0</td>\n",
       "      <td>7.0000</td>\n",
       "      <td>NaN</td>\n",
       "      <td>S</td>\n",
       "    </tr>\n",
       "    <tr>\n",
       "      <th>2</th>\n",
       "      <td>2</td>\n",
       "      <td>Myles, Mr. Thomas Francis</td>\n",
       "      <td>male</td>\n",
       "      <td>62.0</td>\n",
       "      <td>0</td>\n",
       "      <td>0</td>\n",
       "      <td>9.6875</td>\n",
       "      <td>NaN</td>\n",
       "      <td>Q</td>\n",
       "    </tr>\n",
       "    <tr>\n",
       "      <th>3</th>\n",
       "      <td>3</td>\n",
       "      <td>Wirz, Mr. Albert</td>\n",
       "      <td>male</td>\n",
       "      <td>27.0</td>\n",
       "      <td>0</td>\n",
       "      <td>0</td>\n",
       "      <td>8.6625</td>\n",
       "      <td>NaN</td>\n",
       "      <td>S</td>\n",
       "    </tr>\n",
       "    <tr>\n",
       "      <th>4</th>\n",
       "      <td>3</td>\n",
       "      <td>Hirvonen, Mrs. Alexander (Helga E Lindqvist)</td>\n",
       "      <td>female</td>\n",
       "      <td>22.0</td>\n",
       "      <td>1</td>\n",
       "      <td>1</td>\n",
       "      <td>12.2875</td>\n",
       "      <td>NaN</td>\n",
       "      <td>S</td>\n",
       "    </tr>\n",
       "  </tbody>\n",
       "</table>\n",
       "</div>"
      ],
      "text/plain": [
       "   Pclass                                          Name     Sex   Age  SibSp  \\\n",
       "0       3                              Kelly, Mr. James    male  34.5      0   \n",
       "1       3              Wilkes, Mrs. James (Ellen Needs)  female  47.0      1   \n",
       "2       2                     Myles, Mr. Thomas Francis    male  62.0      0   \n",
       "3       3                              Wirz, Mr. Albert    male  27.0      0   \n",
       "4       3  Hirvonen, Mrs. Alexander (Helga E Lindqvist)  female  22.0      1   \n",
       "\n",
       "   Parch     Fare Cabin Embarked  \n",
       "0      0   7.8292   NaN        Q  \n",
       "1      0   7.0000   NaN        S  \n",
       "2      0   9.6875   NaN        Q  \n",
       "3      0   8.6625   NaN        S  \n",
       "4      1  12.2875   NaN        S  "
      ]
     },
     "execution_count": 13,
     "metadata": {},
     "output_type": "execute_result"
    }
   ],
   "source": [
    "# To maintain consistency in the datasets, the same process will be repeated for the test dataset\n",
    "test.drop(to_drop, axis = 1, inplace = True)\n",
    "test.head()"
   ]
  },
  {
   "cell_type": "code",
   "execution_count": 14,
   "metadata": {},
   "outputs": [
    {
     "name": "stdout",
     "output_type": "stream",
     "text": [
      "<class 'pandas.core.frame.DataFrame'>\n",
      "RangeIndex: 891 entries, 0 to 890\n",
      "Data columns (total 10 columns):\n",
      "Survived    891 non-null int64\n",
      "Pclass      891 non-null int64\n",
      "Name        891 non-null object\n",
      "Sex         891 non-null object\n",
      "Age         714 non-null float64\n",
      "SibSp       891 non-null int64\n",
      "Parch       891 non-null int64\n",
      "Fare        891 non-null float64\n",
      "Cabin       204 non-null object\n",
      "Embarked    889 non-null object\n",
      "dtypes: float64(2), int64(4), object(4)\n",
      "memory usage: 69.7+ KB\n"
     ]
    }
   ],
   "source": [
    "# Checking for the datatypes of columns to ensure if we need to make any chnages in any column's datatype\n",
    "train.info()"
   ]
  },
  {
   "cell_type": "markdown",
   "metadata": {},
   "source": [
    "The datatype listed for each column looks good enough and requires no change at the moment."
   ]
  },
  {
   "cell_type": "code",
   "execution_count": 15,
   "metadata": {},
   "outputs": [
    {
     "data": {
      "text/plain": [
       "Index(['Survived', 'Pclass', 'Name', 'Sex', 'Age', 'SibSp', 'Parch', 'Fare',\n",
       "       'Cabin', 'Embarked'],\n",
       "      dtype='object')"
      ]
     },
     "execution_count": 15,
     "metadata": {},
     "output_type": "execute_result"
    }
   ],
   "source": [
    "# Checking for the consistency in the column names\n",
    "train.columns"
   ]
  },
  {
   "cell_type": "code",
   "execution_count": 16,
   "metadata": {},
   "outputs": [
    {
     "data": {
      "text/plain": [
       "Index(['Pclass', 'Name', 'Sex', 'Age', 'SibSp', 'Parch', 'Fare', 'Cabin',\n",
       "       'Embarked'],\n",
       "      dtype='object')"
      ]
     },
     "execution_count": 16,
     "metadata": {},
     "output_type": "execute_result"
    }
   ],
   "source": [
    "test.columns"
   ]
  },
  {
   "cell_type": "markdown",
   "metadata": {},
   "source": [
    "All the column names seems consistant in the train and test dataset. By consistant here it means, the first letter of each column is consistant and capital and there is no hidden space in the names of the columns.\n"
   ]
  },
  {
   "cell_type": "markdown",
   "metadata": {},
   "source": [
    "### 2.3 Checking the frequency count of each column"
   ]
  },
  {
   "cell_type": "markdown",
   "metadata": {},
   "source": [
    "### Traget variable : Survived\n",
    "Description: whether the passenger survived or not <br>\n",
    "0: did not survive <br>\n",
    "1: survived"
   ]
  },
  {
   "cell_type": "code",
   "execution_count": 17,
   "metadata": {},
   "outputs": [
    {
     "data": {
      "text/plain": [
       "0    549\n",
       "1    342\n",
       "Name: Survived, dtype: int64"
      ]
     },
     "execution_count": 17,
     "metadata": {},
     "output_type": "execute_result"
    }
   ],
   "source": [
    "# Survived\n",
    "train.Survived.value_counts(dropna = False)"
   ]
  },
  {
   "cell_type": "code",
   "execution_count": 18,
   "metadata": {},
   "outputs": [
    {
     "data": {
      "text/plain": [
       "<matplotlib.axes._subplots.AxesSubplot at 0x7fda57765c18>"
      ]
     },
     "execution_count": 18,
     "metadata": {},
     "output_type": "execute_result"
    },
    {
     "data": {
      "image/png": "[encoded data removed]",
      "text/plain": [
       "<Figure size 1080x72 with 1 Axes>"
      ]
     },
     "metadata": {},
     "output_type": "display_data"
    }
   ],
   "source": [
    "fig = plt.figure(figsize = (15,1))\n",
    "sns.countplot(y = 'Survived', data = train)"
   ]
  },
  {
   "cell_type": "markdown",
   "metadata": {},
   "source": [
    "__*So, a total of 549 passengers did not survive the Titanic tragedy.* __"
   ]
  },
  {
   "cell_type": "markdown",
   "metadata": {},
   "source": [
    "### Feature : Pclass\n",
    "Description: passenger class (a proxy of socio-economic status) <br>\n",
    "1 : Upper class <br>\n",
    "2 : Middle class <br>\n",
    "3 : Lower class <br>"
   ]
  },
  {
   "cell_type": "code",
   "execution_count": 19,
   "metadata": {},
   "outputs": [
    {
     "data": {
      "text/plain": [
       "3    491\n",
       "1    216\n",
       "2    184\n",
       "Name: Pclass, dtype: int64"
      ]
     },
     "execution_count": 19,
     "metadata": {},
     "output_type": "execute_result"
    }
   ],
   "source": [
    "# Pclass\n",
    "train.Pclass.value_counts(dropna = False)"
   ]
  },
  {
   "cell_type": "code",
   "execution_count": 20,
   "metadata": {},
   "outputs": [
    {
     "data": {
      "text/plain": [
       "<matplotlib.axes._subplots.AxesSubplot at 0x7fda576917b8>"
      ]
     },
     "execution_count": 20,
     "metadata": {},
     "output_type": "execute_result"
    },
    {
     "data": {
      "image/png": "[encoded data removed]",
      "text/plain": [
       "<Figure size 1440x144 with 1 Axes>"
      ]
     },
     "metadata": {},
     "output_type": "display_data"
    }
   ],
   "source": [
    "pclass_fig = plt.figure(figsize = (20,2))\n",
    "sns.countplot(y = 'Pclass', data = train)"
   ]
  },
  {
   "cell_type": "markdown",
   "metadata": {},
   "source": [
    "__*The maximum number of passengers on board were in class 3 followed by 1 and 2 respectively.*__"
   ]
  },
  {
   "cell_type": "markdown",
   "metadata": {},
   "source": [
    "### Feature : Name\n",
    "Description : Name of the passenger"
   ]
  },
  {
   "cell_type": "code",
   "execution_count": 21,
   "metadata": {},
   "outputs": [
    {
     "data": {
      "text/plain": [
       "Karlsson, Mr. Nils August     1\n",
       "Mangan, Miss. Mary            1\n",
       "Cameron, Miss. Clear Annie    1\n",
       "Lobb, Mr. William Arthur      1\n",
       "Young, Miss. Marie Grice      1\n",
       "Name: Name, dtype: int64"
      ]
     },
     "execution_count": 21,
     "metadata": {},
     "output_type": "execute_result"
    }
   ],
   "source": [
    "train.Name.value_counts(dropna = False).head()"
   ]
  },
  {
   "cell_type": "markdown",
   "metadata": {},
   "source": [
    "A total of 891 unique entries are there in 'Name'. <br>\n",
    "This means every passenger had a different name. These name would not be useful in identifying the survival rate of the passenger. <br>\n",
    "But instead, we can use the salutations/title in the names to see of there is any relation with a pssenger's title and their chance of survival."
   ]
  },
  {
   "cell_type": "code",
   "execution_count": 22,
   "metadata": {
    "scrolled": true
   },
   "outputs": [
    {
     "data": {
      "text/html": [
       "<div>\n",
       "<style scoped>\n",
       "    .dataframe tbody tr th:only-of-type {\n",
       "        vertical-align: middle;\n",
       "    }\n",
       "\n",
       "    .dataframe tbody tr th {\n",
       "        vertical-align: top;\n",
       "    }\n",
       "\n",
       "    .dataframe thead th {\n",
       "        text-align: right;\n",
       "    }\n",
       "</style>\n",
       "<table border=\"1\" class=\"dataframe\">\n",
       "  <thead>\n",
       "    <tr style=\"text-align: right;\">\n",
       "      <th></th>\n",
       "      <th>Survived</th>\n",
       "      <th>Pclass</th>\n",
       "      <th>Name</th>\n",
       "      <th>Sex</th>\n",
       "      <th>Age</th>\n",
       "      <th>SibSp</th>\n",
       "      <th>Parch</th>\n",
       "      <th>Fare</th>\n",
       "      <th>Cabin</th>\n",
       "      <th>Embarked</th>\n",
       "    </tr>\n",
       "  </thead>\n",
       "  <tbody>\n",
       "    <tr>\n",
       "      <th>0</th>\n",
       "      <td>0</td>\n",
       "      <td>3</td>\n",
       "      <td>Mr</td>\n",
       "      <td>male</td>\n",
       "      <td>22.0</td>\n",
       "      <td>1</td>\n",
       "      <td>0</td>\n",
       "      <td>7.2500</td>\n",
       "      <td>NaN</td>\n",
       "      <td>S</td>\n",
       "    </tr>\n",
       "    <tr>\n",
       "      <th>1</th>\n",
       "      <td>1</td>\n",
       "      <td>1</td>\n",
       "      <td>Mrs</td>\n",
       "      <td>female</td>\n",
       "      <td>38.0</td>\n",
       "      <td>1</td>\n",
       "      <td>0</td>\n",
       "      <td>71.2833</td>\n",
       "      <td>C85</td>\n",
       "      <td>C</td>\n",
       "    </tr>\n",
       "    <tr>\n",
       "      <th>2</th>\n",
       "      <td>1</td>\n",
       "      <td>3</td>\n",
       "      <td>Miss</td>\n",
       "      <td>female</td>\n",
       "      <td>26.0</td>\n",
       "      <td>0</td>\n",
       "      <td>0</td>\n",
       "      <td>7.9250</td>\n",
       "      <td>NaN</td>\n",
       "      <td>S</td>\n",
       "    </tr>\n",
       "    <tr>\n",
       "      <th>3</th>\n",
       "      <td>1</td>\n",
       "      <td>1</td>\n",
       "      <td>Mrs</td>\n",
       "      <td>female</td>\n",
       "      <td>35.0</td>\n",
       "      <td>1</td>\n",
       "      <td>0</td>\n",
       "      <td>53.1000</td>\n",
       "      <td>C123</td>\n",
       "      <td>S</td>\n",
       "    </tr>\n",
       "    <tr>\n",
       "      <th>4</th>\n",
       "      <td>0</td>\n",
       "      <td>3</td>\n",
       "      <td>Mr</td>\n",
       "      <td>male</td>\n",
       "      <td>35.0</td>\n",
       "      <td>0</td>\n",
       "      <td>0</td>\n",
       "      <td>8.0500</td>\n",
       "      <td>NaN</td>\n",
       "      <td>S</td>\n",
       "    </tr>\n",
       "  </tbody>\n",
       "</table>\n",
       "</div>"
      ],
      "text/plain": [
       "   Survived  Pclass  Name     Sex   Age  SibSp  Parch     Fare Cabin Embarked\n",
       "0         0       3    Mr    male  22.0      1      0   7.2500   NaN        S\n",
       "1         1       1   Mrs  female  38.0      1      0  71.2833   C85        C\n",
       "2         1       3  Miss  female  26.0      0      0   7.9250   NaN        S\n",
       "3         1       1   Mrs  female  35.0      1      0  53.1000  C123        S\n",
       "4         0       3    Mr    male  35.0      0      0   8.0500   NaN        S"
      ]
     },
     "execution_count": 22,
     "metadata": {},
     "output_type": "execute_result"
    }
   ],
   "source": [
    "titles = train['Name'].str.extract('([A-Za-z]+)\\.', expand = False)\n",
    "df = pd.DataFrame(titles)\n",
    "train.update(df)\n",
    "train.head()"
   ]
  },
  {
   "cell_type": "code",
   "execution_count": 23,
   "metadata": {},
   "outputs": [
    {
     "data": {
      "text/html": [
       "<div>\n",
       "<style scoped>\n",
       "    .dataframe tbody tr th:only-of-type {\n",
       "        vertical-align: middle;\n",
       "    }\n",
       "\n",
       "    .dataframe tbody tr th {\n",
       "        vertical-align: top;\n",
       "    }\n",
       "\n",
       "    .dataframe thead th {\n",
       "        text-align: right;\n",
       "    }\n",
       "</style>\n",
       "<table border=\"1\" class=\"dataframe\">\n",
       "  <thead>\n",
       "    <tr style=\"text-align: right;\">\n",
       "      <th></th>\n",
       "      <th>Pclass</th>\n",
       "      <th>Name</th>\n",
       "      <th>Sex</th>\n",
       "      <th>Age</th>\n",
       "      <th>SibSp</th>\n",
       "      <th>Parch</th>\n",
       "      <th>Fare</th>\n",
       "      <th>Cabin</th>\n",
       "      <th>Embarked</th>\n",
       "    </tr>\n",
       "  </thead>\n",
       "  <tbody>\n",
       "    <tr>\n",
       "      <th>0</th>\n",
       "      <td>3</td>\n",
       "      <td>Mr</td>\n",
       "      <td>male</td>\n",
       "      <td>34.5</td>\n",
       "      <td>0</td>\n",
       "      <td>0</td>\n",
       "      <td>7.8292</td>\n",
       "      <td>NaN</td>\n",
       "      <td>Q</td>\n",
       "    </tr>\n",
       "    <tr>\n",
       "      <th>1</th>\n",
       "      <td>3</td>\n",
       "      <td>Mrs</td>\n",
       "      <td>female</td>\n",
       "      <td>47.0</td>\n",
       "      <td>1</td>\n",
       "      <td>0</td>\n",
       "      <td>7.0000</td>\n",
       "      <td>NaN</td>\n",
       "      <td>S</td>\n",
       "    </tr>\n",
       "    <tr>\n",
       "      <th>2</th>\n",
       "      <td>2</td>\n",
       "      <td>Mr</td>\n",
       "      <td>male</td>\n",
       "      <td>62.0</td>\n",
       "      <td>0</td>\n",
       "      <td>0</td>\n",
       "      <td>9.6875</td>\n",
       "      <td>NaN</td>\n",
       "      <td>Q</td>\n",
       "    </tr>\n",
       "    <tr>\n",
       "      <th>3</th>\n",
       "      <td>3</td>\n",
       "      <td>Mr</td>\n",
       "      <td>male</td>\n",
       "      <td>27.0</td>\n",
       "      <td>0</td>\n",
       "      <td>0</td>\n",
       "      <td>8.6625</td>\n",
       "      <td>NaN</td>\n",
       "      <td>S</td>\n",
       "    </tr>\n",
       "    <tr>\n",
       "      <th>4</th>\n",
       "      <td>3</td>\n",
       "      <td>Mrs</td>\n",
       "      <td>female</td>\n",
       "      <td>22.0</td>\n",
       "      <td>1</td>\n",
       "      <td>1</td>\n",
       "      <td>12.2875</td>\n",
       "      <td>NaN</td>\n",
       "      <td>S</td>\n",
       "    </tr>\n",
       "  </tbody>\n",
       "</table>\n",
       "</div>"
      ],
      "text/plain": [
       "   Pclass Name     Sex   Age  SibSp  Parch     Fare Cabin Embarked\n",
       "0       3   Mr    male  34.5      0      0   7.8292   NaN        Q\n",
       "1       3  Mrs  female  47.0      1      0   7.0000   NaN        S\n",
       "2       2   Mr    male  62.0      0      0   9.6875   NaN        Q\n",
       "3       3   Mr    male  27.0      0      0   8.6625   NaN        S\n",
       "4       3  Mrs  female  22.0      1      1  12.2875   NaN        S"
      ]
     },
     "execution_count": 23,
     "metadata": {},
     "output_type": "execute_result"
    }
   ],
   "source": [
    "# Replicating the same in the test dataset\n",
    "titles_test = test['Name'].str.extract('([A-Za-z]+)\\.', expand = False)\n",
    "df_test = pd.DataFrame(titles_test)\n",
    "test.update(df_test)\n",
    "test.head()"
   ]
  },
  {
   "cell_type": "code",
   "execution_count": 24,
   "metadata": {
    "scrolled": true
   },
   "outputs": [
    {
     "data": {
      "text/plain": [
       "Mr          517\n",
       "Miss        182\n",
       "Mrs         125\n",
       "Master       40\n",
       "Dr            7\n",
       "Rev           6\n",
       "Col           2\n",
       "Major         2\n",
       "Mlle          2\n",
       "Ms            1\n",
       "Sir           1\n",
       "Lady          1\n",
       "Don           1\n",
       "Countess      1\n",
       "Jonkheer      1\n",
       "Capt          1\n",
       "Mme           1\n",
       "Name: Name, dtype: int64"
      ]
     },
     "execution_count": 24,
     "metadata": {},
     "output_type": "execute_result"
    }
   ],
   "source": [
    "train['Name'].value_counts()"
   ]
  },
  {
   "cell_type": "markdown",
   "metadata": {},
   "source": [
    "There are 17 different types of titles used. <br>\n",
    "The major one's being 'Mr', 'Miss', 'Mrs' and 'Master'.  <br>"
   ]
  },
  {
   "cell_type": "code",
   "execution_count": 25,
   "metadata": {},
   "outputs": [
    {
     "data": {
      "text/plain": [
       "<matplotlib.axes._subplots.AxesSubplot at 0x7fda555b9f98>"
      ]
     },
     "execution_count": 25,
     "metadata": {},
     "output_type": "execute_result"
    },
    {
     "data": {
      "image/png": "[encoded data removed]",
      "text/plain": [
       "<Figure size 720x360 with 1 Axes>"
      ]
     },
     "metadata": {},
     "output_type": "display_data"
    }
   ],
   "source": [
    "name_fig = plt.figure(figsize = (10,5))\n",
    "sns.countplot(y = 'Name', data = train)"
   ]
  },
  {
   "cell_type": "markdown",
   "metadata": {},
   "source": [
    "### Feature : Sex\n",
    "Description : Sex of the passenger <br>\n",
    "male : Male <br>\n",
    "female : Female"
   ]
  },
  {
   "cell_type": "code",
   "execution_count": 26,
   "metadata": {},
   "outputs": [
    {
     "data": {
      "text/plain": [
       "male      577\n",
       "female    314\n",
       "Name: Sex, dtype: int64"
      ]
     },
     "execution_count": 26,
     "metadata": {},
     "output_type": "execute_result"
    }
   ],
   "source": [
    "# Sex\n",
    "train.Sex.value_counts(dropna = False)"
   ]
  },
  {
   "cell_type": "code",
   "execution_count": 27,
   "metadata": {
    "scrolled": true
   },
   "outputs": [
    {
     "data": {
      "text/plain": [
       "<matplotlib.axes._subplots.AxesSubplot at 0x7fda55668550>"
      ]
     },
     "execution_count": 27,
     "metadata": {},
     "output_type": "execute_result"
    },
    {
     "data": {
      "image/png": "[encoded data removed]",
      "text/plain": [
       "<Figure size 1440x72 with 1 Axes>"
      ]
     },
     "metadata": {},
     "output_type": "display_data"
    }
   ],
   "source": [
    "sex_fig = plt.figure(figsize = (20,1))\n",
    "sns.countplot(y = 'Sex', data = train)"
   ]
  },
  {
   "cell_type": "markdown",
   "metadata": {},
   "source": [
    "__*The number of male passengers are significantly more than female passengers*__"
   ]
  },
  {
   "cell_type": "code",
   "execution_count": 28,
   "metadata": {},
   "outputs": [
    {
     "data": {
      "text/plain": [
       "<seaborn.axisgrid.FacetGrid at 0x7fda5558cc50>"
      ]
     },
     "execution_count": 28,
     "metadata": {},
     "output_type": "execute_result"
    },
    {
     "data": {
      "image/png": "[encoded data removed]",
      "text/plain": [
       "<Figure size 700.5x360 with 1 Axes>"
      ]
     },
     "metadata": {},
     "output_type": "display_data"
    }
   ],
   "source": [
    "# Number of males and females in each class.\n",
    "fig1 = sns.catplot('Pclass', data = train, hue = 'Sex',kind = 'count', aspect = 1.75)\n",
    "fig1.set_xlabels('Class')"
   ]
  },
  {
   "cell_type": "markdown",
   "metadata": {},
   "source": [
    "The number of male passengers were highest in the third class followed by class 1 and 2. <br>\n",
    "As seen from the previous graph, the number of females on board were quite less than males and the majority of females belonged to the third class."
   ]
  },
  {
   "cell_type": "code",
   "execution_count": 29,
   "metadata": {},
   "outputs": [],
   "source": [
    "# A brief overview of the survivors and non survivors based on their class and sex.\n",
    "table = pd.crosstab(index = [train.Pclass,train.Survived], columns = [train.Sex])"
   ]
  },
  {
   "cell_type": "code",
   "execution_count": 30,
   "metadata": {
    "scrolled": true
   },
   "outputs": [
    {
     "data": {
      "text/html": [
       "<div>\n",
       "<style scoped>\n",
       "    .dataframe tbody tr th:only-of-type {\n",
       "        vertical-align: middle;\n",
       "    }\n",
       "\n",
       "    .dataframe tbody tr th {\n",
       "        vertical-align: top;\n",
       "    }\n",
       "\n",
       "    .dataframe thead tr th {\n",
       "        text-align: left;\n",
       "    }\n",
       "\n",
       "    .dataframe thead tr:last-of-type th {\n",
       "        text-align: right;\n",
       "    }\n",
       "</style>\n",
       "<table border=\"1\" class=\"dataframe\">\n",
       "  <thead>\n",
       "    <tr>\n",
       "      <th>Sex</th>\n",
       "      <th colspan=\"2\" halign=\"left\">female</th>\n",
       "      <th colspan=\"2\" halign=\"left\">male</th>\n",
       "    </tr>\n",
       "    <tr>\n",
       "      <th>Survived</th>\n",
       "      <th>0</th>\n",
       "      <th>1</th>\n",
       "      <th>0</th>\n",
       "      <th>1</th>\n",
       "    </tr>\n",
       "    <tr>\n",
       "      <th>Pclass</th>\n",
       "      <th></th>\n",
       "      <th></th>\n",
       "      <th></th>\n",
       "      <th></th>\n",
       "    </tr>\n",
       "  </thead>\n",
       "  <tbody>\n",
       "    <tr>\n",
       "      <th>1</th>\n",
       "      <td>3</td>\n",
       "      <td>91</td>\n",
       "      <td>77</td>\n",
       "      <td>45</td>\n",
       "    </tr>\n",
       "    <tr>\n",
       "      <th>2</th>\n",
       "      <td>6</td>\n",
       "      <td>70</td>\n",
       "      <td>91</td>\n",
       "      <td>17</td>\n",
       "    </tr>\n",
       "    <tr>\n",
       "      <th>3</th>\n",
       "      <td>72</td>\n",
       "      <td>72</td>\n",
       "      <td>300</td>\n",
       "      <td>47</td>\n",
       "    </tr>\n",
       "  </tbody>\n",
       "</table>\n",
       "</div>"
      ],
      "text/plain": [
       "Sex      female     male    \n",
       "Survived      0   1    0   1\n",
       "Pclass                      \n",
       "1             3  91   77  45\n",
       "2             6  70   91  17\n",
       "3            72  72  300  47"
      ]
     },
     "execution_count": 30,
     "metadata": {},
     "output_type": "execute_result"
    }
   ],
   "source": [
    "table.unstack()"
   ]
  },
  {
   "cell_type": "markdown",
   "metadata": {},
   "source": [
    "The maximum number of people who died were in class 3. This also accompanies the fact that as the number of passengers travelling in the third class was quite high, the chances of having more non survivors can be accounted in that class, when compared to the rest of the classes."
   ]
  },
  {
   "cell_type": "markdown",
   "metadata": {},
   "source": [
    "### Feature : Age\n",
    "Decription : Age of the passenger <br>"
   ]
  },
  {
   "cell_type": "code",
   "execution_count": 31,
   "metadata": {},
   "outputs": [
    {
     "data": {
      "text/plain": [
       "count    714.000000\n",
       "mean      29.699118\n",
       "std       14.526497\n",
       "min        0.420000\n",
       "25%       20.125000\n",
       "50%       28.000000\n",
       "75%       38.000000\n",
       "max       80.000000\n",
       "Name: Age, dtype: float64"
      ]
     },
     "execution_count": 31,
     "metadata": {},
     "output_type": "execute_result"
    }
   ],
   "source": [
    "# Age\n",
    "train.Age.describe()"
   ]
  },
  {
   "cell_type": "markdown",
   "metadata": {},
   "source": [
    "The average age pf people on board were about 29-30 years old (mean). <br>\n",
    "The oldest person onboard was of age 80 and the youngest was a 4 months old baby."
   ]
  },
  {
   "cell_type": "markdown",
   "metadata": {},
   "source": [
    "### Feature: SibSp\n",
    "Description : Number of siblings or spouse on board"
   ]
  },
  {
   "cell_type": "code",
   "execution_count": 32,
   "metadata": {},
   "outputs": [
    {
     "data": {
      "text/plain": [
       "0    608\n",
       "1    209\n",
       "2     28\n",
       "4     18\n",
       "3     16\n",
       "8      7\n",
       "5      5\n",
       "Name: SibSp, dtype: int64"
      ]
     },
     "execution_count": 32,
     "metadata": {},
     "output_type": "execute_result"
    }
   ],
   "source": [
    "# SibSp\n",
    "train.SibSp.value_counts(dropna = False)"
   ]
  },
  {
   "cell_type": "code",
   "execution_count": 33,
   "metadata": {},
   "outputs": [
    {
     "data": {
      "text/plain": [
       "<matplotlib.axes._subplots.AxesSubplot at 0x7fda554caf28>"
      ]
     },
     "execution_count": 33,
     "metadata": {},
     "output_type": "execute_result"
    },
    {
     "data": {
      "image/png": "[encoded data removed]",
      "text/plain": [
       "<Figure size 936x360 with 1 Axes>"
      ]
     },
     "metadata": {},
     "output_type": "display_data"
    }
   ],
   "source": [
    "sibsp_fig = plt.figure(figsize = (13,5))\n",
    "sns.countplot(y = 'SibSp', data = train)"
   ]
  },
  {
   "cell_type": "markdown",
   "metadata": {},
   "source": [
    "The number of passengers who were travelling alone is quite high, i.e., there were about 608 passengers on board who did not\n",
    "travel with either a spouse or a sibling with them.\n",
    "One interesting thin to note here is, the count 5 for 5 SibSp implies that these 5 people might be related ot each other. Lets explore them to dig a little more deep."
   ]
  },
  {
   "cell_type": "code",
   "execution_count": 34,
   "metadata": {},
   "outputs": [
    {
     "data": {
      "text/html": [
       "<div>\n",
       "<style scoped>\n",
       "    .dataframe tbody tr th:only-of-type {\n",
       "        vertical-align: middle;\n",
       "    }\n",
       "\n",
       "    .dataframe tbody tr th {\n",
       "        vertical-align: top;\n",
       "    }\n",
       "\n",
       "    .dataframe thead th {\n",
       "        text-align: right;\n",
       "    }\n",
       "</style>\n",
       "<table border=\"1\" class=\"dataframe\">\n",
       "  <thead>\n",
       "    <tr style=\"text-align: right;\">\n",
       "      <th></th>\n",
       "      <th>Survived</th>\n",
       "      <th>Pclass</th>\n",
       "      <th>Name</th>\n",
       "      <th>Sex</th>\n",
       "      <th>Age</th>\n",
       "      <th>SibSp</th>\n",
       "      <th>Parch</th>\n",
       "      <th>Fare</th>\n",
       "      <th>Cabin</th>\n",
       "      <th>Embarked</th>\n",
       "    </tr>\n",
       "  </thead>\n",
       "  <tbody>\n",
       "    <tr>\n",
       "      <th>59</th>\n",
       "      <td>0</td>\n",
       "      <td>3</td>\n",
       "      <td>Master</td>\n",
       "      <td>male</td>\n",
       "      <td>11.0</td>\n",
       "      <td>5</td>\n",
       "      <td>2</td>\n",
       "      <td>46.9</td>\n",
       "      <td>NaN</td>\n",
       "      <td>S</td>\n",
       "    </tr>\n",
       "    <tr>\n",
       "      <th>71</th>\n",
       "      <td>0</td>\n",
       "      <td>3</td>\n",
       "      <td>Miss</td>\n",
       "      <td>female</td>\n",
       "      <td>16.0</td>\n",
       "      <td>5</td>\n",
       "      <td>2</td>\n",
       "      <td>46.9</td>\n",
       "      <td>NaN</td>\n",
       "      <td>S</td>\n",
       "    </tr>\n",
       "    <tr>\n",
       "      <th>386</th>\n",
       "      <td>0</td>\n",
       "      <td>3</td>\n",
       "      <td>Master</td>\n",
       "      <td>male</td>\n",
       "      <td>1.0</td>\n",
       "      <td>5</td>\n",
       "      <td>2</td>\n",
       "      <td>46.9</td>\n",
       "      <td>NaN</td>\n",
       "      <td>S</td>\n",
       "    </tr>\n",
       "    <tr>\n",
       "      <th>480</th>\n",
       "      <td>0</td>\n",
       "      <td>3</td>\n",
       "      <td>Master</td>\n",
       "      <td>male</td>\n",
       "      <td>9.0</td>\n",
       "      <td>5</td>\n",
       "      <td>2</td>\n",
       "      <td>46.9</td>\n",
       "      <td>NaN</td>\n",
       "      <td>S</td>\n",
       "    </tr>\n",
       "    <tr>\n",
       "      <th>683</th>\n",
       "      <td>0</td>\n",
       "      <td>3</td>\n",
       "      <td>Mr</td>\n",
       "      <td>male</td>\n",
       "      <td>14.0</td>\n",
       "      <td>5</td>\n",
       "      <td>2</td>\n",
       "      <td>46.9</td>\n",
       "      <td>NaN</td>\n",
       "      <td>S</td>\n",
       "    </tr>\n",
       "  </tbody>\n",
       "</table>\n",
       "</div>"
      ],
      "text/plain": [
       "     Survived  Pclass    Name     Sex   Age  SibSp  Parch  Fare Cabin Embarked\n",
       "59          0       3  Master    male  11.0      5      2  46.9   NaN        S\n",
       "71          0       3    Miss  female  16.0      5      2  46.9   NaN        S\n",
       "386         0       3  Master    male   1.0      5      2  46.9   NaN        S\n",
       "480         0       3  Master    male   9.0      5      2  46.9   NaN        S\n",
       "683         0       3      Mr    male  14.0      5      2  46.9   NaN        S"
      ]
     },
     "execution_count": 34,
     "metadata": {},
     "output_type": "execute_result"
    }
   ],
   "source": [
    "train.loc[train['SibSp']== 5]"
   ]
  },
  {
   "cell_type": "markdown",
   "metadata": {},
   "source": [
    "We can say that these 5 people are each other's siblings (kids as young as 1 year old and as old as 16 years old), with both their mother and father on board with them (Parch = 2, for all of them). They boarded the Titanic from Southampton (Emabrked = S). The eldest one was a sister and other four were the brothers (Sex = female, male). Unfortunately, none of the 5 siblings survived the disaster.\n",
    "\n",
    "One more important point to note here is that we could deduce this information only because there were only 5 people on board with 5 siblings. If we try to check for other values of SibSp, we might not get the same insights."
   ]
  },
  {
   "cell_type": "code",
   "execution_count": 35,
   "metadata": {},
   "outputs": [
    {
     "data": {
      "text/html": [
       "<div>\n",
       "<style scoped>\n",
       "    .dataframe tbody tr th:only-of-type {\n",
       "        vertical-align: middle;\n",
       "    }\n",
       "\n",
       "    .dataframe tbody tr th {\n",
       "        vertical-align: top;\n",
       "    }\n",
       "\n",
       "    .dataframe thead th {\n",
       "        text-align: right;\n",
       "    }\n",
       "</style>\n",
       "<table border=\"1\" class=\"dataframe\">\n",
       "  <thead>\n",
       "    <tr style=\"text-align: right;\">\n",
       "      <th></th>\n",
       "      <th>Survived</th>\n",
       "      <th>Pclass</th>\n",
       "      <th>Name</th>\n",
       "      <th>Sex</th>\n",
       "      <th>Age</th>\n",
       "      <th>SibSp</th>\n",
       "      <th>Parch</th>\n",
       "      <th>Fare</th>\n",
       "      <th>Cabin</th>\n",
       "      <th>Embarked</th>\n",
       "    </tr>\n",
       "  </thead>\n",
       "  <tbody>\n",
       "    <tr>\n",
       "      <th>159</th>\n",
       "      <td>0</td>\n",
       "      <td>3</td>\n",
       "      <td>Master</td>\n",
       "      <td>male</td>\n",
       "      <td>NaN</td>\n",
       "      <td>8</td>\n",
       "      <td>2</td>\n",
       "      <td>69.55</td>\n",
       "      <td>NaN</td>\n",
       "      <td>S</td>\n",
       "    </tr>\n",
       "    <tr>\n",
       "      <th>180</th>\n",
       "      <td>0</td>\n",
       "      <td>3</td>\n",
       "      <td>Miss</td>\n",
       "      <td>female</td>\n",
       "      <td>NaN</td>\n",
       "      <td>8</td>\n",
       "      <td>2</td>\n",
       "      <td>69.55</td>\n",
       "      <td>NaN</td>\n",
       "      <td>S</td>\n",
       "    </tr>\n",
       "    <tr>\n",
       "      <th>201</th>\n",
       "      <td>0</td>\n",
       "      <td>3</td>\n",
       "      <td>Mr</td>\n",
       "      <td>male</td>\n",
       "      <td>NaN</td>\n",
       "      <td>8</td>\n",
       "      <td>2</td>\n",
       "      <td>69.55</td>\n",
       "      <td>NaN</td>\n",
       "      <td>S</td>\n",
       "    </tr>\n",
       "    <tr>\n",
       "      <th>324</th>\n",
       "      <td>0</td>\n",
       "      <td>3</td>\n",
       "      <td>Mr</td>\n",
       "      <td>male</td>\n",
       "      <td>NaN</td>\n",
       "      <td>8</td>\n",
       "      <td>2</td>\n",
       "      <td>69.55</td>\n",
       "      <td>NaN</td>\n",
       "      <td>S</td>\n",
       "    </tr>\n",
       "    <tr>\n",
       "      <th>792</th>\n",
       "      <td>0</td>\n",
       "      <td>3</td>\n",
       "      <td>Miss</td>\n",
       "      <td>female</td>\n",
       "      <td>NaN</td>\n",
       "      <td>8</td>\n",
       "      <td>2</td>\n",
       "      <td>69.55</td>\n",
       "      <td>NaN</td>\n",
       "      <td>S</td>\n",
       "    </tr>\n",
       "    <tr>\n",
       "      <th>846</th>\n",
       "      <td>0</td>\n",
       "      <td>3</td>\n",
       "      <td>Mr</td>\n",
       "      <td>male</td>\n",
       "      <td>NaN</td>\n",
       "      <td>8</td>\n",
       "      <td>2</td>\n",
       "      <td>69.55</td>\n",
       "      <td>NaN</td>\n",
       "      <td>S</td>\n",
       "    </tr>\n",
       "    <tr>\n",
       "      <th>863</th>\n",
       "      <td>0</td>\n",
       "      <td>3</td>\n",
       "      <td>Miss</td>\n",
       "      <td>female</td>\n",
       "      <td>NaN</td>\n",
       "      <td>8</td>\n",
       "      <td>2</td>\n",
       "      <td>69.55</td>\n",
       "      <td>NaN</td>\n",
       "      <td>S</td>\n",
       "    </tr>\n",
       "  </tbody>\n",
       "</table>\n",
       "</div>"
      ],
      "text/plain": [
       "     Survived  Pclass    Name     Sex  Age  SibSp  Parch   Fare Cabin Embarked\n",
       "159         0       3  Master    male  NaN      8      2  69.55   NaN        S\n",
       "180         0       3    Miss  female  NaN      8      2  69.55   NaN        S\n",
       "201         0       3      Mr    male  NaN      8      2  69.55   NaN        S\n",
       "324         0       3      Mr    male  NaN      8      2  69.55   NaN        S\n",
       "792         0       3    Miss  female  NaN      8      2  69.55   NaN        S\n",
       "846         0       3      Mr    male  NaN      8      2  69.55   NaN        S\n",
       "863         0       3    Miss  female  NaN      8      2  69.55   NaN        S"
      ]
     },
     "execution_count": 35,
     "metadata": {},
     "output_type": "execute_result"
    }
   ],
   "source": [
    "train.loc[train['SibSp']== 8]"
   ]
  },
  {
   "cell_type": "markdown",
   "metadata": {},
   "source": [
    "Here we can not say anything about the relation between the 8 passengers"
   ]
  },
  {
   "cell_type": "code",
   "execution_count": 36,
   "metadata": {},
   "outputs": [
    {
     "data": {
      "text/html": [
       "<div>\n",
       "<style scoped>\n",
       "    .dataframe tbody tr th:only-of-type {\n",
       "        vertical-align: middle;\n",
       "    }\n",
       "\n",
       "    .dataframe tbody tr th {\n",
       "        vertical-align: top;\n",
       "    }\n",
       "\n",
       "    .dataframe thead th {\n",
       "        text-align: right;\n",
       "    }\n",
       "</style>\n",
       "<table border=\"1\" class=\"dataframe\">\n",
       "  <thead>\n",
       "    <tr style=\"text-align: right;\">\n",
       "      <th></th>\n",
       "      <th>PassengerId</th>\n",
       "      <th>Survived</th>\n",
       "      <th>Pclass</th>\n",
       "      <th>Name</th>\n",
       "      <th>Sex</th>\n",
       "      <th>Age</th>\n",
       "      <th>SibSp</th>\n",
       "      <th>Parch</th>\n",
       "      <th>Ticket</th>\n",
       "      <th>Fare</th>\n",
       "      <th>Cabin</th>\n",
       "      <th>Embarked</th>\n",
       "    </tr>\n",
       "  </thead>\n",
       "  <tbody>\n",
       "    <tr>\n",
       "      <th>159</th>\n",
       "      <td>160</td>\n",
       "      <td>0</td>\n",
       "      <td>3</td>\n",
       "      <td>Sage, Master. Thomas Henry</td>\n",
       "      <td>male</td>\n",
       "      <td>NaN</td>\n",
       "      <td>8</td>\n",
       "      <td>2</td>\n",
       "      <td>CA. 2343</td>\n",
       "      <td>69.55</td>\n",
       "      <td>NaN</td>\n",
       "      <td>S</td>\n",
       "    </tr>\n",
       "    <tr>\n",
       "      <th>180</th>\n",
       "      <td>181</td>\n",
       "      <td>0</td>\n",
       "      <td>3</td>\n",
       "      <td>Sage, Miss. Constance Gladys</td>\n",
       "      <td>female</td>\n",
       "      <td>NaN</td>\n",
       "      <td>8</td>\n",
       "      <td>2</td>\n",
       "      <td>CA. 2343</td>\n",
       "      <td>69.55</td>\n",
       "      <td>NaN</td>\n",
       "      <td>S</td>\n",
       "    </tr>\n",
       "    <tr>\n",
       "      <th>201</th>\n",
       "      <td>202</td>\n",
       "      <td>0</td>\n",
       "      <td>3</td>\n",
       "      <td>Sage, Mr. Frederick</td>\n",
       "      <td>male</td>\n",
       "      <td>NaN</td>\n",
       "      <td>8</td>\n",
       "      <td>2</td>\n",
       "      <td>CA. 2343</td>\n",
       "      <td>69.55</td>\n",
       "      <td>NaN</td>\n",
       "      <td>S</td>\n",
       "    </tr>\n",
       "    <tr>\n",
       "      <th>324</th>\n",
       "      <td>325</td>\n",
       "      <td>0</td>\n",
       "      <td>3</td>\n",
       "      <td>Sage, Mr. George John Jr</td>\n",
       "      <td>male</td>\n",
       "      <td>NaN</td>\n",
       "      <td>8</td>\n",
       "      <td>2</td>\n",
       "      <td>CA. 2343</td>\n",
       "      <td>69.55</td>\n",
       "      <td>NaN</td>\n",
       "      <td>S</td>\n",
       "    </tr>\n",
       "    <tr>\n",
       "      <th>792</th>\n",
       "      <td>793</td>\n",
       "      <td>0</td>\n",
       "      <td>3</td>\n",
       "      <td>Sage, Miss. Stella Anna</td>\n",
       "      <td>female</td>\n",
       "      <td>NaN</td>\n",
       "      <td>8</td>\n",
       "      <td>2</td>\n",
       "      <td>CA. 2343</td>\n",
       "      <td>69.55</td>\n",
       "      <td>NaN</td>\n",
       "      <td>S</td>\n",
       "    </tr>\n",
       "    <tr>\n",
       "      <th>846</th>\n",
       "      <td>847</td>\n",
       "      <td>0</td>\n",
       "      <td>3</td>\n",
       "      <td>Sage, Mr. Douglas Bullen</td>\n",
       "      <td>male</td>\n",
       "      <td>NaN</td>\n",
       "      <td>8</td>\n",
       "      <td>2</td>\n",
       "      <td>CA. 2343</td>\n",
       "      <td>69.55</td>\n",
       "      <td>NaN</td>\n",
       "      <td>S</td>\n",
       "    </tr>\n",
       "    <tr>\n",
       "      <th>863</th>\n",
       "      <td>864</td>\n",
       "      <td>0</td>\n",
       "      <td>3</td>\n",
       "      <td>Sage, Miss. Dorothy Edith \"Dolly\"</td>\n",
       "      <td>female</td>\n",
       "      <td>NaN</td>\n",
       "      <td>8</td>\n",
       "      <td>2</td>\n",
       "      <td>CA. 2343</td>\n",
       "      <td>69.55</td>\n",
       "      <td>NaN</td>\n",
       "      <td>S</td>\n",
       "    </tr>\n",
       "  </tbody>\n",
       "</table>\n",
       "</div>"
      ],
      "text/plain": [
       "     PassengerId  Survived  Pclass                               Name     Sex  \\\n",
       "159          160         0       3         Sage, Master. Thomas Henry    male   \n",
       "180          181         0       3       Sage, Miss. Constance Gladys  female   \n",
       "201          202         0       3                Sage, Mr. Frederick    male   \n",
       "324          325         0       3           Sage, Mr. George John Jr    male   \n",
       "792          793         0       3            Sage, Miss. Stella Anna  female   \n",
       "846          847         0       3           Sage, Mr. Douglas Bullen    male   \n",
       "863          864         0       3  Sage, Miss. Dorothy Edith \"Dolly\"  female   \n",
       "\n",
       "     Age  SibSp  Parch    Ticket   Fare Cabin Embarked  \n",
       "159  NaN      8      2  CA. 2343  69.55   NaN        S  \n",
       "180  NaN      8      2  CA. 2343  69.55   NaN        S  \n",
       "201  NaN      8      2  CA. 2343  69.55   NaN        S  \n",
       "324  NaN      8      2  CA. 2343  69.55   NaN        S  \n",
       "792  NaN      8      2  CA. 2343  69.55   NaN        S  \n",
       "846  NaN      8      2  CA. 2343  69.55   NaN        S  \n",
       "863  NaN      8      2  CA. 2343  69.55   NaN        S  "
      ]
     },
     "execution_count": 36,
     "metadata": {},
     "output_type": "execute_result"
    }
   ],
   "source": [
    "# Let's check these 8 passengers with their names as well\n",
    "train_data.loc[train_data['SibSp'] == 8]"
   ]
  },
  {
   "cell_type": "markdown",
   "metadata": {},
   "source": [
    "The only conclusion we can draw from the names is that all these 8 passengers might be related to each other as they have the same second name."
   ]
  },
  {
   "cell_type": "markdown",
   "metadata": {},
   "source": [
    "### Feature: Parch\n",
    "Description : Number of parents or children onboard"
   ]
  },
  {
   "cell_type": "code",
   "execution_count": 37,
   "metadata": {
    "scrolled": true
   },
   "outputs": [
    {
     "data": {
      "text/plain": [
       "0    678\n",
       "1    118\n",
       "2     80\n",
       "5      5\n",
       "3      5\n",
       "4      4\n",
       "6      1\n",
       "Name: Parch, dtype: int64"
      ]
     },
     "execution_count": 37,
     "metadata": {},
     "output_type": "execute_result"
    }
   ],
   "source": [
    "# Prach\n",
    "train.Parch.value_counts(dropna = False)"
   ]
  },
  {
   "cell_type": "code",
   "execution_count": 38,
   "metadata": {},
   "outputs": [
    {
     "data": {
      "text/plain": [
       "<matplotlib.axes._subplots.AxesSubplot at 0x7fda55422710>"
      ]
     },
     "execution_count": 38,
     "metadata": {},
     "output_type": "execute_result"
    },
    {
     "data": {
      "image/png": "[encoded data removed]",
      "text/plain": [
       "<Figure size 1080x216 with 1 Axes>"
      ]
     },
     "metadata": {},
     "output_type": "display_data"
    }
   ],
   "source": [
    "parch_fig = plt.figure(figsize = (15,3))\n",
    "sns.countplot(y = 'Parch', data = train)"
   ]
  },
  {
   "cell_type": "markdown",
   "metadata": {},
   "source": [
    "There are 678 people who are neither accompanied by their parents or children on Titanic."
   ]
  },
  {
   "cell_type": "code",
   "execution_count": 39,
   "metadata": {},
   "outputs": [
    {
     "data": {
      "text/plain": [
       "537"
      ]
     },
     "execution_count": 39,
     "metadata": {},
     "output_type": "execute_result"
    }
   ],
   "source": [
    "len(train[(train['SibSp'] == 0) & (train['Parch'] == 0)])"
   ]
  },
  {
   "cell_type": "markdown",
   "metadata": {},
   "source": [
    "So there are 537 passengers on board who are indivduals with no spouse, siblings, parent or children with them on board."
   ]
  },
  {
   "cell_type": "markdown",
   "metadata": {},
   "source": [
    "### Feature: Fare\n",
    "Description : Ticket cost of the passenger"
   ]
  },
  {
   "cell_type": "code",
   "execution_count": 40,
   "metadata": {},
   "outputs": [
    {
     "data": {
      "text/plain": [
       "count    891.000000\n",
       "mean      32.204208\n",
       "std       49.693429\n",
       "min        0.000000\n",
       "25%        7.910400\n",
       "50%       14.454200\n",
       "75%       31.000000\n",
       "max      512.329200\n",
       "Name: Fare, dtype: float64"
      ]
     },
     "execution_count": 40,
     "metadata": {},
     "output_type": "execute_result"
    }
   ],
   "source": [
    "# Fare\n",
    "train.Fare.describe()"
   ]
  },
  {
   "cell_type": "markdown",
   "metadata": {},
   "source": [
    "The maximum fare of Titanic was 512.32920. <br>"
   ]
  },
  {
   "cell_type": "markdown",
   "metadata": {},
   "source": [
    "### Feature: Cabin\n",
    "Description : Cabin number of the passenger"
   ]
  },
  {
   "cell_type": "code",
   "execution_count": 41,
   "metadata": {
    "scrolled": true
   },
   "outputs": [
    {
     "data": {
      "text/plain": [
       "NaN            687\n",
       "B96 B98          4\n",
       "C23 C25 C27      4\n",
       "G6               4\n",
       "F33              3\n",
       "C22 C26          3\n",
       "D                3\n",
       "F2               3\n",
       "E101             3\n",
       "D33              2\n",
       "B35              2\n",
       "D26              2\n",
       "E8               2\n",
       "C68              2\n",
       "C125             2\n",
       "E44              2\n",
       "E25              2\n",
       "B18              2\n",
       "C52              2\n",
       "D20              2\n",
       "C126             2\n",
       "C123             2\n",
       "E121             2\n",
       "F G73            2\n",
       "C92              2\n",
       "B51 B53 B55      2\n",
       "F4               2\n",
       "E24              2\n",
       "B20              2\n",
       "B5               2\n",
       "              ... \n",
       "E77              1\n",
       "B37              1\n",
       "C91              1\n",
       "C70              1\n",
       "C106             1\n",
       "A10              1\n",
       "B30              1\n",
       "B78              1\n",
       "C62 C64          1\n",
       "A31              1\n",
       "E36              1\n",
       "A5               1\n",
       "D6               1\n",
       "E68              1\n",
       "C111             1\n",
       "B102             1\n",
       "B101             1\n",
       "C110             1\n",
       "C49              1\n",
       "D49              1\n",
       "F38              1\n",
       "D47              1\n",
       "E17              1\n",
       "A6               1\n",
       "C99              1\n",
       "F E69            1\n",
       "E10              1\n",
       "D15              1\n",
       "D46              1\n",
       "C103             1\n",
       "Name: Cabin, Length: 148, dtype: int64"
      ]
     },
     "execution_count": 41,
     "metadata": {},
     "output_type": "execute_result"
    }
   ],
   "source": [
    "# Cabin\n",
    "train.Cabin.value_counts(dropna = False)"
   ]
  },
  {
   "cell_type": "markdown",
   "metadata": {},
   "source": [
    "There are a total of 148 cabin types in Titanic. <br>\n",
    "We can segregate these by deck where <br>\n",
    "A - Boat Deck, <br>\n",
    "B - Promenade Deck, <br>\n",
    "C - Bridge Deck, <br>\n",
    "D - Shelter Deck, <br>\n",
    "E - Saloon Deck, <br>\n",
    "F - Upper Deck, <br>\n",
    "G - Middle Deck <br>"
   ]
  },
  {
   "cell_type": "markdown",
   "metadata": {},
   "source": [
    "The first letter of the Cabin tells us about the deck on which the cabin is. So, making use of this information, we can split the cabin numbers from the deck and use that to identify which deck has more survival chances.\n",
    "This is done because the frequency of each of 148 cabin types is either 1,2,3 or 4 which does not contribute in our analysis."
   ]
  },
  {
   "cell_type": "markdown",
   "metadata": {},
   "source": [
    "__*Assumptions used:*__ <br>\n",
    "__1. Cabin entries like 'C23 C25 C27' will be replaced by 'C' assuming that the passenger belonged to deck C__ <br>\n",
    "__2. Cabin entries like 'F G63' will be replaced by 'F' assuming the passenger belonged to deck F (This is based on the information provided online about Titanic that level G was used for storage and there were no cabins on that level of Titanic)__\n"
   ]
  },
  {
   "cell_type": "code",
   "execution_count": 42,
   "metadata": {},
   "outputs": [],
   "source": [
    "cabins = train['Cabin'].str[0]\n",
    "df = pd.DataFrame(cabins)\n",
    "train.update(df)"
   ]
  },
  {
   "cell_type": "code",
   "execution_count": 43,
   "metadata": {},
   "outputs": [
    {
     "data": {
      "text/plain": [
       "<matplotlib.axes._subplots.AxesSubplot at 0x7fda553d4c18>"
      ]
     },
     "execution_count": 43,
     "metadata": {},
     "output_type": "execute_result"
    },
    {
     "data": {
      "image/png": "[encoded data removed]",
      "text/plain": [
       "<Figure size 1080x216 with 1 Axes>"
      ]
     },
     "metadata": {},
     "output_type": "display_data"
    }
   ],
   "source": [
    "cabin_fig = plt.figure(figsize = (15,3))\n",
    "sns.countplot(y = 'Cabin', data = train)"
   ]
  },
  {
   "cell_type": "code",
   "execution_count": 44,
   "metadata": {},
   "outputs": [],
   "source": [
    "# Replicating the same in the test dataset to maintain consistency\n",
    "cabin = test['Cabin'].str[0]\n",
    "df_test = pd.DataFrame(cabin)\n",
    "test.update(df_test)"
   ]
  },
  {
   "cell_type": "markdown",
   "metadata": {},
   "source": [
    "### Feature: Embarked\n",
    "Description : Port of embarkation of each passenger <br>\n",
    "C : Cherbourg <br>\n",
    "Q : Queenstown <br>\n",
    "S : Southampton <br>\n",
    "The first point of start for Titanic was Southampton followed  by Queenstown and then Cherbourg"
   ]
  },
  {
   "cell_type": "code",
   "execution_count": 45,
   "metadata": {},
   "outputs": [
    {
     "data": {
      "text/plain": [
       "S      644\n",
       "C      168\n",
       "Q       77\n",
       "NaN      2\n",
       "Name: Embarked, dtype: int64"
      ]
     },
     "execution_count": 45,
     "metadata": {},
     "output_type": "execute_result"
    }
   ],
   "source": [
    "# Embarked\n",
    "train.Embarked.value_counts(dropna = False)"
   ]
  },
  {
   "cell_type": "code",
   "execution_count": 46,
   "metadata": {},
   "outputs": [
    {
     "data": {
      "text/plain": [
       "<matplotlib.axes._subplots.AxesSubplot at 0x7fda553c7940>"
      ]
     },
     "execution_count": 46,
     "metadata": {},
     "output_type": "execute_result"
    },
    {
     "data": {
      "image/png": "[encoded data removed]",
      "text/plain": [
       "<Figure size 1080x216 with 1 Axes>"
      ]
     },
     "metadata": {},
     "output_type": "display_data"
    }
   ],
   "source": [
    "embarked_fig = plt.figure(figsize = (15,3))\n",
    "sns.countplot(y = 'Embarked', data = train)"
   ]
  },
  {
   "cell_type": "markdown",
   "metadata": {},
   "source": [
    "This shows  that maximum number of people boarded Titanic from Southampton, which was the starting point of the sail.<br>\n",
    "We have 2 NaN values. "
   ]
  },
  {
   "cell_type": "markdown",
   "metadata": {},
   "source": [
    "### 2.4 Handling missing data"
   ]
  },
  {
   "cell_type": "code",
   "execution_count": 47,
   "metadata": {
    "scrolled": true
   },
   "outputs": [
    {
     "data": {
      "text/plain": [
       "Survived      0\n",
       "Pclass        0\n",
       "Name          0\n",
       "Sex           0\n",
       "Age         177\n",
       "SibSp         0\n",
       "Parch         0\n",
       "Fare          0\n",
       "Cabin       687\n",
       "Embarked      2\n",
       "dtype: int64"
      ]
     },
     "execution_count": 47,
     "metadata": {},
     "output_type": "execute_result"
    }
   ],
   "source": [
    "# First we check for missing values in the dataset\n",
    "train.isnull().sum()"
   ]
  },
  {
   "cell_type": "code",
   "execution_count": 48,
   "metadata": {},
   "outputs": [
    {
     "data": {
      "text/plain": [
       "<matplotlib.axes._subplots.AxesSubplot at 0x7fda552bc6a0>"
      ]
     },
     "execution_count": 48,
     "metadata": {},
     "output_type": "execute_result"
    },
    {
     "data": {
      "image/png": "[encoded data removed]",
      "text/plain": [
       "<Figure size 2160x720 with 2 Axes>"
      ]
     },
     "metadata": {},
     "output_type": "display_data"
    }
   ],
   "source": [
    "# Visually analysing the columns with missing values\n",
    "missingno.matrix(train, figsize = (30,10))"
   ]
  },
  {
   "cell_type": "markdown",
   "metadata": {},
   "source": [
    "Out of 10 columns, 3 columns consists of missing data <br>\n",
    "Age : 177 missing values <br>\n",
    "Cabin : 687 missing values <br>\n",
    "Embarked : 2 missing values <br>\n",
    "Column 'Cabin' consists of maximum number of null values"
   ]
  },
  {
   "cell_type": "code",
   "execution_count": 49,
   "metadata": {},
   "outputs": [
    {
     "data": {
      "text/plain": [
       "Pclass        0\n",
       "Name          0\n",
       "Sex           0\n",
       "Age          86\n",
       "SibSp         0\n",
       "Parch         0\n",
       "Fare          1\n",
       "Cabin       327\n",
       "Embarked      0\n",
       "dtype: int64"
      ]
     },
     "execution_count": 49,
     "metadata": {},
     "output_type": "execute_result"
    }
   ],
   "source": [
    "# Checking for missing values in test data set\n",
    "test.isnull().sum()"
   ]
  },
  {
   "cell_type": "markdown",
   "metadata": {},
   "source": [
    "Out of 9 columns, 3 columns consists of missing data <br>\n",
    "Age : 86 missing values <br>\n",
    "Fare : 1 missing values <br>\n",
    "Cabin : 327 missing values <br>\n",
    "Column 'Cabin' consists of maximum number of null values"
   ]
  },
  {
   "cell_type": "markdown",
   "metadata": {},
   "source": [
    "#### Missing values in 'Age'"
   ]
  },
  {
   "cell_type": "markdown",
   "metadata": {},
   "source": [
    "'Age' contains about 20% of missing values. <br>\n",
    "This can be handled by inserting appropriate age values using the salutations in the Name of the passenger."
   ]
  },
  {
   "cell_type": "code",
   "execution_count": 50,
   "metadata": {
    "scrolled": true
   },
   "outputs": [
    {
     "data": {
      "text/plain": [
       "Name\n",
       "Capt        70.000000\n",
       "Col         58.000000\n",
       "Countess    33.000000\n",
       "Don         40.000000\n",
       "Dr          42.000000\n",
       "Jonkheer    38.000000\n",
       "Lady        48.000000\n",
       "Major       48.500000\n",
       "Master       4.574167\n",
       "Miss        21.773973\n",
       "Mlle        24.000000\n",
       "Mme         24.000000\n",
       "Mr          32.368090\n",
       "Mrs         35.898148\n",
       "Ms          28.000000\n",
       "Rev         43.166667\n",
       "Sir         49.000000\n",
       "Name: Age, dtype: float64"
      ]
     },
     "execution_count": 50,
     "metadata": {},
     "output_type": "execute_result"
    }
   ],
   "source": [
    "means = train.groupby('Name')['Age'].mean()\n",
    "means"
   ]
  },
  {
   "cell_type": "code",
   "execution_count": 51,
   "metadata": {},
   "outputs": [
    {
     "data": {
      "text/plain": [
       "{'Capt': 70.0,\n",
       " 'Col': 58.0,\n",
       " 'Countess': 33.0,\n",
       " 'Don': 40.0,\n",
       " 'Dr': 42.0,\n",
       " 'Jonkheer': 38.0,\n",
       " 'Lady': 48.0,\n",
       " 'Major': 48.5,\n",
       " 'Master': 4.574166666666667,\n",
       " 'Miss': 21.773972602739725,\n",
       " 'Mlle': 24.0,\n",
       " 'Mme': 24.0,\n",
       " 'Mr': 32.368090452261306,\n",
       " 'Mrs': 35.898148148148145,\n",
       " 'Ms': 28.0,\n",
       " 'Rev': 43.166666666666664,\n",
       " 'Sir': 49.0}"
      ]
     },
     "execution_count": 51,
     "metadata": {},
     "output_type": "execute_result"
    }
   ],
   "source": [
    "# Saving these mean ages in a dictionary\n",
    "mean_ages = means.to_dict()\n",
    "mean_ages"
   ]
  },
  {
   "cell_type": "code",
   "execution_count": 52,
   "metadata": {},
   "outputs": [
    {
     "data": {
      "text/html": [
       "<div>\n",
       "<style scoped>\n",
       "    .dataframe tbody tr th:only-of-type {\n",
       "        vertical-align: middle;\n",
       "    }\n",
       "\n",
       "    .dataframe tbody tr th {\n",
       "        vertical-align: top;\n",
       "    }\n",
       "\n",
       "    .dataframe thead th {\n",
       "        text-align: right;\n",
       "    }\n",
       "</style>\n",
       "<table border=\"1\" class=\"dataframe\">\n",
       "  <thead>\n",
       "    <tr style=\"text-align: right;\">\n",
       "      <th></th>\n",
       "      <th>Survived</th>\n",
       "      <th>Pclass</th>\n",
       "      <th>Name</th>\n",
       "      <th>Sex</th>\n",
       "      <th>Age</th>\n",
       "      <th>SibSp</th>\n",
       "      <th>Parch</th>\n",
       "      <th>Fare</th>\n",
       "      <th>Cabin</th>\n",
       "      <th>Embarked</th>\n",
       "    </tr>\n",
       "  </thead>\n",
       "  <tbody>\n",
       "    <tr>\n",
       "      <th>0</th>\n",
       "      <td>0</td>\n",
       "      <td>3</td>\n",
       "      <td>Mr</td>\n",
       "      <td>male</td>\n",
       "      <td>22.000000</td>\n",
       "      <td>1</td>\n",
       "      <td>0</td>\n",
       "      <td>7.2500</td>\n",
       "      <td>NaN</td>\n",
       "      <td>S</td>\n",
       "    </tr>\n",
       "    <tr>\n",
       "      <th>1</th>\n",
       "      <td>1</td>\n",
       "      <td>1</td>\n",
       "      <td>Mrs</td>\n",
       "      <td>female</td>\n",
       "      <td>38.000000</td>\n",
       "      <td>1</td>\n",
       "      <td>0</td>\n",
       "      <td>71.2833</td>\n",
       "      <td>C</td>\n",
       "      <td>C</td>\n",
       "    </tr>\n",
       "    <tr>\n",
       "      <th>2</th>\n",
       "      <td>1</td>\n",
       "      <td>3</td>\n",
       "      <td>Miss</td>\n",
       "      <td>female</td>\n",
       "      <td>26.000000</td>\n",
       "      <td>0</td>\n",
       "      <td>0</td>\n",
       "      <td>7.9250</td>\n",
       "      <td>NaN</td>\n",
       "      <td>S</td>\n",
       "    </tr>\n",
       "    <tr>\n",
       "      <th>3</th>\n",
       "      <td>1</td>\n",
       "      <td>1</td>\n",
       "      <td>Mrs</td>\n",
       "      <td>female</td>\n",
       "      <td>35.000000</td>\n",
       "      <td>1</td>\n",
       "      <td>0</td>\n",
       "      <td>53.1000</td>\n",
       "      <td>C</td>\n",
       "      <td>S</td>\n",
       "    </tr>\n",
       "    <tr>\n",
       "      <th>4</th>\n",
       "      <td>0</td>\n",
       "      <td>3</td>\n",
       "      <td>Mr</td>\n",
       "      <td>male</td>\n",
       "      <td>35.000000</td>\n",
       "      <td>0</td>\n",
       "      <td>0</td>\n",
       "      <td>8.0500</td>\n",
       "      <td>NaN</td>\n",
       "      <td>S</td>\n",
       "    </tr>\n",
       "    <tr>\n",
       "      <th>5</th>\n",
       "      <td>0</td>\n",
       "      <td>3</td>\n",
       "      <td>Mr</td>\n",
       "      <td>male</td>\n",
       "      <td>32.368090</td>\n",
       "      <td>0</td>\n",
       "      <td>0</td>\n",
       "      <td>8.4583</td>\n",
       "      <td>NaN</td>\n",
       "      <td>Q</td>\n",
       "    </tr>\n",
       "    <tr>\n",
       "      <th>6</th>\n",
       "      <td>0</td>\n",
       "      <td>1</td>\n",
       "      <td>Mr</td>\n",
       "      <td>male</td>\n",
       "      <td>54.000000</td>\n",
       "      <td>0</td>\n",
       "      <td>0</td>\n",
       "      <td>51.8625</td>\n",
       "      <td>E</td>\n",
       "      <td>S</td>\n",
       "    </tr>\n",
       "    <tr>\n",
       "      <th>7</th>\n",
       "      <td>0</td>\n",
       "      <td>3</td>\n",
       "      <td>Master</td>\n",
       "      <td>male</td>\n",
       "      <td>2.000000</td>\n",
       "      <td>3</td>\n",
       "      <td>1</td>\n",
       "      <td>21.0750</td>\n",
       "      <td>NaN</td>\n",
       "      <td>S</td>\n",
       "    </tr>\n",
       "    <tr>\n",
       "      <th>8</th>\n",
       "      <td>1</td>\n",
       "      <td>3</td>\n",
       "      <td>Mrs</td>\n",
       "      <td>female</td>\n",
       "      <td>27.000000</td>\n",
       "      <td>0</td>\n",
       "      <td>2</td>\n",
       "      <td>11.1333</td>\n",
       "      <td>NaN</td>\n",
       "      <td>S</td>\n",
       "    </tr>\n",
       "    <tr>\n",
       "      <th>9</th>\n",
       "      <td>1</td>\n",
       "      <td>2</td>\n",
       "      <td>Mrs</td>\n",
       "      <td>female</td>\n",
       "      <td>14.000000</td>\n",
       "      <td>1</td>\n",
       "      <td>0</td>\n",
       "      <td>30.0708</td>\n",
       "      <td>NaN</td>\n",
       "      <td>C</td>\n",
       "    </tr>\n",
       "    <tr>\n",
       "      <th>10</th>\n",
       "      <td>1</td>\n",
       "      <td>3</td>\n",
       "      <td>Miss</td>\n",
       "      <td>female</td>\n",
       "      <td>4.000000</td>\n",
       "      <td>1</td>\n",
       "      <td>1</td>\n",
       "      <td>16.7000</td>\n",
       "      <td>G</td>\n",
       "      <td>S</td>\n",
       "    </tr>\n",
       "    <tr>\n",
       "      <th>11</th>\n",
       "      <td>1</td>\n",
       "      <td>1</td>\n",
       "      <td>Miss</td>\n",
       "      <td>female</td>\n",
       "      <td>58.000000</td>\n",
       "      <td>0</td>\n",
       "      <td>0</td>\n",
       "      <td>26.5500</td>\n",
       "      <td>C</td>\n",
       "      <td>S</td>\n",
       "    </tr>\n",
       "    <tr>\n",
       "      <th>12</th>\n",
       "      <td>0</td>\n",
       "      <td>3</td>\n",
       "      <td>Mr</td>\n",
       "      <td>male</td>\n",
       "      <td>20.000000</td>\n",
       "      <td>0</td>\n",
       "      <td>0</td>\n",
       "      <td>8.0500</td>\n",
       "      <td>NaN</td>\n",
       "      <td>S</td>\n",
       "    </tr>\n",
       "    <tr>\n",
       "      <th>13</th>\n",
       "      <td>0</td>\n",
       "      <td>3</td>\n",
       "      <td>Mr</td>\n",
       "      <td>male</td>\n",
       "      <td>39.000000</td>\n",
       "      <td>1</td>\n",
       "      <td>5</td>\n",
       "      <td>31.2750</td>\n",
       "      <td>NaN</td>\n",
       "      <td>S</td>\n",
       "    </tr>\n",
       "    <tr>\n",
       "      <th>14</th>\n",
       "      <td>0</td>\n",
       "      <td>3</td>\n",
       "      <td>Miss</td>\n",
       "      <td>female</td>\n",
       "      <td>14.000000</td>\n",
       "      <td>0</td>\n",
       "      <td>0</td>\n",
       "      <td>7.8542</td>\n",
       "      <td>NaN</td>\n",
       "      <td>S</td>\n",
       "    </tr>\n",
       "    <tr>\n",
       "      <th>15</th>\n",
       "      <td>1</td>\n",
       "      <td>2</td>\n",
       "      <td>Mrs</td>\n",
       "      <td>female</td>\n",
       "      <td>55.000000</td>\n",
       "      <td>0</td>\n",
       "      <td>0</td>\n",
       "      <td>16.0000</td>\n",
       "      <td>NaN</td>\n",
       "      <td>S</td>\n",
       "    </tr>\n",
       "    <tr>\n",
       "      <th>16</th>\n",
       "      <td>0</td>\n",
       "      <td>3</td>\n",
       "      <td>Master</td>\n",
       "      <td>male</td>\n",
       "      <td>2.000000</td>\n",
       "      <td>4</td>\n",
       "      <td>1</td>\n",
       "      <td>29.1250</td>\n",
       "      <td>NaN</td>\n",
       "      <td>Q</td>\n",
       "    </tr>\n",
       "    <tr>\n",
       "      <th>17</th>\n",
       "      <td>1</td>\n",
       "      <td>2</td>\n",
       "      <td>Mr</td>\n",
       "      <td>male</td>\n",
       "      <td>32.368090</td>\n",
       "      <td>0</td>\n",
       "      <td>0</td>\n",
       "      <td>13.0000</td>\n",
       "      <td>NaN</td>\n",
       "      <td>S</td>\n",
       "    </tr>\n",
       "    <tr>\n",
       "      <th>18</th>\n",
       "      <td>0</td>\n",
       "      <td>3</td>\n",
       "      <td>Mrs</td>\n",
       "      <td>female</td>\n",
       "      <td>31.000000</td>\n",
       "      <td>1</td>\n",
       "      <td>0</td>\n",
       "      <td>18.0000</td>\n",
       "      <td>NaN</td>\n",
       "      <td>S</td>\n",
       "    </tr>\n",
       "    <tr>\n",
       "      <th>19</th>\n",
       "      <td>1</td>\n",
       "      <td>3</td>\n",
       "      <td>Mrs</td>\n",
       "      <td>female</td>\n",
       "      <td>35.898148</td>\n",
       "      <td>0</td>\n",
       "      <td>0</td>\n",
       "      <td>7.2250</td>\n",
       "      <td>NaN</td>\n",
       "      <td>C</td>\n",
       "    </tr>\n",
       "  </tbody>\n",
       "</table>\n",
       "</div>"
      ],
      "text/plain": [
       "    Survived  Pclass    Name     Sex        Age  SibSp  Parch     Fare Cabin  \\\n",
       "0          0       3      Mr    male  22.000000      1      0   7.2500   NaN   \n",
       "1          1       1     Mrs  female  38.000000      1      0  71.2833     C   \n",
       "2          1       3    Miss  female  26.000000      0      0   7.9250   NaN   \n",
       "3          1       1     Mrs  female  35.000000      1      0  53.1000     C   \n",
       "4          0       3      Mr    male  35.000000      0      0   8.0500   NaN   \n",
       "5          0       3      Mr    male  32.368090      0      0   8.4583   NaN   \n",
       "6          0       1      Mr    male  54.000000      0      0  51.8625     E   \n",
       "7          0       3  Master    male   2.000000      3      1  21.0750   NaN   \n",
       "8          1       3     Mrs  female  27.000000      0      2  11.1333   NaN   \n",
       "9          1       2     Mrs  female  14.000000      1      0  30.0708   NaN   \n",
       "10         1       3    Miss  female   4.000000      1      1  16.7000     G   \n",
       "11         1       1    Miss  female  58.000000      0      0  26.5500     C   \n",
       "12         0       3      Mr    male  20.000000      0      0   8.0500   NaN   \n",
       "13         0       3      Mr    male  39.000000      1      5  31.2750   NaN   \n",
       "14         0       3    Miss  female  14.000000      0      0   7.8542   NaN   \n",
       "15         1       2     Mrs  female  55.000000      0      0  16.0000   NaN   \n",
       "16         0       3  Master    male   2.000000      4      1  29.1250   NaN   \n",
       "17         1       2      Mr    male  32.368090      0      0  13.0000   NaN   \n",
       "18         0       3     Mrs  female  31.000000      1      0  18.0000   NaN   \n",
       "19         1       3     Mrs  female  35.898148      0      0   7.2250   NaN   \n",
       "\n",
       "   Embarked  \n",
       "0         S  \n",
       "1         C  \n",
       "2         S  \n",
       "3         S  \n",
       "4         S  \n",
       "5         Q  \n",
       "6         S  \n",
       "7         S  \n",
       "8         S  \n",
       "9         C  \n",
       "10        S  \n",
       "11        S  \n",
       "12        S  \n",
       "13        S  \n",
       "14        S  \n",
       "15        S  \n",
       "16        Q  \n",
       "17        S  \n",
       "18        S  \n",
       "19        C  "
      ]
     },
     "execution_count": 52,
     "metadata": {},
     "output_type": "execute_result"
    }
   ],
   "source": [
    "# Imputing ages based on title in the name\n",
    "age_index = train.loc[np.isnan(train['Age'])].index\n",
    "train.loc[age_index,'Age'] = train['Name'].loc[age_index].map(mean_ages)\n",
    "train.head(20)"
   ]
  },
  {
   "cell_type": "markdown",
   "metadata": {},
   "source": [
    "All the NaN values in 'Age' are now replaced with the dictioanry mapping of the title in passenger's name."
   ]
  },
  {
   "cell_type": "code",
   "execution_count": 53,
   "metadata": {
    "scrolled": true
   },
   "outputs": [
    {
     "data": {
      "text/plain": [
       "Survived      0\n",
       "Pclass        0\n",
       "Name          0\n",
       "Sex           0\n",
       "Age           0\n",
       "SibSp         0\n",
       "Parch         0\n",
       "Fare          0\n",
       "Cabin       687\n",
       "Embarked      2\n",
       "dtype: int64"
      ]
     },
     "execution_count": 53,
     "metadata": {},
     "output_type": "execute_result"
    }
   ],
   "source": [
    "train.isnull().sum()"
   ]
  },
  {
   "cell_type": "code",
   "execution_count": 54,
   "metadata": {
    "scrolled": true
   },
   "outputs": [
    {
     "data": {
      "text/plain": [
       "<matplotlib.axes._subplots.AxesSubplot at 0x7fda5521c1d0>"
      ]
     },
     "execution_count": 54,
     "metadata": {},
     "output_type": "execute_result"
    },
    {
     "data": {
      "image/png": "[encoded data removed]",
      "text/plain": [
       "<Figure size 2160x720 with 2 Axes>"
      ]
     },
     "metadata": {},
     "output_type": "display_data"
    }
   ],
   "source": [
    "missingno.matrix(train, figsize = (30,10))"
   ]
  },
  {
   "cell_type": "markdown",
   "metadata": {},
   "source": [
    "*Now there are no missing values in 'Age'*"
   ]
  },
  {
   "cell_type": "code",
   "execution_count": 55,
   "metadata": {},
   "outputs": [
    {
     "data": {
      "text/plain": [
       "Name\n",
       "Col       50.000000\n",
       "Dona      39.000000\n",
       "Dr        53.000000\n",
       "Master     7.406471\n",
       "Miss      21.774844\n",
       "Mr        32.000000\n",
       "Mrs       38.903226\n",
       "Ms              NaN\n",
       "Rev       35.500000\n",
       "Name: Age, dtype: float64"
      ]
     },
     "execution_count": 55,
     "metadata": {},
     "output_type": "execute_result"
    }
   ],
   "source": [
    "# Replicating the same in test dataset\n",
    "means_test = test.groupby('Name')['Age'].mean()\n",
    "means_test"
   ]
  },
  {
   "cell_type": "code",
   "execution_count": 56,
   "metadata": {
    "scrolled": true
   },
   "outputs": [
    {
     "data": {
      "text/plain": [
       "{'Col': 50.0,\n",
       " 'Dona': 39.0,\n",
       " 'Dr': 53.0,\n",
       " 'Master': 7.406470588235294,\n",
       " 'Miss': 21.774843750000002,\n",
       " 'Mr': 32.0,\n",
       " 'Mrs': 38.903225806451616,\n",
       " 'Ms': nan,\n",
       " 'Rev': 35.5}"
      ]
     },
     "execution_count": 56,
     "metadata": {},
     "output_type": "execute_result"
    }
   ],
   "source": [
    "# Saving these mean ages in a dictionary\n",
    "mean_ages_test = means_test.to_dict()\n",
    "mean_ages_test"
   ]
  },
  {
   "cell_type": "code",
   "execution_count": 57,
   "metadata": {},
   "outputs": [],
   "source": [
    "# Imputing ages based on title in the name\n",
    "age_index_test = test.loc[np.isnan(test['Age'])].index\n",
    "test.loc[age_index_test,'Age'] = test['Name'].loc[age_index_test].map(mean_ages_test)"
   ]
  },
  {
   "cell_type": "code",
   "execution_count": 58,
   "metadata": {
    "scrolled": true
   },
   "outputs": [
    {
     "data": {
      "text/plain": [
       "Pclass        0\n",
       "Name          0\n",
       "Sex           0\n",
       "Age           1\n",
       "SibSp         0\n",
       "Parch         0\n",
       "Fare          1\n",
       "Cabin       327\n",
       "Embarked      0\n",
       "dtype: int64"
      ]
     },
     "execution_count": 58,
     "metadata": {},
     "output_type": "execute_result"
    }
   ],
   "source": [
    "test.isnull().sum()"
   ]
  },
  {
   "cell_type": "markdown",
   "metadata": {},
   "source": [
    "There is still one missing value in 'Age' column. <br>\n",
    "This may be due to the fact that the 'Name' entry of that passenger contains the value 'Ms'. <br>\n",
    "Since there is just one entry of 'Ms' the mean age can not be calculated and we can remove this entry from the test set."
   ]
  },
  {
   "cell_type": "code",
   "execution_count": 59,
   "metadata": {},
   "outputs": [
    {
     "data": {
      "text/html": [
       "<div>\n",
       "<style scoped>\n",
       "    .dataframe tbody tr th:only-of-type {\n",
       "        vertical-align: middle;\n",
       "    }\n",
       "\n",
       "    .dataframe tbody tr th {\n",
       "        vertical-align: top;\n",
       "    }\n",
       "\n",
       "    .dataframe thead th {\n",
       "        text-align: right;\n",
       "    }\n",
       "</style>\n",
       "<table border=\"1\" class=\"dataframe\">\n",
       "  <thead>\n",
       "    <tr style=\"text-align: right;\">\n",
       "      <th></th>\n",
       "      <th>Pclass</th>\n",
       "      <th>Name</th>\n",
       "      <th>Sex</th>\n",
       "      <th>Age</th>\n",
       "      <th>SibSp</th>\n",
       "      <th>Parch</th>\n",
       "      <th>Fare</th>\n",
       "      <th>Cabin</th>\n",
       "      <th>Embarked</th>\n",
       "    </tr>\n",
       "  </thead>\n",
       "  <tbody>\n",
       "    <tr>\n",
       "      <th>88</th>\n",
       "      <td>3</td>\n",
       "      <td>Ms</td>\n",
       "      <td>female</td>\n",
       "      <td>NaN</td>\n",
       "      <td>0</td>\n",
       "      <td>0</td>\n",
       "      <td>7.75</td>\n",
       "      <td>NaN</td>\n",
       "      <td>Q</td>\n",
       "    </tr>\n",
       "  </tbody>\n",
       "</table>\n",
       "</div>"
      ],
      "text/plain": [
       "    Pclass Name     Sex  Age  SibSp  Parch  Fare Cabin Embarked\n",
       "88       3   Ms  female  NaN      0      0  7.75   NaN        Q"
      ]
     },
     "execution_count": 59,
     "metadata": {},
     "output_type": "execute_result"
    }
   ],
   "source": [
    "test.loc[np.isnan(test['Age'])]"
   ]
  },
  {
   "cell_type": "code",
   "execution_count": 60,
   "metadata": {
    "scrolled": true
   },
   "outputs": [
    {
     "data": {
      "text/plain": [
       "Pclass        0\n",
       "Name          0\n",
       "Sex           0\n",
       "Age           0\n",
       "SibSp         0\n",
       "Parch         0\n",
       "Fare          1\n",
       "Cabin       326\n",
       "Embarked      0\n",
       "dtype: int64"
      ]
     },
     "execution_count": 60,
     "metadata": {},
     "output_type": "execute_result"
    }
   ],
   "source": [
    "test.dropna(subset = ['Age'], axis = 0, inplace = True)\n",
    "test.isnull().sum()"
   ]
  },
  {
   "cell_type": "markdown",
   "metadata": {},
   "source": [
    "Now there are no more missing values in 'Age' column."
   ]
  },
  {
   "cell_type": "markdown",
   "metadata": {},
   "source": [
    "#### Missing values in 'Cabin'"
   ]
  },
  {
   "cell_type": "markdown",
   "metadata": {},
   "source": [
    "__*To fill Cabin column, following apporach can be used :* __"
   ]
  },
  {
   "cell_type": "markdown",
   "metadata": {},
   "source": [
    "Alphabet in 'Cabin' column basically describes the deck on which the passenger wqas living. <br>\n",
    "We know that each deck was associated with a class.<br>\n",
    "And every class had a different Fare for the ticket. <br>\n",
    "So, on grouping by 'Pclass' we can get a range of 'Fare' and the possible values of 'Cabin' <br>\n",
    "Using this we can allocate the missing 'Cabin' values in the dataset."
   ]
  },
  {
   "cell_type": "code",
   "execution_count": 61,
   "metadata": {},
   "outputs": [],
   "source": [
    "# Creating a dataframe 'allocations' with only details of 'Pclass', 'Fare' and 'Cabin'\n",
    "allocations = train[['Pclass','Fare','Cabin']].copy()"
   ]
  },
  {
   "cell_type": "code",
   "execution_count": 62,
   "metadata": {
    "scrolled": true
   },
   "outputs": [
    {
     "data": {
      "image/png": "[encoded data removed]",
      "text/plain": [
       "<Figure size 432x288 with 1 Axes>"
      ]
     },
     "metadata": {},
     "output_type": "display_data"
    }
   ],
   "source": [
    "plt.scatter(allocations[\"Cabin\"].astype(str), allocations[\"Fare\"])\n",
    "plt.show()"
   ]
  },
  {
   "cell_type": "markdown",
   "metadata": {},
   "source": [
    "There is no specific relation between 'Fare' and 'Cabin' columns. <br>\n",
    "So, we cannot use them to attain the missing Cabin values"
   ]
  },
  {
   "cell_type": "code",
   "execution_count": 63,
   "metadata": {
    "scrolled": true
   },
   "outputs": [
    {
     "data": {
      "text/plain": [
       "<matplotlib.axes._subplots.AxesSubplot at 0x7fda55172240>"
      ]
     },
     "execution_count": 63,
     "metadata": {},
     "output_type": "execute_result"
    },
    {
     "data": {
      "image/png": "[encoded data removed]",
      "text/plain": [
       "<Figure size 432x288 with 1 Axes>"
      ]
     },
     "metadata": {},
     "output_type": "display_data"
    }
   ],
   "source": [
    "sns.swarmplot(x=\"Cabin\", y=\"Pclass\", data=allocations)"
   ]
  },
  {
   "cell_type": "code",
   "execution_count": 64,
   "metadata": {},
   "outputs": [],
   "source": [
    "# Extracting values in allocations where 'Pclass' is 1. That is, the passenger is travelling in the first class.\n",
    "#class_1 = allocations[allocations['Cabin'].notnull() & (allocations['Pclass'] == 1)]"
   ]
  },
  {
   "cell_type": "code",
   "execution_count": 65,
   "metadata": {
    "scrolled": false
   },
   "outputs": [
    {
     "data": {
      "text/html": [
       "<div>\n",
       "<style scoped>\n",
       "    .dataframe tbody tr th:only-of-type {\n",
       "        vertical-align: middle;\n",
       "    }\n",
       "\n",
       "    .dataframe tbody tr th {\n",
       "        vertical-align: top;\n",
       "    }\n",
       "\n",
       "    .dataframe thead th {\n",
       "        text-align: right;\n",
       "    }\n",
       "</style>\n",
       "<table border=\"1\" class=\"dataframe\">\n",
       "  <thead>\n",
       "    <tr style=\"text-align: right;\">\n",
       "      <th></th>\n",
       "      <th>Pclass</th>\n",
       "      <th>Fare</th>\n",
       "      <th>Cabin</th>\n",
       "    </tr>\n",
       "  </thead>\n",
       "  <tbody>\n",
       "    <tr>\n",
       "      <th>1</th>\n",
       "      <td>1</td>\n",
       "      <td>71.2833</td>\n",
       "      <td>C</td>\n",
       "    </tr>\n",
       "    <tr>\n",
       "      <th>3</th>\n",
       "      <td>1</td>\n",
       "      <td>53.1000</td>\n",
       "      <td>C</td>\n",
       "    </tr>\n",
       "    <tr>\n",
       "      <th>11</th>\n",
       "      <td>1</td>\n",
       "      <td>26.5500</td>\n",
       "      <td>C</td>\n",
       "    </tr>\n",
       "    <tr>\n",
       "      <th>27</th>\n",
       "      <td>1</td>\n",
       "      <td>263.0000</td>\n",
       "      <td>C</td>\n",
       "    </tr>\n",
       "    <tr>\n",
       "      <th>55</th>\n",
       "      <td>1</td>\n",
       "      <td>35.5000</td>\n",
       "      <td>C</td>\n",
       "    </tr>\n",
       "    <tr>\n",
       "      <th>62</th>\n",
       "      <td>1</td>\n",
       "      <td>83.4750</td>\n",
       "      <td>C</td>\n",
       "    </tr>\n",
       "    <tr>\n",
       "      <th>88</th>\n",
       "      <td>1</td>\n",
       "      <td>263.0000</td>\n",
       "      <td>C</td>\n",
       "    </tr>\n",
       "    <tr>\n",
       "      <th>110</th>\n",
       "      <td>1</td>\n",
       "      <td>52.0000</td>\n",
       "      <td>C</td>\n",
       "    </tr>\n",
       "    <tr>\n",
       "      <th>137</th>\n",
       "      <td>1</td>\n",
       "      <td>53.1000</td>\n",
       "      <td>C</td>\n",
       "    </tr>\n",
       "    <tr>\n",
       "      <th>151</th>\n",
       "      <td>1</td>\n",
       "      <td>66.6000</td>\n",
       "      <td>C</td>\n",
       "    </tr>\n",
       "    <tr>\n",
       "      <th>177</th>\n",
       "      <td>1</td>\n",
       "      <td>28.7125</td>\n",
       "      <td>C</td>\n",
       "    </tr>\n",
       "    <tr>\n",
       "      <th>224</th>\n",
       "      <td>1</td>\n",
       "      <td>90.0000</td>\n",
       "      <td>C</td>\n",
       "    </tr>\n",
       "    <tr>\n",
       "      <th>230</th>\n",
       "      <td>1</td>\n",
       "      <td>83.4750</td>\n",
       "      <td>C</td>\n",
       "    </tr>\n",
       "    <tr>\n",
       "      <th>245</th>\n",
       "      <td>1</td>\n",
       "      <td>90.0000</td>\n",
       "      <td>C</td>\n",
       "    </tr>\n",
       "    <tr>\n",
       "      <th>252</th>\n",
       "      <td>1</td>\n",
       "      <td>26.5500</td>\n",
       "      <td>C</td>\n",
       "    </tr>\n",
       "    <tr>\n",
       "      <th>268</th>\n",
       "      <td>1</td>\n",
       "      <td>153.4625</td>\n",
       "      <td>C</td>\n",
       "    </tr>\n",
       "    <tr>\n",
       "      <th>269</th>\n",
       "      <td>1</td>\n",
       "      <td>135.6333</td>\n",
       "      <td>C</td>\n",
       "    </tr>\n",
       "    <tr>\n",
       "      <th>273</th>\n",
       "      <td>1</td>\n",
       "      <td>29.7000</td>\n",
       "      <td>C</td>\n",
       "    </tr>\n",
       "    <tr>\n",
       "      <th>297</th>\n",
       "      <td>1</td>\n",
       "      <td>151.5500</td>\n",
       "      <td>C</td>\n",
       "    </tr>\n",
       "    <tr>\n",
       "      <th>298</th>\n",
       "      <td>1</td>\n",
       "      <td>30.5000</td>\n",
       "      <td>C</td>\n",
       "    </tr>\n",
       "    <tr>\n",
       "      <th>305</th>\n",
       "      <td>1</td>\n",
       "      <td>151.5500</td>\n",
       "      <td>C</td>\n",
       "    </tr>\n",
       "    <tr>\n",
       "      <th>307</th>\n",
       "      <td>1</td>\n",
       "      <td>108.9000</td>\n",
       "      <td>C</td>\n",
       "    </tr>\n",
       "    <tr>\n",
       "      <th>310</th>\n",
       "      <td>1</td>\n",
       "      <td>83.1583</td>\n",
       "      <td>C</td>\n",
       "    </tr>\n",
       "    <tr>\n",
       "      <th>318</th>\n",
       "      <td>1</td>\n",
       "      <td>164.8667</td>\n",
       "      <td>C</td>\n",
       "    </tr>\n",
       "    <tr>\n",
       "      <th>325</th>\n",
       "      <td>1</td>\n",
       "      <td>135.6333</td>\n",
       "      <td>C</td>\n",
       "    </tr>\n",
       "    <tr>\n",
       "      <th>331</th>\n",
       "      <td>1</td>\n",
       "      <td>28.5000</td>\n",
       "      <td>C</td>\n",
       "    </tr>\n",
       "    <tr>\n",
       "      <th>332</th>\n",
       "      <td>1</td>\n",
       "      <td>153.4625</td>\n",
       "      <td>C</td>\n",
       "    </tr>\n",
       "    <tr>\n",
       "      <th>336</th>\n",
       "      <td>1</td>\n",
       "      <td>66.6000</td>\n",
       "      <td>C</td>\n",
       "    </tr>\n",
       "    <tr>\n",
       "      <th>341</th>\n",
       "      <td>1</td>\n",
       "      <td>263.0000</td>\n",
       "      <td>C</td>\n",
       "    </tr>\n",
       "    <tr>\n",
       "      <th>351</th>\n",
       "      <td>1</td>\n",
       "      <td>35.0000</td>\n",
       "      <td>C</td>\n",
       "    </tr>\n",
       "    <tr>\n",
       "      <th>377</th>\n",
       "      <td>1</td>\n",
       "      <td>211.5000</td>\n",
       "      <td>C</td>\n",
       "    </tr>\n",
       "    <tr>\n",
       "      <th>412</th>\n",
       "      <td>1</td>\n",
       "      <td>90.0000</td>\n",
       "      <td>C</td>\n",
       "    </tr>\n",
       "    <tr>\n",
       "      <th>430</th>\n",
       "      <td>1</td>\n",
       "      <td>26.5500</td>\n",
       "      <td>C</td>\n",
       "    </tr>\n",
       "    <tr>\n",
       "      <th>438</th>\n",
       "      <td>1</td>\n",
       "      <td>263.0000</td>\n",
       "      <td>C</td>\n",
       "    </tr>\n",
       "    <tr>\n",
       "      <th>449</th>\n",
       "      <td>1</td>\n",
       "      <td>30.5000</td>\n",
       "      <td>C</td>\n",
       "    </tr>\n",
       "    <tr>\n",
       "      <th>452</th>\n",
       "      <td>1</td>\n",
       "      <td>27.7500</td>\n",
       "      <td>C</td>\n",
       "    </tr>\n",
       "    <tr>\n",
       "      <th>453</th>\n",
       "      <td>1</td>\n",
       "      <td>89.1042</td>\n",
       "      <td>C</td>\n",
       "    </tr>\n",
       "    <tr>\n",
       "      <th>486</th>\n",
       "      <td>1</td>\n",
       "      <td>90.0000</td>\n",
       "      <td>C</td>\n",
       "    </tr>\n",
       "    <tr>\n",
       "      <th>492</th>\n",
       "      <td>1</td>\n",
       "      <td>30.5000</td>\n",
       "      <td>C</td>\n",
       "    </tr>\n",
       "    <tr>\n",
       "      <th>498</th>\n",
       "      <td>1</td>\n",
       "      <td>151.5500</td>\n",
       "      <td>C</td>\n",
       "    </tr>\n",
       "    <tr>\n",
       "      <th>505</th>\n",
       "      <td>1</td>\n",
       "      <td>108.9000</td>\n",
       "      <td>C</td>\n",
       "    </tr>\n",
       "    <tr>\n",
       "      <th>527</th>\n",
       "      <td>1</td>\n",
       "      <td>221.7792</td>\n",
       "      <td>C</td>\n",
       "    </tr>\n",
       "    <tr>\n",
       "      <th>544</th>\n",
       "      <td>1</td>\n",
       "      <td>106.4250</td>\n",
       "      <td>C</td>\n",
       "    </tr>\n",
       "    <tr>\n",
       "      <th>550</th>\n",
       "      <td>1</td>\n",
       "      <td>110.8833</td>\n",
       "      <td>C</td>\n",
       "    </tr>\n",
       "    <tr>\n",
       "      <th>571</th>\n",
       "      <td>1</td>\n",
       "      <td>51.4792</td>\n",
       "      <td>C</td>\n",
       "    </tr>\n",
       "    <tr>\n",
       "      <th>581</th>\n",
       "      <td>1</td>\n",
       "      <td>110.8833</td>\n",
       "      <td>C</td>\n",
       "    </tr>\n",
       "    <tr>\n",
       "      <th>609</th>\n",
       "      <td>1</td>\n",
       "      <td>153.4625</td>\n",
       "      <td>C</td>\n",
       "    </tr>\n",
       "    <tr>\n",
       "      <th>669</th>\n",
       "      <td>1</td>\n",
       "      <td>52.0000</td>\n",
       "      <td>C</td>\n",
       "    </tr>\n",
       "    <tr>\n",
       "      <th>698</th>\n",
       "      <td>1</td>\n",
       "      <td>110.8833</td>\n",
       "      <td>C</td>\n",
       "    </tr>\n",
       "    <tr>\n",
       "      <th>700</th>\n",
       "      <td>1</td>\n",
       "      <td>227.5250</td>\n",
       "      <td>C</td>\n",
       "    </tr>\n",
       "    <tr>\n",
       "      <th>710</th>\n",
       "      <td>1</td>\n",
       "      <td>49.5042</td>\n",
       "      <td>C</td>\n",
       "    </tr>\n",
       "    <tr>\n",
       "      <th>711</th>\n",
       "      <td>1</td>\n",
       "      <td>26.5500</td>\n",
       "      <td>C</td>\n",
       "    </tr>\n",
       "    <tr>\n",
       "      <th>712</th>\n",
       "      <td>1</td>\n",
       "      <td>52.0000</td>\n",
       "      <td>C</td>\n",
       "    </tr>\n",
       "    <tr>\n",
       "      <th>716</th>\n",
       "      <td>1</td>\n",
       "      <td>227.5250</td>\n",
       "      <td>C</td>\n",
       "    </tr>\n",
       "    <tr>\n",
       "      <th>741</th>\n",
       "      <td>1</td>\n",
       "      <td>78.8500</td>\n",
       "      <td>C</td>\n",
       "    </tr>\n",
       "    <tr>\n",
       "      <th>839</th>\n",
       "      <td>1</td>\n",
       "      <td>29.7000</td>\n",
       "      <td>C</td>\n",
       "    </tr>\n",
       "    <tr>\n",
       "      <th>849</th>\n",
       "      <td>1</td>\n",
       "      <td>89.1042</td>\n",
       "      <td>C</td>\n",
       "    </tr>\n",
       "    <tr>\n",
       "      <th>879</th>\n",
       "      <td>1</td>\n",
       "      <td>83.1583</td>\n",
       "      <td>C</td>\n",
       "    </tr>\n",
       "    <tr>\n",
       "      <th>889</th>\n",
       "      <td>1</td>\n",
       "      <td>30.0000</td>\n",
       "      <td>C</td>\n",
       "    </tr>\n",
       "  </tbody>\n",
       "</table>\n",
       "</div>"
      ],
      "text/plain": [
       "     Pclass      Fare Cabin\n",
       "1         1   71.2833     C\n",
       "3         1   53.1000     C\n",
       "11        1   26.5500     C\n",
       "27        1  263.0000     C\n",
       "55        1   35.5000     C\n",
       "62        1   83.4750     C\n",
       "88        1  263.0000     C\n",
       "110       1   52.0000     C\n",
       "137       1   53.1000     C\n",
       "151       1   66.6000     C\n",
       "177       1   28.7125     C\n",
       "224       1   90.0000     C\n",
       "230       1   83.4750     C\n",
       "245       1   90.0000     C\n",
       "252       1   26.5500     C\n",
       "268       1  153.4625     C\n",
       "269       1  135.6333     C\n",
       "273       1   29.7000     C\n",
       "297       1  151.5500     C\n",
       "298       1   30.5000     C\n",
       "305       1  151.5500     C\n",
       "307       1  108.9000     C\n",
       "310       1   83.1583     C\n",
       "318       1  164.8667     C\n",
       "325       1  135.6333     C\n",
       "331       1   28.5000     C\n",
       "332       1  153.4625     C\n",
       "336       1   66.6000     C\n",
       "341       1  263.0000     C\n",
       "351       1   35.0000     C\n",
       "377       1  211.5000     C\n",
       "412       1   90.0000     C\n",
       "430       1   26.5500     C\n",
       "438       1  263.0000     C\n",
       "449       1   30.5000     C\n",
       "452       1   27.7500     C\n",
       "453       1   89.1042     C\n",
       "486       1   90.0000     C\n",
       "492       1   30.5000     C\n",
       "498       1  151.5500     C\n",
       "505       1  108.9000     C\n",
       "527       1  221.7792     C\n",
       "544       1  106.4250     C\n",
       "550       1  110.8833     C\n",
       "571       1   51.4792     C\n",
       "581       1  110.8833     C\n",
       "609       1  153.4625     C\n",
       "669       1   52.0000     C\n",
       "698       1  110.8833     C\n",
       "700       1  227.5250     C\n",
       "710       1   49.5042     C\n",
       "711       1   26.5500     C\n",
       "712       1   52.0000     C\n",
       "716       1  227.5250     C\n",
       "741       1   78.8500     C\n",
       "839       1   29.7000     C\n",
       "849       1   89.1042     C\n",
       "879       1   83.1583     C\n",
       "889       1   30.0000     C"
      ]
     },
     "execution_count": 65,
     "metadata": {},
     "output_type": "execute_result"
    }
   ],
   "source": [
    "cabin_c = allocations[(allocations['Cabin'] == 'C') & (allocations['Pclass'] == 1)]\n",
    "cabin_c"
   ]
  },
  {
   "cell_type": "markdown",
   "metadata": {},
   "source": [
    "Eventhough we can say that every passenger travelling in Cabin C belonged to Passenger Class 1, but this might not be tru vice-versa.<br>\n",
    "Hence, we cannot establish a specific relation between Pclass and Cabin too."
   ]
  },
  {
   "cell_type": "markdown",
   "metadata": {},
   "source": [
    "__As Cabin consists of 687 missing values, i.e. approximately 77%, we can go ahead and altogehter drop this column.__"
   ]
  },
  {
   "cell_type": "code",
   "execution_count": 66,
   "metadata": {},
   "outputs": [],
   "source": [
    "train.drop(['Cabin'], axis = 1, inplace = True)"
   ]
  },
  {
   "cell_type": "code",
   "execution_count": 67,
   "metadata": {
    "scrolled": true
   },
   "outputs": [
    {
     "data": {
      "text/plain": [
       "Survived    0\n",
       "Pclass      0\n",
       "Name        0\n",
       "Sex         0\n",
       "Age         0\n",
       "SibSp       0\n",
       "Parch       0\n",
       "Fare        0\n",
       "Embarked    2\n",
       "dtype: int64"
      ]
     },
     "execution_count": 67,
     "metadata": {},
     "output_type": "execute_result"
    }
   ],
   "source": [
    "train.isnull().sum()"
   ]
  },
  {
   "cell_type": "code",
   "execution_count": 68,
   "metadata": {
    "scrolled": false
   },
   "outputs": [
    {
     "data": {
      "text/plain": [
       "<matplotlib.axes._subplots.AxesSubplot at 0x7fda55083080>"
      ]
     },
     "execution_count": 68,
     "metadata": {},
     "output_type": "execute_result"
    },
    {
     "data": {
      "image/png": "[encoded data removed]",
      "text/plain": [
       "<Figure size 2160x720 with 2 Axes>"
      ]
     },
     "metadata": {},
     "output_type": "display_data"
    }
   ],
   "source": [
    "missingno.matrix(train, figsize = (30,10))"
   ]
  },
  {
   "cell_type": "code",
   "execution_count": 69,
   "metadata": {},
   "outputs": [
    {
     "data": {
      "text/plain": [
       "Pclass      0\n",
       "Name        0\n",
       "Sex         0\n",
       "Age         0\n",
       "SibSp       0\n",
       "Parch       0\n",
       "Fare        1\n",
       "Embarked    0\n",
       "dtype: int64"
      ]
     },
     "execution_count": 69,
     "metadata": {},
     "output_type": "execute_result"
    }
   ],
   "source": [
    "# Dropping this column from test dataset as well\n",
    "test.drop(['Cabin'],axis = 1, inplace = True)\n",
    "test.isnull().sum()"
   ]
  },
  {
   "cell_type": "markdown",
   "metadata": {},
   "source": [
    "Now. we no longer have Cabin column in our dataset."
   ]
  },
  {
   "cell_type": "markdown",
   "metadata": {},
   "source": [
    "#### Missing values in 'Embarked'"
   ]
  },
  {
   "cell_type": "markdown",
   "metadata": {},
   "source": [
    "__Since there are only 2 missing values out of 891 values in the 'Embarked' column, we can simply ignore these values by dropping these two rows__"
   ]
  },
  {
   "cell_type": "code",
   "execution_count": 70,
   "metadata": {},
   "outputs": [],
   "source": [
    "train.dropna(subset = ['Embarked'], axis = 0, inplace = True)"
   ]
  },
  {
   "cell_type": "code",
   "execution_count": 71,
   "metadata": {
    "scrolled": false
   },
   "outputs": [
    {
     "data": {
      "text/plain": [
       "Survived    0\n",
       "Pclass      0\n",
       "Name        0\n",
       "Sex         0\n",
       "Age         0\n",
       "SibSp       0\n",
       "Parch       0\n",
       "Fare        0\n",
       "Embarked    0\n",
       "dtype: int64"
      ]
     },
     "execution_count": 71,
     "metadata": {},
     "output_type": "execute_result"
    }
   ],
   "source": [
    "train.isnull().sum()"
   ]
  },
  {
   "cell_type": "markdown",
   "metadata": {},
   "source": [
    "So now we have as we have removed the two rows which contained Null values for 'Embarked' column, the isnull statistics shows that there are no more null values in 'Embarked'."
   ]
  },
  {
   "cell_type": "code",
   "execution_count": 72,
   "metadata": {
    "scrolled": false
   },
   "outputs": [
    {
     "data": {
      "text/plain": [
       "<matplotlib.axes._subplots.AxesSubplot at 0x7fda55010240>"
      ]
     },
     "execution_count": 72,
     "metadata": {},
     "output_type": "execute_result"
    },
    {
     "data": {
      "image/png": "[encoded data removed]",
      "text/plain": [
       "<Figure size 1800x720 with 2 Axes>"
      ]
     },
     "metadata": {},
     "output_type": "display_data"
    }
   ],
   "source": [
    "missingno.matrix(train, figsize = (25,10))"
   ]
  },
  {
   "cell_type": "markdown",
   "metadata": {},
   "source": [
    "__*So, now we have a clean train dataset, without any missing values with a total of 889 observations and 9 columns*__"
   ]
  },
  {
   "cell_type": "markdown",
   "metadata": {},
   "source": [
    "#### Missing values in 'Fare' in test set"
   ]
  },
  {
   "cell_type": "code",
   "execution_count": 73,
   "metadata": {},
   "outputs": [
    {
     "data": {
      "text/plain": [
       "Pclass      0\n",
       "Name        0\n",
       "Sex         0\n",
       "Age         0\n",
       "SibSp       0\n",
       "Parch       0\n",
       "Fare        1\n",
       "Embarked    0\n",
       "dtype: int64"
      ]
     },
     "execution_count": 73,
     "metadata": {},
     "output_type": "execute_result"
    }
   ],
   "source": [
    "test.isnull().sum()"
   ]
  },
  {
   "cell_type": "markdown",
   "metadata": {},
   "source": [
    "Since there is only one missing value in 'Fare' we can remove this entry."
   ]
  },
  {
   "cell_type": "code",
   "execution_count": 74,
   "metadata": {},
   "outputs": [],
   "source": [
    "test.dropna(subset = ['Fare'], axis = 0, inplace = True)"
   ]
  },
  {
   "cell_type": "code",
   "execution_count": 75,
   "metadata": {},
   "outputs": [
    {
     "data": {
      "text/plain": [
       "Pclass      0\n",
       "Name        0\n",
       "Sex         0\n",
       "Age         0\n",
       "SibSp       0\n",
       "Parch       0\n",
       "Fare        0\n",
       "Embarked    0\n",
       "dtype: int64"
      ]
     },
     "execution_count": 75,
     "metadata": {},
     "output_type": "execute_result"
    }
   ],
   "source": [
    "test.isnull().sum()"
   ]
  },
  {
   "cell_type": "markdown",
   "metadata": {},
   "source": [
    "__*So, now we have a clean test dataset, without any missing values.*__"
   ]
  },
  {
   "cell_type": "markdown",
   "metadata": {},
   "source": [
    "### 2.5 EDA : Exploring relation between Target and Feature variables"
   ]
  },
  {
   "cell_type": "code",
   "execution_count": 76,
   "metadata": {
    "scrolled": false
   },
   "outputs": [
    {
     "data": {
      "text/html": [
       "<div>\n",
       "<style scoped>\n",
       "    .dataframe tbody tr th:only-of-type {\n",
       "        vertical-align: middle;\n",
       "    }\n",
       "\n",
       "    .dataframe tbody tr th {\n",
       "        vertical-align: top;\n",
       "    }\n",
       "\n",
       "    .dataframe thead th {\n",
       "        text-align: right;\n",
       "    }\n",
       "</style>\n",
       "<table border=\"1\" class=\"dataframe\">\n",
       "  <thead>\n",
       "    <tr style=\"text-align: right;\">\n",
       "      <th></th>\n",
       "      <th>Survived</th>\n",
       "      <th>Pclass</th>\n",
       "      <th>Name</th>\n",
       "      <th>Sex</th>\n",
       "      <th>Age</th>\n",
       "      <th>SibSp</th>\n",
       "      <th>Parch</th>\n",
       "      <th>Fare</th>\n",
       "      <th>Embarked</th>\n",
       "    </tr>\n",
       "  </thead>\n",
       "  <tbody>\n",
       "    <tr>\n",
       "      <th>0</th>\n",
       "      <td>0</td>\n",
       "      <td>3</td>\n",
       "      <td>Mr</td>\n",
       "      <td>male</td>\n",
       "      <td>22.0</td>\n",
       "      <td>1</td>\n",
       "      <td>0</td>\n",
       "      <td>7.2500</td>\n",
       "      <td>S</td>\n",
       "    </tr>\n",
       "    <tr>\n",
       "      <th>1</th>\n",
       "      <td>1</td>\n",
       "      <td>1</td>\n",
       "      <td>Mrs</td>\n",
       "      <td>female</td>\n",
       "      <td>38.0</td>\n",
       "      <td>1</td>\n",
       "      <td>0</td>\n",
       "      <td>71.2833</td>\n",
       "      <td>C</td>\n",
       "    </tr>\n",
       "    <tr>\n",
       "      <th>2</th>\n",
       "      <td>1</td>\n",
       "      <td>3</td>\n",
       "      <td>Miss</td>\n",
       "      <td>female</td>\n",
       "      <td>26.0</td>\n",
       "      <td>0</td>\n",
       "      <td>0</td>\n",
       "      <td>7.9250</td>\n",
       "      <td>S</td>\n",
       "    </tr>\n",
       "    <tr>\n",
       "      <th>3</th>\n",
       "      <td>1</td>\n",
       "      <td>1</td>\n",
       "      <td>Mrs</td>\n",
       "      <td>female</td>\n",
       "      <td>35.0</td>\n",
       "      <td>1</td>\n",
       "      <td>0</td>\n",
       "      <td>53.1000</td>\n",
       "      <td>S</td>\n",
       "    </tr>\n",
       "    <tr>\n",
       "      <th>4</th>\n",
       "      <td>0</td>\n",
       "      <td>3</td>\n",
       "      <td>Mr</td>\n",
       "      <td>male</td>\n",
       "      <td>35.0</td>\n",
       "      <td>0</td>\n",
       "      <td>0</td>\n",
       "      <td>8.0500</td>\n",
       "      <td>S</td>\n",
       "    </tr>\n",
       "  </tbody>\n",
       "</table>\n",
       "</div>"
      ],
      "text/plain": [
       "   Survived  Pclass  Name     Sex   Age  SibSp  Parch     Fare Embarked\n",
       "0         0       3    Mr    male  22.0      1      0   7.2500        S\n",
       "1         1       1   Mrs  female  38.0      1      0  71.2833        C\n",
       "2         1       3  Miss  female  26.0      0      0   7.9250        S\n",
       "3         1       1   Mrs  female  35.0      1      0  53.1000        S\n",
       "4         0       3    Mr    male  35.0      0      0   8.0500        S"
      ]
     },
     "execution_count": 76,
     "metadata": {},
     "output_type": "execute_result"
    }
   ],
   "source": [
    "train.head()"
   ]
  },
  {
   "cell_type": "markdown",
   "metadata": {},
   "source": [
    "### Feature: Pclass"
   ]
  },
  {
   "cell_type": "code",
   "execution_count": 77,
   "metadata": {
    "scrolled": false
   },
   "outputs": [
    {
     "data": {
      "text/plain": [
       "<matplotlib.axes._subplots.AxesSubplot at 0x7fda54f7f080>"
      ]
     },
     "execution_count": 77,
     "metadata": {},
     "output_type": "execute_result"
    },
    {
     "data": {
      "image/png": "[encoded data removed]",
      "text/plain": [
       "<Figure size 432x288 with 1 Axes>"
      ]
     },
     "metadata": {},
     "output_type": "display_data"
    }
   ],
   "source": [
    "sns.barplot(train.Pclass, train.Survived)"
   ]
  },
  {
   "cell_type": "markdown",
   "metadata": {},
   "source": [
    "This leads us to the relation between a passenger's class and their survival chances. <br>\n",
    "It is more likely for a passenger to survive if he/she belongs to the first class rather than any other class. <br>\n",
    "__*Hypothesis 1: The class of a passenger affects their survival chance.*__"
   ]
  },
  {
   "cell_type": "markdown",
   "metadata": {},
   "source": [
    "### Feature: Name"
   ]
  },
  {
   "cell_type": "code",
   "execution_count": 78,
   "metadata": {
    "scrolled": false
   },
   "outputs": [
    {
     "data": {
      "text/plain": [
       "<matplotlib.axes._subplots.AxesSubplot at 0x7fda55032be0>"
      ]
     },
     "execution_count": 78,
     "metadata": {},
     "output_type": "execute_result"
    },
    {
     "data": {
      "image/png": "[encoded data removed]",
      "text/plain": [
       "<Figure size 1080x288 with 1 Axes>"
      ]
     },
     "metadata": {},
     "output_type": "display_data"
    }
   ],
   "source": [
    "fig_name = plt.figure(figsize = (15,4))\n",
    "sns.barplot(train.Name, train.Survived)"
   ]
  },
  {
   "cell_type": "markdown",
   "metadata": {},
   "source": [
    "This graph is a little misleading. Let's first understand the spread of vlaues in each title"
   ]
  },
  {
   "cell_type": "code",
   "execution_count": 79,
   "metadata": {
    "scrolled": true
   },
   "outputs": [
    {
     "data": {
      "text/plain": [
       "Mr          517\n",
       "Miss        181\n",
       "Mrs         124\n",
       "Master       40\n",
       "Dr            7\n",
       "Rev           6\n",
       "Col           2\n",
       "Major         2\n",
       "Mlle          2\n",
       "Ms            1\n",
       "Sir           1\n",
       "Lady          1\n",
       "Don           1\n",
       "Countess      1\n",
       "Jonkheer      1\n",
       "Capt          1\n",
       "Mme           1\n",
       "Name: Name, dtype: int64"
      ]
     },
     "execution_count": 79,
     "metadata": {},
     "output_type": "execute_result"
    }
   ],
   "source": [
    "train.Name.value_counts()"
   ]
  },
  {
   "cell_type": "markdown",
   "metadata": {},
   "source": [
    "Since 'Mr', 'Miss', 'Mrs' and 'Master' have the maximum information, let's club the rest of the titles as 'Other' for simplicity."
   ]
  },
  {
   "cell_type": "code",
   "execution_count": 80,
   "metadata": {},
   "outputs": [],
   "source": [
    "list_of_titles = ['Dr','Rev','Major','Col','Mlle','Countess','Jonkheer','Capt','Lady','Mme','Ms','Don','Sir','Dona']\n",
    "train.Name.replace(list_of_titles,'Other',inplace = True)\n",
    "# Replicating the same in test dataset as well\n",
    "test.Name.replace(list_of_titles,'Other', inplace = True)"
   ]
  },
  {
   "cell_type": "code",
   "execution_count": 81,
   "metadata": {},
   "outputs": [
    {
     "data": {
      "text/plain": [
       "Mr        517\n",
       "Miss      181\n",
       "Mrs       124\n",
       "Master     40\n",
       "Other      27\n",
       "Name: Name, dtype: int64"
      ]
     },
     "execution_count": 81,
     "metadata": {},
     "output_type": "execute_result"
    }
   ],
   "source": [
    "train.Name.value_counts()"
   ]
  },
  {
   "cell_type": "raw",
   "metadata": {},
   "source": [
    "Now we have 5 categories in 'Name' column. Let's plot and see there relation with the target feature."
   ]
  },
  {
   "cell_type": "code",
   "execution_count": 82,
   "metadata": {
    "scrolled": false
   },
   "outputs": [
    {
     "data": {
      "text/plain": [
       "<matplotlib.axes._subplots.AxesSubplot at 0x7fda54e75d30>"
      ]
     },
     "execution_count": 82,
     "metadata": {},
     "output_type": "execute_result"
    },
    {
     "data": {
      "image/png": "[encoded data removed]",
      "text/plain": [
       "<Figure size 432x288 with 1 Axes>"
      ]
     },
     "metadata": {},
     "output_type": "display_data"
    }
   ],
   "source": [
    "sns.barplot(train.Name, train.Survived)"
   ]
  },
  {
   "cell_type": "markdown",
   "metadata": {},
   "source": [
    "This graph shows that the chance of survival of passenger with title 'Mrs','Miss' and Master is quite high. <br>\n",
    "As for the the title 'Other' the error around the mean is quite variable (the black bar), implying the people grouped under the Other category do not specifically define a relation with the target variable. <br>\n",
    "__*Hypothesis 2: The class of a passenger does affect the survival chances. People with title 'Mr' have least chances of survival. *__"
   ]
  },
  {
   "cell_type": "markdown",
   "metadata": {},
   "source": [
    "### Feature: Sex"
   ]
  },
  {
   "cell_type": "markdown",
   "metadata": {},
   "source": [
    "The above graph used the title of the passenger to determine their survival chances. But in the Other category there is a mix of female and male. <br>\n",
    "Let's break it down further to be more precise with our hypothesis."
   ]
  },
  {
   "cell_type": "code",
   "execution_count": 83,
   "metadata": {
    "scrolled": true
   },
   "outputs": [
    {
     "data": {
      "text/plain": [
       "<matplotlib.axes._subplots.AxesSubplot at 0x7fda54f33630>"
      ]
     },
     "execution_count": 83,
     "metadata": {},
     "output_type": "execute_result"
    },
    {
     "data": {
      "image/png": "[encoded data removed]",
      "text/plain": [
       "<Figure size 432x288 with 1 Axes>"
      ]
     },
     "metadata": {},
     "output_type": "display_data"
    }
   ],
   "source": [
    "sns.barplot(train.Sex, train.Survived)"
   ]
  },
  {
   "cell_type": "markdown",
   "metadata": {},
   "source": [
    "This graph very clearly draws attention to the fact that the survival chances of females are much higher than that of males. <br>\n",
    "This evem explains the high survival chances of passengers with title 'Mrs' and 'Miss'. <br>\n",
    "This can even imply that women and children were evacuated first from Titanic, thus saving their lives. <br>\n",
    "__*Hypothesis 3: Female passengers have more chances of surviving than male passengers. *__"
   ]
  },
  {
   "cell_type": "markdown",
   "metadata": {},
   "source": [
    "### Feature: Age"
   ]
  },
  {
   "cell_type": "markdown",
   "metadata": {},
   "source": [
    "Let's drill down this analysis a little further into age group of the passengers."
   ]
  },
  {
   "cell_type": "code",
   "execution_count": 84,
   "metadata": {},
   "outputs": [
    {
     "data": {
      "image/png": "[encoded data removed]",
      "text/plain": [
       "<Figure size 1800x720 with 1 Axes>"
      ]
     },
     "metadata": {},
     "output_type": "display_data"
    }
   ],
   "source": [
    "fig_age = plt.figure(figsize = (25,10))\n",
    "sns.barplot(train.Age, train.Survived)\n",
    "plt.xticks(rotation=90);"
   ]
  },
  {
   "cell_type": "markdown",
   "metadata": {},
   "source": [
    "Since we have a wide range of ages of passengers, let's club them together into the generally known categories of - <br>\n",
    "Children (0 - 12) <br>\n",
    "Teenagers (13 - 19) <br>\n",
    "Adults (20 - 39) <br>\n",
    "Middle aged (40 - 59) <br>\n",
    "Elderly (60 - 80) <br>\n",
    "__*Note: These categories are formed based in general assumptions and can be changed. *__"
   ]
  },
  {
   "cell_type": "code",
   "execution_count": 85,
   "metadata": {
    "scrolled": false
   },
   "outputs": [
    {
     "name": "stdout",
     "output_type": "stream",
     "text": [
      "<class 'pandas.core.frame.DataFrame'>\n",
      "Int64Index: 889 entries, 0 to 890\n",
      "Data columns (total 10 columns):\n",
      "Survived      889 non-null int64\n",
      "Pclass        889 non-null int64\n",
      "Name          889 non-null object\n",
      "Sex           889 non-null object\n",
      "Age           889 non-null float64\n",
      "SibSp         889 non-null int64\n",
      "Parch         889 non-null int64\n",
      "Fare          889 non-null float64\n",
      "Embarked      889 non-null object\n",
      "Age_Labels    889 non-null category\n",
      "dtypes: category(1), float64(2), int64(4), object(3)\n",
      "memory usage: 110.5+ KB\n"
     ]
    }
   ],
   "source": [
    "age_labels = pd.DataFrame()\n",
    "age_labels['Age'] = pd.cut(train.Age, bins = [0,12,19,39,59,81], labels = ['Child','Teen','Adult','Middle Aged','Elderly'], include_lowest = True, right = False)\n",
    "age_labels.Age\n",
    "train['Age_Labels'] = age_labels['Age']\n",
    "train.info()"
   ]
  },
  {
   "cell_type": "code",
   "execution_count": 86,
   "metadata": {},
   "outputs": [],
   "source": [
    "# Now we can drop the Age column as we have th subsequent Age_labels for it\n",
    "train.drop(['Age'], axis = 1, inplace = True)"
   ]
  },
  {
   "cell_type": "code",
   "execution_count": 87,
   "metadata": {
    "scrolled": true
   },
   "outputs": [
    {
     "data": {
      "text/html": [
       "<div>\n",
       "<style scoped>\n",
       "    .dataframe tbody tr th:only-of-type {\n",
       "        vertical-align: middle;\n",
       "    }\n",
       "\n",
       "    .dataframe tbody tr th {\n",
       "        vertical-align: top;\n",
       "    }\n",
       "\n",
       "    .dataframe thead th {\n",
       "        text-align: right;\n",
       "    }\n",
       "</style>\n",
       "<table border=\"1\" class=\"dataframe\">\n",
       "  <thead>\n",
       "    <tr style=\"text-align: right;\">\n",
       "      <th></th>\n",
       "      <th>Survived</th>\n",
       "      <th>Pclass</th>\n",
       "      <th>Name</th>\n",
       "      <th>Sex</th>\n",
       "      <th>SibSp</th>\n",
       "      <th>Parch</th>\n",
       "      <th>Fare</th>\n",
       "      <th>Embarked</th>\n",
       "      <th>Age_Labels</th>\n",
       "    </tr>\n",
       "  </thead>\n",
       "  <tbody>\n",
       "    <tr>\n",
       "      <th>0</th>\n",
       "      <td>0</td>\n",
       "      <td>3</td>\n",
       "      <td>Mr</td>\n",
       "      <td>male</td>\n",
       "      <td>1</td>\n",
       "      <td>0</td>\n",
       "      <td>7.2500</td>\n",
       "      <td>S</td>\n",
       "      <td>Adult</td>\n",
       "    </tr>\n",
       "    <tr>\n",
       "      <th>1</th>\n",
       "      <td>1</td>\n",
       "      <td>1</td>\n",
       "      <td>Mrs</td>\n",
       "      <td>female</td>\n",
       "      <td>1</td>\n",
       "      <td>0</td>\n",
       "      <td>71.2833</td>\n",
       "      <td>C</td>\n",
       "      <td>Adult</td>\n",
       "    </tr>\n",
       "    <tr>\n",
       "      <th>2</th>\n",
       "      <td>1</td>\n",
       "      <td>3</td>\n",
       "      <td>Miss</td>\n",
       "      <td>female</td>\n",
       "      <td>0</td>\n",
       "      <td>0</td>\n",
       "      <td>7.9250</td>\n",
       "      <td>S</td>\n",
       "      <td>Adult</td>\n",
       "    </tr>\n",
       "    <tr>\n",
       "      <th>3</th>\n",
       "      <td>1</td>\n",
       "      <td>1</td>\n",
       "      <td>Mrs</td>\n",
       "      <td>female</td>\n",
       "      <td>1</td>\n",
       "      <td>0</td>\n",
       "      <td>53.1000</td>\n",
       "      <td>S</td>\n",
       "      <td>Adult</td>\n",
       "    </tr>\n",
       "    <tr>\n",
       "      <th>4</th>\n",
       "      <td>0</td>\n",
       "      <td>3</td>\n",
       "      <td>Mr</td>\n",
       "      <td>male</td>\n",
       "      <td>0</td>\n",
       "      <td>0</td>\n",
       "      <td>8.0500</td>\n",
       "      <td>S</td>\n",
       "      <td>Adult</td>\n",
       "    </tr>\n",
       "    <tr>\n",
       "      <th>5</th>\n",
       "      <td>0</td>\n",
       "      <td>3</td>\n",
       "      <td>Mr</td>\n",
       "      <td>male</td>\n",
       "      <td>0</td>\n",
       "      <td>0</td>\n",
       "      <td>8.4583</td>\n",
       "      <td>Q</td>\n",
       "      <td>Adult</td>\n",
       "    </tr>\n",
       "    <tr>\n",
       "      <th>6</th>\n",
       "      <td>0</td>\n",
       "      <td>1</td>\n",
       "      <td>Mr</td>\n",
       "      <td>male</td>\n",
       "      <td>0</td>\n",
       "      <td>0</td>\n",
       "      <td>51.8625</td>\n",
       "      <td>S</td>\n",
       "      <td>Middle Aged</td>\n",
       "    </tr>\n",
       "    <tr>\n",
       "      <th>7</th>\n",
       "      <td>0</td>\n",
       "      <td>3</td>\n",
       "      <td>Master</td>\n",
       "      <td>male</td>\n",
       "      <td>3</td>\n",
       "      <td>1</td>\n",
       "      <td>21.0750</td>\n",
       "      <td>S</td>\n",
       "      <td>Child</td>\n",
       "    </tr>\n",
       "    <tr>\n",
       "      <th>8</th>\n",
       "      <td>1</td>\n",
       "      <td>3</td>\n",
       "      <td>Mrs</td>\n",
       "      <td>female</td>\n",
       "      <td>0</td>\n",
       "      <td>2</td>\n",
       "      <td>11.1333</td>\n",
       "      <td>S</td>\n",
       "      <td>Adult</td>\n",
       "    </tr>\n",
       "    <tr>\n",
       "      <th>9</th>\n",
       "      <td>1</td>\n",
       "      <td>2</td>\n",
       "      <td>Mrs</td>\n",
       "      <td>female</td>\n",
       "      <td>1</td>\n",
       "      <td>0</td>\n",
       "      <td>30.0708</td>\n",
       "      <td>C</td>\n",
       "      <td>Teen</td>\n",
       "    </tr>\n",
       "    <tr>\n",
       "      <th>10</th>\n",
       "      <td>1</td>\n",
       "      <td>3</td>\n",
       "      <td>Miss</td>\n",
       "      <td>female</td>\n",
       "      <td>1</td>\n",
       "      <td>1</td>\n",
       "      <td>16.7000</td>\n",
       "      <td>S</td>\n",
       "      <td>Child</td>\n",
       "    </tr>\n",
       "    <tr>\n",
       "      <th>11</th>\n",
       "      <td>1</td>\n",
       "      <td>1</td>\n",
       "      <td>Miss</td>\n",
       "      <td>female</td>\n",
       "      <td>0</td>\n",
       "      <td>0</td>\n",
       "      <td>26.5500</td>\n",
       "      <td>S</td>\n",
       "      <td>Middle Aged</td>\n",
       "    </tr>\n",
       "    <tr>\n",
       "      <th>12</th>\n",
       "      <td>0</td>\n",
       "      <td>3</td>\n",
       "      <td>Mr</td>\n",
       "      <td>male</td>\n",
       "      <td>0</td>\n",
       "      <td>0</td>\n",
       "      <td>8.0500</td>\n",
       "      <td>S</td>\n",
       "      <td>Adult</td>\n",
       "    </tr>\n",
       "    <tr>\n",
       "      <th>13</th>\n",
       "      <td>0</td>\n",
       "      <td>3</td>\n",
       "      <td>Mr</td>\n",
       "      <td>male</td>\n",
       "      <td>1</td>\n",
       "      <td>5</td>\n",
       "      <td>31.2750</td>\n",
       "      <td>S</td>\n",
       "      <td>Middle Aged</td>\n",
       "    </tr>\n",
       "    <tr>\n",
       "      <th>14</th>\n",
       "      <td>0</td>\n",
       "      <td>3</td>\n",
       "      <td>Miss</td>\n",
       "      <td>female</td>\n",
       "      <td>0</td>\n",
       "      <td>0</td>\n",
       "      <td>7.8542</td>\n",
       "      <td>S</td>\n",
       "      <td>Teen</td>\n",
       "    </tr>\n",
       "  </tbody>\n",
       "</table>\n",
       "</div>"
      ],
      "text/plain": [
       "    Survived  Pclass    Name     Sex  SibSp  Parch     Fare Embarked  \\\n",
       "0          0       3      Mr    male      1      0   7.2500        S   \n",
       "1          1       1     Mrs  female      1      0  71.2833        C   \n",
       "2          1       3    Miss  female      0      0   7.9250        S   \n",
       "3          1       1     Mrs  female      1      0  53.1000        S   \n",
       "4          0       3      Mr    male      0      0   8.0500        S   \n",
       "5          0       3      Mr    male      0      0   8.4583        Q   \n",
       "6          0       1      Mr    male      0      0  51.8625        S   \n",
       "7          0       3  Master    male      3      1  21.0750        S   \n",
       "8          1       3     Mrs  female      0      2  11.1333        S   \n",
       "9          1       2     Mrs  female      1      0  30.0708        C   \n",
       "10         1       3    Miss  female      1      1  16.7000        S   \n",
       "11         1       1    Miss  female      0      0  26.5500        S   \n",
       "12         0       3      Mr    male      0      0   8.0500        S   \n",
       "13         0       3      Mr    male      1      5  31.2750        S   \n",
       "14         0       3    Miss  female      0      0   7.8542        S   \n",
       "\n",
       "     Age_Labels  \n",
       "0         Adult  \n",
       "1         Adult  \n",
       "2         Adult  \n",
       "3         Adult  \n",
       "4         Adult  \n",
       "5         Adult  \n",
       "6   Middle Aged  \n",
       "7         Child  \n",
       "8         Adult  \n",
       "9          Teen  \n",
       "10        Child  \n",
       "11  Middle Aged  \n",
       "12        Adult  \n",
       "13  Middle Aged  \n",
       "14         Teen  "
      ]
     },
     "execution_count": 87,
     "metadata": {},
     "output_type": "execute_result"
    }
   ],
   "source": [
    "train.head(15)"
   ]
  },
  {
   "cell_type": "code",
   "execution_count": 88,
   "metadata": {},
   "outputs": [],
   "source": [
    "# Replicating the same in test dataset\n",
    "age_labels_test = pd.DataFrame()\n",
    "age_labels_test['Age'] = pd.cut(test.Age, bins = [0,12,19,39,59,81], labels = ['Child','Teen','Adult','Middle Aged','Elderly'], include_lowest = True, right = False)\n",
    "age_labels_test.Age\n",
    "test['Age_Labels'] = age_labels_test['Age']\n",
    "test.drop(['Age'], axis = 1, inplace = True)"
   ]
  },
  {
   "cell_type": "code",
   "execution_count": 89,
   "metadata": {},
   "outputs": [
    {
     "data": {
      "text/plain": [
       "<matplotlib.axes._subplots.AxesSubplot at 0x7fda54b5c470>"
      ]
     },
     "execution_count": 89,
     "metadata": {},
     "output_type": "execute_result"
    },
    {
     "data": {
      "image/png": "[encoded data removed]",
      "text/plain": [
       "<Figure size 432x288 with 1 Axes>"
      ]
     },
     "metadata": {},
     "output_type": "display_data"
    }
   ],
   "source": [
    "# Let's see which category of people survived \n",
    "sns.barplot(train.Age_Labels, train.Survived)"
   ]
  },
  {
   "cell_type": "markdown",
   "metadata": {},
   "source": [
    "The graph shows that children have more than 50% chnaces of survival. <br>\n",
    "Elderly on the other hand have the lowest survival rate, which can be due to the fact that they did not receive help in reaching the life boats or could not survive the panic at the time of the disaster. <br>\n",
    "__*Hypothesis 4: Survival chances of children is the highest. *__"
   ]
  },
  {
   "cell_type": "markdown",
   "metadata": {},
   "source": [
    "### Feature: SibSp"
   ]
  },
  {
   "cell_type": "code",
   "execution_count": 90,
   "metadata": {
    "scrolled": true
   },
   "outputs": [
    {
     "data": {
      "text/plain": [
       "<matplotlib.axes._subplots.AxesSubplot at 0x7fda54ad0940>"
      ]
     },
     "execution_count": 90,
     "metadata": {},
     "output_type": "execute_result"
    },
    {
     "data": {
      "image/png": "[encoded data removed]",
      "text/plain": [
       "<Figure size 432x288 with 1 Axes>"
      ]
     },
     "metadata": {},
     "output_type": "display_data"
    }
   ],
   "source": [
    "sns.barplot(train.SibSp, train.Survived)"
   ]
  },
  {
   "cell_type": "markdown",
   "metadata": {},
   "source": [
    "People with 1 or 2 siblings or spouse had higher chance of survival. <br>\n",
    "Passengers with no sibliing or spouse with them did have higher survival rate than those with 3 or 4. <br>\n",
    "It's difficult to draw any conclusion about the survival rates here as of now."
   ]
  },
  {
   "cell_type": "markdown",
   "metadata": {},
   "source": [
    "### Feature: Parch"
   ]
  },
  {
   "cell_type": "code",
   "execution_count": 91,
   "metadata": {
    "scrolled": true
   },
   "outputs": [
    {
     "data": {
      "text/plain": [
       "<matplotlib.axes._subplots.AxesSubplot at 0x7fda549f0d30>"
      ]
     },
     "execution_count": 91,
     "metadata": {},
     "output_type": "execute_result"
    },
    {
     "data": {
      "image/png": "[encoded data removed]",
      "text/plain": [
       "<Figure size 432x288 with 1 Axes>"
      ]
     },
     "metadata": {},
     "output_type": "display_data"
    }
   ],
   "source": [
    "sns.barplot(train.Parch, train.Survived)"
   ]
  },
  {
   "cell_type": "markdown",
   "metadata": {},
   "source": [
    "In this graph too, the trend is not very clear about survival rate of passengers based on the number of parents or children traveling with them."
   ]
  },
  {
   "cell_type": "markdown",
   "metadata": {},
   "source": [
    "### Feature: Fare"
   ]
  },
  {
   "cell_type": "code",
   "execution_count": 92,
   "metadata": {},
   "outputs": [
    {
     "data": {
      "text/plain": [
       "<matplotlib.axes._subplots.AxesSubplot at 0x7fda549ce128>"
      ]
     },
     "execution_count": 92,
     "metadata": {},
     "output_type": "execute_result"
    },
    {
     "data": {
      "image/png": "[encoded data removed]",
      "text/plain": [
       "<Figure size 720x360 with 1 Axes>"
      ]
     },
     "metadata": {},
     "output_type": "display_data"
    }
   ],
   "source": [
    "# Barplot does not seems to be a good choice for a continuous variable like 'Fare'. So we will use boxplot instead.\n",
    "fare_plot = plt.figure(figsize = (10,5))\n",
    "sns.boxplot(train.Survived, train.Fare)"
   ]
  },
  {
   "cell_type": "markdown",
   "metadata": {},
   "source": [
    "This graph shows that passengers who survived had paid higher amount for travelling in Titanic. <br>\n",
    "__*Hypothesis 5: Higher the fare, higher the survival rate. *__"
   ]
  },
  {
   "cell_type": "markdown",
   "metadata": {},
   "source": [
    "### Feature: Embarked"
   ]
  },
  {
   "cell_type": "code",
   "execution_count": 93,
   "metadata": {},
   "outputs": [
    {
     "data": {
      "text/plain": [
       "<matplotlib.axes._subplots.AxesSubplot at 0x7fda5499a0f0>"
      ]
     },
     "execution_count": 93,
     "metadata": {},
     "output_type": "execute_result"
    },
    {
     "data": {
      "image/png": "[encoded data removed]",
      "text/plain": [
       "<Figure size 432x288 with 1 Axes>"
      ]
     },
     "metadata": {},
     "output_type": "display_data"
    }
   ],
   "source": [
    "sns.barplot(train.Embarked, train.Survived)"
   ]
  },
  {
   "cell_type": "markdown",
   "metadata": {},
   "source": [
    "Eventhough this graph shows that passengers who boarded Titanic from Cherbourg (C) had a higher chance of surviving, but this cannot lead to any hypothesis. This is because boarding the ship from any location would not alter the survival rates. <br>\n",
    "But there can be other reasons for this unusual behaviour."
   ]
  },
  {
   "cell_type": "markdown",
   "metadata": {},
   "source": [
    "# 3. Develop"
   ]
  },
  {
   "cell_type": "markdown",
   "metadata": {},
   "source": [
    "This is a binary problem with unbalanced observation in both classes"
   ]
  },
  {
   "cell_type": "markdown",
   "metadata": {},
   "source": [
    "## 3.1 Feature Engineering"
   ]
  },
  {
   "cell_type": "markdown",
   "metadata": {},
   "source": [
    "### One - Hot encoding\n",
    "Encoding is required in a dataset which contains categorical values with string data type. This is because some machine learning algorithms do not work well with string values and require numeric values to do computations. <br>\n",
    "So, here we can use one hot encoder to convert all categorical values to numeric values."
   ]
  },
  {
   "cell_type": "markdown",
   "metadata": {},
   "source": [
    "Before going ahead with applying one-hot encoding, we need to first convert some features into categorical datatype"
   ]
  },
  {
   "cell_type": "code",
   "execution_count": 94,
   "metadata": {},
   "outputs": [
    {
     "name": "stdout",
     "output_type": "stream",
     "text": [
      "<class 'pandas.core.frame.DataFrame'>\n",
      "Int64Index: 889 entries, 0 to 890\n",
      "Data columns (total 9 columns):\n",
      "Survived      889 non-null int64\n",
      "Pclass        889 non-null int64\n",
      "Name          889 non-null object\n",
      "Sex           889 non-null object\n",
      "SibSp         889 non-null int64\n",
      "Parch         889 non-null int64\n",
      "Fare          889 non-null float64\n",
      "Embarked      889 non-null object\n",
      "Age_Labels    889 non-null category\n",
      "dtypes: category(1), float64(1), int64(4), object(3)\n",
      "memory usage: 103.6+ KB\n"
     ]
    }
   ],
   "source": [
    "train.info()"
   ]
  },
  {
   "cell_type": "markdown",
   "metadata": {},
   "source": [
    "Of these columns, <br>\n",
    "'Pclass' is categorical column with values 1,2 or 3 <br>\n",
    "'Name' can be put in as categorical column with values 'Mr', 'Mrs','Miss' and 'Master' <br>\n",
    "'Sex' is categorical column with values male and female. We will convert these into 0 for male and 1 for female. <br>\n",
    "'Emabarked' can be made categorical with values S,C and Q <br>\n",
    "'Age_Labels' is categorical column with values 'Child','Teen','Adult','Middle Aged' and 'Elderly'"
   ]
  },
  {
   "cell_type": "code",
   "execution_count": 95,
   "metadata": {},
   "outputs": [],
   "source": [
    "train['Pclass'] = pd.Categorical(train['Pclass'])\n",
    "train['Name'] = pd.Categorical(train['Name'])\n",
    "train['Sex'] = pd.Categorical(train['Sex'])\n",
    "train['Embarked'] = pd.Categorical(train['Embarked'])\n",
    "# Age_Labels is already categorical"
   ]
  },
  {
   "cell_type": "code",
   "execution_count": 96,
   "metadata": {},
   "outputs": [],
   "source": [
    "# Replicating the same in test dataset\n",
    "test['Pclass'] = pd.Categorical(test['Pclass'])\n",
    "test['Name'] = pd.Categorical(test['Name'])\n",
    "test['Sex'] = pd.Categorical(test['Sex'])\n",
    "test['Embarked'] = pd.Categorical(test['Embarked'])"
   ]
  },
  {
   "cell_type": "code",
   "execution_count": 97,
   "metadata": {
    "scrolled": false
   },
   "outputs": [
    {
     "name": "stdout",
     "output_type": "stream",
     "text": [
      "<class 'pandas.core.frame.DataFrame'>\n",
      "Int64Index: 889 entries, 0 to 890\n",
      "Data columns (total 9 columns):\n",
      "Survived      889 non-null int64\n",
      "Pclass        889 non-null category\n",
      "Name          889 non-null category\n",
      "Sex           889 non-null category\n",
      "SibSp         889 non-null int64\n",
      "Parch         889 non-null int64\n",
      "Fare          889 non-null float64\n",
      "Embarked      889 non-null category\n",
      "Age_Labels    889 non-null category\n",
      "dtypes: category(5), float64(1), int64(3)\n",
      "memory usage: 79.8 KB\n"
     ]
    }
   ],
   "source": [
    "train.info()"
   ]
  },
  {
   "cell_type": "code",
   "execution_count": 98,
   "metadata": {},
   "outputs": [
    {
     "name": "stdout",
     "output_type": "stream",
     "text": [
      "<class 'pandas.core.frame.DataFrame'>\n",
      "Int64Index: 416 entries, 0 to 417\n",
      "Data columns (total 8 columns):\n",
      "Pclass        416 non-null category\n",
      "Name          416 non-null category\n",
      "Sex           416 non-null category\n",
      "SibSp         416 non-null int64\n",
      "Parch         416 non-null int64\n",
      "Fare          416 non-null float64\n",
      "Embarked      416 non-null category\n",
      "Age_Labels    416 non-null category\n",
      "dtypes: category(5), float64(1), int64(2)\n",
      "memory usage: 15.7 KB\n"
     ]
    }
   ],
   "source": [
    "test.info()"
   ]
  },
  {
   "cell_type": "markdown",
   "metadata": {},
   "source": [
    "Now all these categorical variables needs to be converted to numbers. <br>\n",
    "Using one hot encoding for encoding the categorical variables."
   ]
  },
  {
   "cell_type": "code",
   "execution_count": 99,
   "metadata": {
    "scrolled": true
   },
   "outputs": [
    {
     "data": {
      "text/html": [
       "<div>\n",
       "<style scoped>\n",
       "    .dataframe tbody tr th:only-of-type {\n",
       "        vertical-align: middle;\n",
       "    }\n",
       "\n",
       "    .dataframe tbody tr th {\n",
       "        vertical-align: top;\n",
       "    }\n",
       "\n",
       "    .dataframe thead th {\n",
       "        text-align: right;\n",
       "    }\n",
       "</style>\n",
       "<table border=\"1\" class=\"dataframe\">\n",
       "  <thead>\n",
       "    <tr style=\"text-align: right;\">\n",
       "      <th></th>\n",
       "      <th>Survived</th>\n",
       "      <th>SibSp</th>\n",
       "      <th>Parch</th>\n",
       "      <th>Fare</th>\n",
       "      <th>Pclass_1</th>\n",
       "      <th>Pclass_2</th>\n",
       "      <th>Pclass_3</th>\n",
       "      <th>Name_Master</th>\n",
       "      <th>Name_Miss</th>\n",
       "      <th>Name_Mr</th>\n",
       "      <th>...</th>\n",
       "      <th>Sex_female</th>\n",
       "      <th>Sex_male</th>\n",
       "      <th>Embarked_C</th>\n",
       "      <th>Embarked_Q</th>\n",
       "      <th>Embarked_S</th>\n",
       "      <th>Age_Labels_Child</th>\n",
       "      <th>Age_Labels_Teen</th>\n",
       "      <th>Age_Labels_Adult</th>\n",
       "      <th>Age_Labels_Middle Aged</th>\n",
       "      <th>Age_Labels_Elderly</th>\n",
       "    </tr>\n",
       "  </thead>\n",
       "  <tbody>\n",
       "    <tr>\n",
       "      <th>0</th>\n",
       "      <td>0</td>\n",
       "      <td>1</td>\n",
       "      <td>0</td>\n",
       "      <td>7.2500</td>\n",
       "      <td>0</td>\n",
       "      <td>0</td>\n",
       "      <td>1</td>\n",
       "      <td>0</td>\n",
       "      <td>0</td>\n",
       "      <td>1</td>\n",
       "      <td>...</td>\n",
       "      <td>0</td>\n",
       "      <td>1</td>\n",
       "      <td>0</td>\n",
       "      <td>0</td>\n",
       "      <td>1</td>\n",
       "      <td>0</td>\n",
       "      <td>0</td>\n",
       "      <td>1</td>\n",
       "      <td>0</td>\n",
       "      <td>0</td>\n",
       "    </tr>\n",
       "    <tr>\n",
       "      <th>1</th>\n",
       "      <td>1</td>\n",
       "      <td>1</td>\n",
       "      <td>0</td>\n",
       "      <td>71.2833</td>\n",
       "      <td>1</td>\n",
       "      <td>0</td>\n",
       "      <td>0</td>\n",
       "      <td>0</td>\n",
       "      <td>0</td>\n",
       "      <td>0</td>\n",
       "      <td>...</td>\n",
       "      <td>1</td>\n",
       "      <td>0</td>\n",
       "      <td>1</td>\n",
       "      <td>0</td>\n",
       "      <td>0</td>\n",
       "      <td>0</td>\n",
       "      <td>0</td>\n",
       "      <td>1</td>\n",
       "      <td>0</td>\n",
       "      <td>0</td>\n",
       "    </tr>\n",
       "    <tr>\n",
       "      <th>2</th>\n",
       "      <td>1</td>\n",
       "      <td>0</td>\n",
       "      <td>0</td>\n",
       "      <td>7.9250</td>\n",
       "      <td>0</td>\n",
       "      <td>0</td>\n",
       "      <td>1</td>\n",
       "      <td>0</td>\n",
       "      <td>1</td>\n",
       "      <td>0</td>\n",
       "      <td>...</td>\n",
       "      <td>1</td>\n",
       "      <td>0</td>\n",
       "      <td>0</td>\n",
       "      <td>0</td>\n",
       "      <td>1</td>\n",
       "      <td>0</td>\n",
       "      <td>0</td>\n",
       "      <td>1</td>\n",
       "      <td>0</td>\n",
       "      <td>0</td>\n",
       "    </tr>\n",
       "    <tr>\n",
       "      <th>3</th>\n",
       "      <td>1</td>\n",
       "      <td>1</td>\n",
       "      <td>0</td>\n",
       "      <td>53.1000</td>\n",
       "      <td>1</td>\n",
       "      <td>0</td>\n",
       "      <td>0</td>\n",
       "      <td>0</td>\n",
       "      <td>0</td>\n",
       "      <td>0</td>\n",
       "      <td>...</td>\n",
       "      <td>1</td>\n",
       "      <td>0</td>\n",
       "      <td>0</td>\n",
       "      <td>0</td>\n",
       "      <td>1</td>\n",
       "      <td>0</td>\n",
       "      <td>0</td>\n",
       "      <td>1</td>\n",
       "      <td>0</td>\n",
       "      <td>0</td>\n",
       "    </tr>\n",
       "    <tr>\n",
       "      <th>4</th>\n",
       "      <td>0</td>\n",
       "      <td>0</td>\n",
       "      <td>0</td>\n",
       "      <td>8.0500</td>\n",
       "      <td>0</td>\n",
       "      <td>0</td>\n",
       "      <td>1</td>\n",
       "      <td>0</td>\n",
       "      <td>0</td>\n",
       "      <td>1</td>\n",
       "      <td>...</td>\n",
       "      <td>0</td>\n",
       "      <td>1</td>\n",
       "      <td>0</td>\n",
       "      <td>0</td>\n",
       "      <td>1</td>\n",
       "      <td>0</td>\n",
       "      <td>0</td>\n",
       "      <td>1</td>\n",
       "      <td>0</td>\n",
       "      <td>0</td>\n",
       "    </tr>\n",
       "  </tbody>\n",
       "</table>\n",
       "<p>5 rows × 22 columns</p>\n",
       "</div>"
      ],
      "text/plain": [
       "   Survived  SibSp  Parch     Fare  Pclass_1  Pclass_2  Pclass_3  Name_Master  \\\n",
       "0         0      1      0   7.2500         0         0         1            0   \n",
       "1         1      1      0  71.2833         1         0         0            0   \n",
       "2         1      0      0   7.9250         0         0         1            0   \n",
       "3         1      1      0  53.1000         1         0         0            0   \n",
       "4         0      0      0   8.0500         0         0         1            0   \n",
       "\n",
       "   Name_Miss  Name_Mr  ...  Sex_female  Sex_male  Embarked_C  Embarked_Q  \\\n",
       "0          0        1  ...           0         1           0           0   \n",
       "1          0        0  ...           1         0           1           0   \n",
       "2          1        0  ...           1         0           0           0   \n",
       "3          0        0  ...           1         0           0           0   \n",
       "4          0        1  ...           0         1           0           0   \n",
       "\n",
       "   Embarked_S  Age_Labels_Child  Age_Labels_Teen  Age_Labels_Adult  \\\n",
       "0           1                 0                0                 1   \n",
       "1           0                 0                0                 1   \n",
       "2           1                 0                0                 1   \n",
       "3           1                 0                0                 1   \n",
       "4           1                 0                0                 1   \n",
       "\n",
       "   Age_Labels_Middle Aged  Age_Labels_Elderly  \n",
       "0                       0                   0  \n",
       "1                       0                   0  \n",
       "2                       0                   0  \n",
       "3                       0                   0  \n",
       "4                       0                   0  \n",
       "\n",
       "[5 rows x 22 columns]"
      ]
     },
     "execution_count": 99,
     "metadata": {},
     "output_type": "execute_result"
    }
   ],
   "source": [
    "train_one = pd.get_dummies(train)  \n",
    "train_one.head()"
   ]
  },
  {
   "cell_type": "code",
   "execution_count": 100,
   "metadata": {
    "scrolled": true
   },
   "outputs": [
    {
     "data": {
      "text/html": [
       "<div>\n",
       "<style scoped>\n",
       "    .dataframe tbody tr th:only-of-type {\n",
       "        vertical-align: middle;\n",
       "    }\n",
       "\n",
       "    .dataframe tbody tr th {\n",
       "        vertical-align: top;\n",
       "    }\n",
       "\n",
       "    .dataframe thead th {\n",
       "        text-align: right;\n",
       "    }\n",
       "</style>\n",
       "<table border=\"1\" class=\"dataframe\">\n",
       "  <thead>\n",
       "    <tr style=\"text-align: right;\">\n",
       "      <th></th>\n",
       "      <th>SibSp</th>\n",
       "      <th>Parch</th>\n",
       "      <th>Fare</th>\n",
       "      <th>Pclass_1</th>\n",
       "      <th>Pclass_2</th>\n",
       "      <th>Pclass_3</th>\n",
       "      <th>Name_Master</th>\n",
       "      <th>Name_Miss</th>\n",
       "      <th>Name_Mr</th>\n",
       "      <th>Name_Mrs</th>\n",
       "      <th>...</th>\n",
       "      <th>Sex_female</th>\n",
       "      <th>Sex_male</th>\n",
       "      <th>Embarked_C</th>\n",
       "      <th>Embarked_Q</th>\n",
       "      <th>Embarked_S</th>\n",
       "      <th>Age_Labels_Child</th>\n",
       "      <th>Age_Labels_Teen</th>\n",
       "      <th>Age_Labels_Adult</th>\n",
       "      <th>Age_Labels_Middle Aged</th>\n",
       "      <th>Age_Labels_Elderly</th>\n",
       "    </tr>\n",
       "  </thead>\n",
       "  <tbody>\n",
       "    <tr>\n",
       "      <th>0</th>\n",
       "      <td>0</td>\n",
       "      <td>0</td>\n",
       "      <td>7.8292</td>\n",
       "      <td>0</td>\n",
       "      <td>0</td>\n",
       "      <td>1</td>\n",
       "      <td>0</td>\n",
       "      <td>0</td>\n",
       "      <td>1</td>\n",
       "      <td>0</td>\n",
       "      <td>...</td>\n",
       "      <td>0</td>\n",
       "      <td>1</td>\n",
       "      <td>0</td>\n",
       "      <td>1</td>\n",
       "      <td>0</td>\n",
       "      <td>0</td>\n",
       "      <td>0</td>\n",
       "      <td>1</td>\n",
       "      <td>0</td>\n",
       "      <td>0</td>\n",
       "    </tr>\n",
       "    <tr>\n",
       "      <th>1</th>\n",
       "      <td>1</td>\n",
       "      <td>0</td>\n",
       "      <td>7.0000</td>\n",
       "      <td>0</td>\n",
       "      <td>0</td>\n",
       "      <td>1</td>\n",
       "      <td>0</td>\n",
       "      <td>0</td>\n",
       "      <td>0</td>\n",
       "      <td>1</td>\n",
       "      <td>...</td>\n",
       "      <td>1</td>\n",
       "      <td>0</td>\n",
       "      <td>0</td>\n",
       "      <td>0</td>\n",
       "      <td>1</td>\n",
       "      <td>0</td>\n",
       "      <td>0</td>\n",
       "      <td>0</td>\n",
       "      <td>1</td>\n",
       "      <td>0</td>\n",
       "    </tr>\n",
       "    <tr>\n",
       "      <th>2</th>\n",
       "      <td>0</td>\n",
       "      <td>0</td>\n",
       "      <td>9.6875</td>\n",
       "      <td>0</td>\n",
       "      <td>1</td>\n",
       "      <td>0</td>\n",
       "      <td>0</td>\n",
       "      <td>0</td>\n",
       "      <td>1</td>\n",
       "      <td>0</td>\n",
       "      <td>...</td>\n",
       "      <td>0</td>\n",
       "      <td>1</td>\n",
       "      <td>0</td>\n",
       "      <td>1</td>\n",
       "      <td>0</td>\n",
       "      <td>0</td>\n",
       "      <td>0</td>\n",
       "      <td>0</td>\n",
       "      <td>0</td>\n",
       "      <td>1</td>\n",
       "    </tr>\n",
       "    <tr>\n",
       "      <th>3</th>\n",
       "      <td>0</td>\n",
       "      <td>0</td>\n",
       "      <td>8.6625</td>\n",
       "      <td>0</td>\n",
       "      <td>0</td>\n",
       "      <td>1</td>\n",
       "      <td>0</td>\n",
       "      <td>0</td>\n",
       "      <td>1</td>\n",
       "      <td>0</td>\n",
       "      <td>...</td>\n",
       "      <td>0</td>\n",
       "      <td>1</td>\n",
       "      <td>0</td>\n",
       "      <td>0</td>\n",
       "      <td>1</td>\n",
       "      <td>0</td>\n",
       "      <td>0</td>\n",
       "      <td>1</td>\n",
       "      <td>0</td>\n",
       "      <td>0</td>\n",
       "    </tr>\n",
       "    <tr>\n",
       "      <th>4</th>\n",
       "      <td>1</td>\n",
       "      <td>1</td>\n",
       "      <td>12.2875</td>\n",
       "      <td>0</td>\n",
       "      <td>0</td>\n",
       "      <td>1</td>\n",
       "      <td>0</td>\n",
       "      <td>0</td>\n",
       "      <td>0</td>\n",
       "      <td>1</td>\n",
       "      <td>...</td>\n",
       "      <td>1</td>\n",
       "      <td>0</td>\n",
       "      <td>0</td>\n",
       "      <td>0</td>\n",
       "      <td>1</td>\n",
       "      <td>0</td>\n",
       "      <td>0</td>\n",
       "      <td>1</td>\n",
       "      <td>0</td>\n",
       "      <td>0</td>\n",
       "    </tr>\n",
       "  </tbody>\n",
       "</table>\n",
       "<p>5 rows × 21 columns</p>\n",
       "</div>"
      ],
      "text/plain": [
       "   SibSp  Parch     Fare  Pclass_1  Pclass_2  Pclass_3  Name_Master  \\\n",
       "0      0      0   7.8292         0         0         1            0   \n",
       "1      1      0   7.0000         0         0         1            0   \n",
       "2      0      0   9.6875         0         1         0            0   \n",
       "3      0      0   8.6625         0         0         1            0   \n",
       "4      1      1  12.2875         0         0         1            0   \n",
       "\n",
       "   Name_Miss  Name_Mr  Name_Mrs  ...  Sex_female  Sex_male  Embarked_C  \\\n",
       "0          0        1         0  ...           0         1           0   \n",
       "1          0        0         1  ...           1         0           0   \n",
       "2          0        1         0  ...           0         1           0   \n",
       "3          0        1         0  ...           0         1           0   \n",
       "4          0        0         1  ...           1         0           0   \n",
       "\n",
       "   Embarked_Q  Embarked_S  Age_Labels_Child  Age_Labels_Teen  \\\n",
       "0           1           0                 0                0   \n",
       "1           0           1                 0                0   \n",
       "2           1           0                 0                0   \n",
       "3           0           1                 0                0   \n",
       "4           0           1                 0                0   \n",
       "\n",
       "   Age_Labels_Adult  Age_Labels_Middle Aged  Age_Labels_Elderly  \n",
       "0                 1                       0                   0  \n",
       "1                 0                       1                   0  \n",
       "2                 0                       0                   1  \n",
       "3                 1                       0                   0  \n",
       "4                 1                       0                   0  \n",
       "\n",
       "[5 rows x 21 columns]"
      ]
     },
     "execution_count": 100,
     "metadata": {},
     "output_type": "execute_result"
    }
   ],
   "source": [
    "test_one = pd.get_dummies(test)\n",
    "test_one.head()"
   ]
  },
  {
   "cell_type": "markdown",
   "metadata": {},
   "source": [
    "### Label Encoding\n",
    "Since one hot encoding increased the number of columns, we will even use label encoding on the datasets and store in a different variable. <br>\n",
    "The drawback of label encoding is that it treats the encoded values as a rank. Meaning labels encoded as 1, 2, 3 are considered to be 1<2<3. <br>"
   ]
  },
  {
   "cell_type": "code",
   "execution_count": 101,
   "metadata": {
    "scrolled": true
   },
   "outputs": [
    {
     "data": {
      "text/html": [
       "<div>\n",
       "<style scoped>\n",
       "    .dataframe tbody tr th:only-of-type {\n",
       "        vertical-align: middle;\n",
       "    }\n",
       "\n",
       "    .dataframe tbody tr th {\n",
       "        vertical-align: top;\n",
       "    }\n",
       "\n",
       "    .dataframe thead th {\n",
       "        text-align: right;\n",
       "    }\n",
       "</style>\n",
       "<table border=\"1\" class=\"dataframe\">\n",
       "  <thead>\n",
       "    <tr style=\"text-align: right;\">\n",
       "      <th></th>\n",
       "      <th>Survived</th>\n",
       "      <th>Pclass</th>\n",
       "      <th>Name</th>\n",
       "      <th>Sex</th>\n",
       "      <th>SibSp</th>\n",
       "      <th>Parch</th>\n",
       "      <th>Fare</th>\n",
       "      <th>Embarked</th>\n",
       "      <th>Age_Labels</th>\n",
       "    </tr>\n",
       "  </thead>\n",
       "  <tbody>\n",
       "    <tr>\n",
       "      <th>0</th>\n",
       "      <td>0</td>\n",
       "      <td>2</td>\n",
       "      <td>2</td>\n",
       "      <td>1</td>\n",
       "      <td>1</td>\n",
       "      <td>0</td>\n",
       "      <td>18</td>\n",
       "      <td>2</td>\n",
       "      <td>0</td>\n",
       "    </tr>\n",
       "    <tr>\n",
       "      <th>1</th>\n",
       "      <td>1</td>\n",
       "      <td>0</td>\n",
       "      <td>3</td>\n",
       "      <td>0</td>\n",
       "      <td>1</td>\n",
       "      <td>0</td>\n",
       "      <td>207</td>\n",
       "      <td>0</td>\n",
       "      <td>0</td>\n",
       "    </tr>\n",
       "    <tr>\n",
       "      <th>2</th>\n",
       "      <td>1</td>\n",
       "      <td>2</td>\n",
       "      <td>1</td>\n",
       "      <td>0</td>\n",
       "      <td>0</td>\n",
       "      <td>0</td>\n",
       "      <td>41</td>\n",
       "      <td>2</td>\n",
       "      <td>0</td>\n",
       "    </tr>\n",
       "    <tr>\n",
       "      <th>3</th>\n",
       "      <td>1</td>\n",
       "      <td>0</td>\n",
       "      <td>3</td>\n",
       "      <td>0</td>\n",
       "      <td>1</td>\n",
       "      <td>0</td>\n",
       "      <td>189</td>\n",
       "      <td>2</td>\n",
       "      <td>0</td>\n",
       "    </tr>\n",
       "    <tr>\n",
       "      <th>4</th>\n",
       "      <td>0</td>\n",
       "      <td>2</td>\n",
       "      <td>2</td>\n",
       "      <td>1</td>\n",
       "      <td>0</td>\n",
       "      <td>0</td>\n",
       "      <td>43</td>\n",
       "      <td>2</td>\n",
       "      <td>0</td>\n",
       "    </tr>\n",
       "    <tr>\n",
       "      <th>5</th>\n",
       "      <td>0</td>\n",
       "      <td>2</td>\n",
       "      <td>2</td>\n",
       "      <td>1</td>\n",
       "      <td>0</td>\n",
       "      <td>0</td>\n",
       "      <td>51</td>\n",
       "      <td>1</td>\n",
       "      <td>0</td>\n",
       "    </tr>\n",
       "    <tr>\n",
       "      <th>6</th>\n",
       "      <td>0</td>\n",
       "      <td>0</td>\n",
       "      <td>2</td>\n",
       "      <td>1</td>\n",
       "      <td>0</td>\n",
       "      <td>0</td>\n",
       "      <td>186</td>\n",
       "      <td>2</td>\n",
       "      <td>3</td>\n",
       "    </tr>\n",
       "    <tr>\n",
       "      <th>7</th>\n",
       "      <td>0</td>\n",
       "      <td>2</td>\n",
       "      <td>0</td>\n",
       "      <td>1</td>\n",
       "      <td>3</td>\n",
       "      <td>1</td>\n",
       "      <td>124</td>\n",
       "      <td>2</td>\n",
       "      <td>1</td>\n",
       "    </tr>\n",
       "    <tr>\n",
       "      <th>8</th>\n",
       "      <td>1</td>\n",
       "      <td>2</td>\n",
       "      <td>3</td>\n",
       "      <td>0</td>\n",
       "      <td>0</td>\n",
       "      <td>2</td>\n",
       "      <td>74</td>\n",
       "      <td>2</td>\n",
       "      <td>0</td>\n",
       "    </tr>\n",
       "    <tr>\n",
       "      <th>9</th>\n",
       "      <td>1</td>\n",
       "      <td>1</td>\n",
       "      <td>3</td>\n",
       "      <td>0</td>\n",
       "      <td>1</td>\n",
       "      <td>0</td>\n",
       "      <td>154</td>\n",
       "      <td>0</td>\n",
       "      <td>4</td>\n",
       "    </tr>\n",
       "    <tr>\n",
       "      <th>10</th>\n",
       "      <td>1</td>\n",
       "      <td>2</td>\n",
       "      <td>1</td>\n",
       "      <td>0</td>\n",
       "      <td>1</td>\n",
       "      <td>1</td>\n",
       "      <td>110</td>\n",
       "      <td>2</td>\n",
       "      <td>1</td>\n",
       "    </tr>\n",
       "    <tr>\n",
       "      <th>11</th>\n",
       "      <td>1</td>\n",
       "      <td>0</td>\n",
       "      <td>1</td>\n",
       "      <td>0</td>\n",
       "      <td>0</td>\n",
       "      <td>0</td>\n",
       "      <td>143</td>\n",
       "      <td>2</td>\n",
       "      <td>3</td>\n",
       "    </tr>\n",
       "    <tr>\n",
       "      <th>12</th>\n",
       "      <td>0</td>\n",
       "      <td>2</td>\n",
       "      <td>2</td>\n",
       "      <td>1</td>\n",
       "      <td>0</td>\n",
       "      <td>0</td>\n",
       "      <td>43</td>\n",
       "      <td>2</td>\n",
       "      <td>0</td>\n",
       "    </tr>\n",
       "    <tr>\n",
       "      <th>13</th>\n",
       "      <td>0</td>\n",
       "      <td>2</td>\n",
       "      <td>2</td>\n",
       "      <td>1</td>\n",
       "      <td>1</td>\n",
       "      <td>5</td>\n",
       "      <td>158</td>\n",
       "      <td>2</td>\n",
       "      <td>3</td>\n",
       "    </tr>\n",
       "    <tr>\n",
       "      <th>14</th>\n",
       "      <td>0</td>\n",
       "      <td>2</td>\n",
       "      <td>1</td>\n",
       "      <td>0</td>\n",
       "      <td>0</td>\n",
       "      <td>0</td>\n",
       "      <td>36</td>\n",
       "      <td>2</td>\n",
       "      <td>4</td>\n",
       "    </tr>\n",
       "    <tr>\n",
       "      <th>15</th>\n",
       "      <td>1</td>\n",
       "      <td>1</td>\n",
       "      <td>3</td>\n",
       "      <td>0</td>\n",
       "      <td>0</td>\n",
       "      <td>0</td>\n",
       "      <td>108</td>\n",
       "      <td>2</td>\n",
       "      <td>3</td>\n",
       "    </tr>\n",
       "    <tr>\n",
       "      <th>16</th>\n",
       "      <td>0</td>\n",
       "      <td>2</td>\n",
       "      <td>0</td>\n",
       "      <td>1</td>\n",
       "      <td>4</td>\n",
       "      <td>1</td>\n",
       "      <td>151</td>\n",
       "      <td>1</td>\n",
       "      <td>1</td>\n",
       "    </tr>\n",
       "    <tr>\n",
       "      <th>17</th>\n",
       "      <td>1</td>\n",
       "      <td>1</td>\n",
       "      <td>2</td>\n",
       "      <td>1</td>\n",
       "      <td>0</td>\n",
       "      <td>0</td>\n",
       "      <td>85</td>\n",
       "      <td>2</td>\n",
       "      <td>0</td>\n",
       "    </tr>\n",
       "    <tr>\n",
       "      <th>18</th>\n",
       "      <td>0</td>\n",
       "      <td>2</td>\n",
       "      <td>3</td>\n",
       "      <td>0</td>\n",
       "      <td>1</td>\n",
       "      <td>0</td>\n",
       "      <td>113</td>\n",
       "      <td>2</td>\n",
       "      <td>0</td>\n",
       "    </tr>\n",
       "    <tr>\n",
       "      <th>19</th>\n",
       "      <td>1</td>\n",
       "      <td>2</td>\n",
       "      <td>3</td>\n",
       "      <td>0</td>\n",
       "      <td>0</td>\n",
       "      <td>0</td>\n",
       "      <td>16</td>\n",
       "      <td>0</td>\n",
       "      <td>0</td>\n",
       "    </tr>\n",
       "  </tbody>\n",
       "</table>\n",
       "</div>"
      ],
      "text/plain": [
       "    Survived  Pclass  Name  Sex  SibSp  Parch  Fare  Embarked  Age_Labels\n",
       "0          0       2     2    1      1      0    18         2           0\n",
       "1          1       0     3    0      1      0   207         0           0\n",
       "2          1       2     1    0      0      0    41         2           0\n",
       "3          1       0     3    0      1      0   189         2           0\n",
       "4          0       2     2    1      0      0    43         2           0\n",
       "5          0       2     2    1      0      0    51         1           0\n",
       "6          0       0     2    1      0      0   186         2           3\n",
       "7          0       2     0    1      3      1   124         2           1\n",
       "8          1       2     3    0      0      2    74         2           0\n",
       "9          1       1     3    0      1      0   154         0           4\n",
       "10         1       2     1    0      1      1   110         2           1\n",
       "11         1       0     1    0      0      0   143         2           3\n",
       "12         0       2     2    1      0      0    43         2           0\n",
       "13         0       2     2    1      1      5   158         2           3\n",
       "14         0       2     1    0      0      0    36         2           4\n",
       "15         1       1     3    0      0      0   108         2           3\n",
       "16         0       2     0    1      4      1   151         1           1\n",
       "17         1       1     2    1      0      0    85         2           0\n",
       "18         0       2     3    0      1      0   113         2           0\n",
       "19         1       2     3    0      0      0    16         0           0"
      ]
     },
     "execution_count": 101,
     "metadata": {},
     "output_type": "execute_result"
    }
   ],
   "source": [
    "train_enc = train.apply(LabelEncoder().fit_transform)\n",
    "train_enc.head(20)"
   ]
  },
  {
   "cell_type": "code",
   "execution_count": 102,
   "metadata": {},
   "outputs": [
    {
     "data": {
      "text/html": [
       "<div>\n",
       "<style scoped>\n",
       "    .dataframe tbody tr th:only-of-type {\n",
       "        vertical-align: middle;\n",
       "    }\n",
       "\n",
       "    .dataframe tbody tr th {\n",
       "        vertical-align: top;\n",
       "    }\n",
       "\n",
       "    .dataframe thead th {\n",
       "        text-align: right;\n",
       "    }\n",
       "</style>\n",
       "<table border=\"1\" class=\"dataframe\">\n",
       "  <thead>\n",
       "    <tr style=\"text-align: right;\">\n",
       "      <th></th>\n",
       "      <th>Pclass</th>\n",
       "      <th>Name</th>\n",
       "      <th>Sex</th>\n",
       "      <th>SibSp</th>\n",
       "      <th>Parch</th>\n",
       "      <th>Fare</th>\n",
       "      <th>Embarked</th>\n",
       "      <th>Age_Labels</th>\n",
       "    </tr>\n",
       "  </thead>\n",
       "  <tbody>\n",
       "    <tr>\n",
       "      <th>0</th>\n",
       "      <td>2</td>\n",
       "      <td>2</td>\n",
       "      <td>1</td>\n",
       "      <td>0</td>\n",
       "      <td>0</td>\n",
       "      <td>24</td>\n",
       "      <td>1</td>\n",
       "      <td>0</td>\n",
       "    </tr>\n",
       "    <tr>\n",
       "      <th>1</th>\n",
       "      <td>2</td>\n",
       "      <td>3</td>\n",
       "      <td>0</td>\n",
       "      <td>1</td>\n",
       "      <td>0</td>\n",
       "      <td>5</td>\n",
       "      <td>2</td>\n",
       "      <td>3</td>\n",
       "    </tr>\n",
       "    <tr>\n",
       "      <th>2</th>\n",
       "      <td>1</td>\n",
       "      <td>2</td>\n",
       "      <td>1</td>\n",
       "      <td>0</td>\n",
       "      <td>0</td>\n",
       "      <td>41</td>\n",
       "      <td>1</td>\n",
       "      <td>2</td>\n",
       "    </tr>\n",
       "    <tr>\n",
       "      <th>3</th>\n",
       "      <td>2</td>\n",
       "      <td>2</td>\n",
       "      <td>1</td>\n",
       "      <td>0</td>\n",
       "      <td>0</td>\n",
       "      <td>34</td>\n",
       "      <td>2</td>\n",
       "      <td>0</td>\n",
       "    </tr>\n",
       "    <tr>\n",
       "      <th>4</th>\n",
       "      <td>2</td>\n",
       "      <td>3</td>\n",
       "      <td>0</td>\n",
       "      <td>1</td>\n",
       "      <td>1</td>\n",
       "      <td>46</td>\n",
       "      <td>2</td>\n",
       "      <td>0</td>\n",
       "    </tr>\n",
       "    <tr>\n",
       "      <th>5</th>\n",
       "      <td>2</td>\n",
       "      <td>2</td>\n",
       "      <td>1</td>\n",
       "      <td>0</td>\n",
       "      <td>0</td>\n",
       "      <td>37</td>\n",
       "      <td>2</td>\n",
       "      <td>4</td>\n",
       "    </tr>\n",
       "    <tr>\n",
       "      <th>6</th>\n",
       "      <td>2</td>\n",
       "      <td>1</td>\n",
       "      <td>0</td>\n",
       "      <td>0</td>\n",
       "      <td>0</td>\n",
       "      <td>14</td>\n",
       "      <td>1</td>\n",
       "      <td>0</td>\n",
       "    </tr>\n",
       "    <tr>\n",
       "      <th>7</th>\n",
       "      <td>1</td>\n",
       "      <td>2</td>\n",
       "      <td>1</td>\n",
       "      <td>1</td>\n",
       "      <td>1</td>\n",
       "      <td>100</td>\n",
       "      <td>2</td>\n",
       "      <td>0</td>\n",
       "    </tr>\n",
       "    <tr>\n",
       "      <th>8</th>\n",
       "      <td>2</td>\n",
       "      <td>3</td>\n",
       "      <td>0</td>\n",
       "      <td>0</td>\n",
       "      <td>0</td>\n",
       "      <td>8</td>\n",
       "      <td>0</td>\n",
       "      <td>4</td>\n",
       "    </tr>\n",
       "    <tr>\n",
       "      <th>9</th>\n",
       "      <td>2</td>\n",
       "      <td>2</td>\n",
       "      <td>1</td>\n",
       "      <td>2</td>\n",
       "      <td>0</td>\n",
       "      <td>89</td>\n",
       "      <td>2</td>\n",
       "      <td>0</td>\n",
       "    </tr>\n",
       "    <tr>\n",
       "      <th>10</th>\n",
       "      <td>2</td>\n",
       "      <td>2</td>\n",
       "      <td>1</td>\n",
       "      <td>0</td>\n",
       "      <td>0</td>\n",
       "      <td>29</td>\n",
       "      <td>2</td>\n",
       "      <td>0</td>\n",
       "    </tr>\n",
       "    <tr>\n",
       "      <th>11</th>\n",
       "      <td>0</td>\n",
       "      <td>2</td>\n",
       "      <td>1</td>\n",
       "      <td>0</td>\n",
       "      <td>0</td>\n",
       "      <td>93</td>\n",
       "      <td>2</td>\n",
       "      <td>3</td>\n",
       "    </tr>\n",
       "    <tr>\n",
       "      <th>12</th>\n",
       "      <td>0</td>\n",
       "      <td>3</td>\n",
       "      <td>0</td>\n",
       "      <td>1</td>\n",
       "      <td>0</td>\n",
       "      <td>149</td>\n",
       "      <td>2</td>\n",
       "      <td>0</td>\n",
       "    </tr>\n",
       "    <tr>\n",
       "      <th>13</th>\n",
       "      <td>1</td>\n",
       "      <td>2</td>\n",
       "      <td>1</td>\n",
       "      <td>1</td>\n",
       "      <td>0</td>\n",
       "      <td>93</td>\n",
       "      <td>2</td>\n",
       "      <td>2</td>\n",
       "    </tr>\n",
       "    <tr>\n",
       "      <th>14</th>\n",
       "      <td>0</td>\n",
       "      <td>3</td>\n",
       "      <td>0</td>\n",
       "      <td>1</td>\n",
       "      <td>0</td>\n",
       "      <td>135</td>\n",
       "      <td>2</td>\n",
       "      <td>3</td>\n",
       "    </tr>\n",
       "    <tr>\n",
       "      <th>15</th>\n",
       "      <td>1</td>\n",
       "      <td>3</td>\n",
       "      <td>0</td>\n",
       "      <td>1</td>\n",
       "      <td>0</td>\n",
       "      <td>96</td>\n",
       "      <td>0</td>\n",
       "      <td>0</td>\n",
       "    </tr>\n",
       "    <tr>\n",
       "      <th>16</th>\n",
       "      <td>1</td>\n",
       "      <td>2</td>\n",
       "      <td>1</td>\n",
       "      <td>0</td>\n",
       "      <td>0</td>\n",
       "      <td>47</td>\n",
       "      <td>1</td>\n",
       "      <td>0</td>\n",
       "    </tr>\n",
       "    <tr>\n",
       "      <th>17</th>\n",
       "      <td>2</td>\n",
       "      <td>2</td>\n",
       "      <td>1</td>\n",
       "      <td>0</td>\n",
       "      <td>0</td>\n",
       "      <td>7</td>\n",
       "      <td>0</td>\n",
       "      <td>0</td>\n",
       "    </tr>\n",
       "    <tr>\n",
       "      <th>18</th>\n",
       "      <td>2</td>\n",
       "      <td>1</td>\n",
       "      <td>0</td>\n",
       "      <td>1</td>\n",
       "      <td>0</td>\n",
       "      <td>30</td>\n",
       "      <td>2</td>\n",
       "      <td>0</td>\n",
       "    </tr>\n",
       "    <tr>\n",
       "      <th>19</th>\n",
       "      <td>2</td>\n",
       "      <td>3</td>\n",
       "      <td>0</td>\n",
       "      <td>0</td>\n",
       "      <td>0</td>\n",
       "      <td>7</td>\n",
       "      <td>0</td>\n",
       "      <td>3</td>\n",
       "    </tr>\n",
       "  </tbody>\n",
       "</table>\n",
       "</div>"
      ],
      "text/plain": [
       "    Pclass  Name  Sex  SibSp  Parch  Fare  Embarked  Age_Labels\n",
       "0        2     2    1      0      0    24         1           0\n",
       "1        2     3    0      1      0     5         2           3\n",
       "2        1     2    1      0      0    41         1           2\n",
       "3        2     2    1      0      0    34         2           0\n",
       "4        2     3    0      1      1    46         2           0\n",
       "5        2     2    1      0      0    37         2           4\n",
       "6        2     1    0      0      0    14         1           0\n",
       "7        1     2    1      1      1   100         2           0\n",
       "8        2     3    0      0      0     8         0           4\n",
       "9        2     2    1      2      0    89         2           0\n",
       "10       2     2    1      0      0    29         2           0\n",
       "11       0     2    1      0      0    93         2           3\n",
       "12       0     3    0      1      0   149         2           0\n",
       "13       1     2    1      1      0    93         2           2\n",
       "14       0     3    0      1      0   135         2           3\n",
       "15       1     3    0      1      0    96         0           0\n",
       "16       1     2    1      0      0    47         1           0\n",
       "17       2     2    1      0      0     7         0           0\n",
       "18       2     1    0      1      0    30         2           0\n",
       "19       2     3    0      0      0     7         0           3"
      ]
     },
     "execution_count": 102,
     "metadata": {},
     "output_type": "execute_result"
    }
   ],
   "source": [
    "test_enc = test.apply(LabelEncoder().fit_transform)\n",
    "test_enc.head(20)"
   ]
  },
  {
   "cell_type": "markdown",
   "metadata": {},
   "source": [
    "## 3.2 Machine learning model"
   ]
  },
  {
   "cell_type": "markdown",
   "metadata": {},
   "source": [
    "We will use both type of encoding to train our models to see which encoding performs best for our problem statement. <br>\n",
    "This is a supervised classification problem, where we are predicting whether the passenger survived or not. <br>\n",
    "So, we will use the following classification algorithms to predict the survival in test set - <br>\n",
    "1. Logistics Regression <br>\n",
    "2. K - Nearest neighbor <br>\n",
    "3. Support Vector Machine <br>\n",
    "4. Naive Bayes <br>\n",
    "5. Decision trees <br>"
   ]
  },
  {
   "cell_type": "code",
   "execution_count": 103,
   "metadata": {},
   "outputs": [],
   "source": [
    "# First splitting the dataframe into data and labels\n",
    "# For one hot encoded data\n",
    "X_train_one = train_one.drop('Survived', axis = 1)\n",
    "y_train_one = train_one.Survived"
   ]
  },
  {
   "cell_type": "code",
   "execution_count": 104,
   "metadata": {},
   "outputs": [],
   "source": [
    "# For label encoded data\n",
    "X_train_enc = train_enc.drop('Survived', axis = 1)\n",
    "y_train_enc = train_enc.Survived"
   ]
  },
  {
   "cell_type": "markdown",
   "metadata": {},
   "source": [
    "### 3.2.1 Logisitc Regression"
   ]
  },
  {
   "cell_type": "code",
   "execution_count": 105,
   "metadata": {},
   "outputs": [
    {
     "name": "stderr",
     "output_type": "stream",
     "text": [
      "/home/oshijain/.local/lib/python3.6/site-packages/sklearn/linear_model/logistic.py:432: FutureWarning: Default solver will be changed to 'lbfgs' in 0.22. Specify a solver to silence this warning.\n",
      "  FutureWarning)\n"
     ]
    }
   ],
   "source": [
    "#model_lr = LogisticRegression(solver='lbfgs')\n",
    "model_lr = LogisticRegression()\n",
    "model_lr.fit(X_train_one, y_train_one)\n",
    "predictions_lr_one = model_lr.predict(X_train_one)"
   ]
  },
  {
   "cell_type": "code",
   "execution_count": 106,
   "metadata": {
    "scrolled": true
   },
   "outputs": [
    {
     "name": "stdout",
     "output_type": "stream",
     "text": [
      "              precision    recall  f1-score   support\n",
      "\n",
      "           0       0.85      0.88      0.87       549\n",
      "           1       0.80      0.75      0.77       340\n",
      "\n",
      "    accuracy                           0.83       889\n",
      "   macro avg       0.82      0.82      0.82       889\n",
      "weighted avg       0.83      0.83      0.83       889\n",
      "\n"
     ]
    }
   ],
   "source": [
    "print(classification_report(y_train_one,predictions_lr_one))"
   ]
  },
  {
   "cell_type": "code",
   "execution_count": 107,
   "metadata": {},
   "outputs": [
    {
     "name": "stdout",
     "output_type": "stream",
     "text": [
      "[[484  65]\n",
      " [ 85 255]]\n"
     ]
    }
   ],
   "source": [
    "print(confusion_matrix(y_train_one,predictions_lr_one))"
   ]
  },
  {
   "cell_type": "code",
   "execution_count": 108,
   "metadata": {},
   "outputs": [
    {
     "data": {
      "text/plain": [
       "83.13"
      ]
     },
     "execution_count": 108,
     "metadata": {},
     "output_type": "execute_result"
    }
   ],
   "source": [
    "acc = round(model_lr.score(X_train_one, y_train_one) * 100, 2)\n",
    "#print(\"Accuracy:\",accuracy_score(y_train_one, proneedictions_lr_one))\n",
    "acc"
   ]
  },
  {
   "cell_type": "code",
   "execution_count": 109,
   "metadata": {
    "scrolled": true
   },
   "outputs": [
    {
     "name": "stdout",
     "output_type": "stream",
     "text": [
      "              precision    recall  f1-score   support\n",
      "\n",
      "           0       0.82      0.86      0.84       549\n",
      "           1       0.75      0.69      0.72       340\n",
      "\n",
      "    accuracy                           0.79       889\n",
      "   macro avg       0.78      0.77      0.78       889\n",
      "weighted avg       0.79      0.79      0.79       889\n",
      "\n",
      "[[470  79]\n",
      " [105 235]]\n"
     ]
    },
    {
     "name": "stderr",
     "output_type": "stream",
     "text": [
      "/home/oshijain/.local/lib/python3.6/site-packages/sklearn/linear_model/logistic.py:432: FutureWarning: Default solver will be changed to 'lbfgs' in 0.22. Specify a solver to silence this warning.\n",
      "  FutureWarning)\n"
     ]
    }
   ],
   "source": [
    "# Applying the model on Label Encoded data\n",
    "model_lr_enc= LogisticRegression()\n",
    "model_lr_enc.fit(X_train_enc, y_train_enc)\n",
    "predictions_lr_enc = model_lr_enc.predict(X_train_enc)\n",
    "print(classification_report(y_train_enc,predictions_lr_enc))\n",
    "print(confusion_matrix(y_train_enc,predictions_lr_enc))"
   ]
  },
  {
   "cell_type": "code",
   "execution_count": 110,
   "metadata": {},
   "outputs": [
    {
     "name": "stdout",
     "output_type": "stream",
     "text": [
      "79.3\n"
     ]
    }
   ],
   "source": [
    "acc = round(model_lr_enc.score(X_train_enc, y_train_enc) * 100, 2)\n",
    "print(acc)"
   ]
  },
  {
   "cell_type": "markdown",
   "metadata": {},
   "source": [
    "The model performs better on One hot encoded data rather than label encoded data. <br>\n",
    "Eventhough the number of columns increases in One hot encoding, the performance of the model is still higher."
   ]
  },
  {
   "cell_type": "markdown",
   "metadata": {},
   "source": [
    "__* Accuracy of Logisitc Regression -*__ <br>\n",
    "__*One Hot Encoded : 83.13 %*__ <br>\n",
    "__*Label Encoded: 79.3 %*__"
   ]
  },
  {
   "cell_type": "markdown",
   "metadata": {},
   "source": [
    "### 3.2.2 K - Nearest Neighbor"
   ]
  },
  {
   "cell_type": "markdown",
   "metadata": {},
   "source": [
    "#### One Hot Encoded Data"
   ]
  },
  {
   "cell_type": "code",
   "execution_count": 111,
   "metadata": {},
   "outputs": [],
   "source": [
    "# One Hot Encoded data\n",
    "knn_one = KNeighborsClassifier(n_neighbors=3) \n",
    "knn_one.fit(X_train_one, y_train_one)\n",
    "predictions_knn_one = knn_one.predict(X_train_one)"
   ]
  },
  {
   "cell_type": "code",
   "execution_count": 112,
   "metadata": {},
   "outputs": [
    {
     "name": "stdout",
     "output_type": "stream",
     "text": [
      "              precision    recall  f1-score   support\n",
      "\n",
      "           0       0.89      0.90      0.90       549\n",
      "           1       0.84      0.82      0.83       340\n",
      "\n",
      "    accuracy                           0.87       889\n",
      "   macro avg       0.86      0.86      0.86       889\n",
      "weighted avg       0.87      0.87      0.87       889\n",
      "\n",
      "[[494  55]\n",
      " [ 60 280]]\n"
     ]
    }
   ],
   "source": [
    "print(classification_report(y_train_one,predictions_knn_one))\n",
    "print(confusion_matrix(y_train_one,predictions_knn_one))"
   ]
  },
  {
   "cell_type": "code",
   "execution_count": 113,
   "metadata": {},
   "outputs": [
    {
     "name": "stdout",
     "output_type": "stream",
     "text": [
      "87.06\n"
     ]
    }
   ],
   "source": [
    "acc_knn_one = round(knn_one.score(X_train_one, y_train_one) * 100, 2)\n",
    "print(acc_knn_one)"
   ]
  },
  {
   "cell_type": "markdown",
   "metadata": {},
   "source": [
    "Neighbor = 2 ; accuracy = 86.39 <br>\n",
    "Neighbor = 3 ; accuracy = 87.06 <br>\n",
    "Neighbor = 4 ; accuracy = 85.6 <br>\n",
    "Neighbor = 5 ; accuracy = 85.04 <br>\n",
    "Neighbor = 10 ; accuracy = 83.24 <br>\n",
    "So, we will use n_neighbors = 3, as it has maximum accuracy for our dataset."
   ]
  },
  {
   "cell_type": "markdown",
   "metadata": {},
   "source": [
    "#### Label Encoded Data"
   ]
  },
  {
   "cell_type": "code",
   "execution_count": 114,
   "metadata": {},
   "outputs": [],
   "source": [
    "knn_enc = KNeighborsClassifier(n_neighbors=3) \n",
    "knn_enc.fit(X_train_enc, y_train_enc)\n",
    "predictions_knn_enc = knn_enc.predict(X_train_enc)"
   ]
  },
  {
   "cell_type": "code",
   "execution_count": 115,
   "metadata": {},
   "outputs": [
    {
     "name": "stdout",
     "output_type": "stream",
     "text": [
      "              precision    recall  f1-score   support\n",
      "\n",
      "           0       0.87      0.90      0.88       549\n",
      "           1       0.83      0.79      0.81       340\n",
      "\n",
      "    accuracy                           0.85       889\n",
      "   macro avg       0.85      0.84      0.84       889\n",
      "weighted avg       0.85      0.85      0.85       889\n",
      "\n",
      "[[493  56]\n",
      " [ 73 267]]\n"
     ]
    }
   ],
   "source": [
    "print(classification_report(y_train_enc,predictions_knn_enc))\n",
    "print(confusion_matrix(y_train_enc,predictions_knn_enc))"
   ]
  },
  {
   "cell_type": "code",
   "execution_count": 116,
   "metadata": {},
   "outputs": [
    {
     "name": "stdout",
     "output_type": "stream",
     "text": [
      "85.49\n"
     ]
    }
   ],
   "source": [
    "acc_knn_enc = round(knn_enc.score(X_train_enc, y_train_enc) * 100, 2)\n",
    "print(acc_knn_enc)"
   ]
  },
  {
   "cell_type": "markdown",
   "metadata": {},
   "source": [
    "For this algorithm as well, the model performed much better with one hot encoded data rather than label encoded data."
   ]
  },
  {
   "cell_type": "markdown",
   "metadata": {},
   "source": [
    "__* Accuracy of KNN with 3 neighbors -*__ <br>\n",
    "__*One Hot Encoded : 87.06 %*__ <br>\n",
    "__*Label Encoded: 85.49 %*__\n"
   ]
  },
  {
   "cell_type": "markdown",
   "metadata": {},
   "source": [
    "### 3.2.3 Support Vector Machines"
   ]
  },
  {
   "cell_type": "markdown",
   "metadata": {},
   "source": [
    "#### One Hot Encoded Data"
   ]
  },
  {
   "cell_type": "code",
   "execution_count": 117,
   "metadata": {},
   "outputs": [],
   "source": [
    "svm_one = SVC(kernel = 'linear')\n",
    "svm_one.fit(X_train_one, y_train_one)\n",
    "predictions_svm_one = svm_one.predict(X_train_one)"
   ]
  },
  {
   "cell_type": "code",
   "execution_count": 118,
   "metadata": {},
   "outputs": [
    {
     "name": "stdout",
     "output_type": "stream",
     "text": [
      "              precision    recall  f1-score   support\n",
      "\n",
      "           0       0.84      0.88      0.86       549\n",
      "           1       0.80      0.74      0.77       340\n",
      "\n",
      "    accuracy                           0.83       889\n",
      "   macro avg       0.82      0.81      0.82       889\n",
      "weighted avg       0.83      0.83      0.83       889\n",
      "\n",
      "[[485  64]\n",
      " [ 89 251]]\n"
     ]
    }
   ],
   "source": [
    "print(classification_report(y_train_one, predictions_svm_one))\n",
    "print(confusion_matrix(y_train_one, predictions_svm_one))"
   ]
  },
  {
   "cell_type": "code",
   "execution_count": 119,
   "metadata": {},
   "outputs": [
    {
     "name": "stdout",
     "output_type": "stream",
     "text": [
      "82.79\n"
     ]
    }
   ],
   "source": [
    "acc_svm_one = round(svm_one.score(X_train_one,y_train_one)*100,2)\n",
    "print(acc_svm_one)"
   ]
  },
  {
   "cell_type": "markdown",
   "metadata": {},
   "source": [
    "#### Label Encoded Data"
   ]
  },
  {
   "cell_type": "code",
   "execution_count": 120,
   "metadata": {},
   "outputs": [],
   "source": [
    "svm_enc = SVC(kernel = 'linear')\n",
    "svm_enc.fit(X_train_enc, y_train_enc)\n",
    "predictions_svm_enc = svm_enc.predict(X_train_enc)"
   ]
  },
  {
   "cell_type": "code",
   "execution_count": 121,
   "metadata": {
    "scrolled": true
   },
   "outputs": [
    {
     "name": "stdout",
     "output_type": "stream",
     "text": [
      "              precision    recall  f1-score   support\n",
      "\n",
      "           0       0.81      0.85      0.83       549\n",
      "           1       0.74      0.68      0.71       340\n",
      "\n",
      "    accuracy                           0.79       889\n",
      "   macro avg       0.78      0.77      0.77       889\n",
      "weighted avg       0.78      0.79      0.78       889\n",
      "\n",
      "[[468  81]\n",
      " [109 231]]\n"
     ]
    }
   ],
   "source": [
    "print(classification_report(y_train_enc, predictions_svm_enc))\n",
    "print(confusion_matrix(y_train_enc, predictions_svm_enc))"
   ]
  },
  {
   "cell_type": "code",
   "execution_count": 122,
   "metadata": {},
   "outputs": [
    {
     "name": "stdout",
     "output_type": "stream",
     "text": [
      "78.63\n"
     ]
    }
   ],
   "source": [
    "acc_svm_enc = round(svm_enc.score(X_train_enc,y_train_enc)*100,2)\n",
    "print(acc_svm_enc)"
   ]
  },
  {
   "cell_type": "markdown",
   "metadata": {},
   "source": [
    "__* Accuracy of Support Vector Machine wit linear kernel -*__ <br>\n",
    "__*One Hot Encoded : 82.79 %*__ <br>\n",
    "__*Label Encoded: 78.63 %*__"
   ]
  },
  {
   "cell_type": "markdown",
   "metadata": {},
   "source": [
    "### 3.2.4 Naive Bayes"
   ]
  },
  {
   "cell_type": "markdown",
   "metadata": {},
   "source": [
    "#### One Hot Encoded Data"
   ]
  },
  {
   "cell_type": "code",
   "execution_count": 123,
   "metadata": {},
   "outputs": [],
   "source": [
    "nb_one = GaussianNB()\n",
    "nb_one.fit(X_train_one,y_train_one)\n",
    "predictions_nb_one = nb_one.predict(X_train_one)"
   ]
  },
  {
   "cell_type": "code",
   "execution_count": 124,
   "metadata": {},
   "outputs": [
    {
     "name": "stdout",
     "output_type": "stream",
     "text": [
      "              precision    recall  f1-score   support\n",
      "\n",
      "           0       0.84      0.80      0.82       549\n",
      "           1       0.70      0.76      0.73       340\n",
      "\n",
      "    accuracy                           0.78       889\n",
      "   macro avg       0.77      0.78      0.77       889\n",
      "weighted avg       0.79      0.78      0.79       889\n",
      "\n",
      "[[439 110]\n",
      " [ 82 258]]\n"
     ]
    }
   ],
   "source": [
    "print(classification_report(y_train_one,predictions_nb_one))\n",
    "print(confusion_matrix(y_train_one,predictions_nb_one))"
   ]
  },
  {
   "cell_type": "code",
   "execution_count": 125,
   "metadata": {},
   "outputs": [
    {
     "name": "stdout",
     "output_type": "stream",
     "text": [
      "78.4\n"
     ]
    }
   ],
   "source": [
    "acc_nb_one = round(nb_one.score(X_train_one,y_train_one) * 100, 2)\n",
    "print(acc_nb_one)"
   ]
  },
  {
   "cell_type": "markdown",
   "metadata": {},
   "source": [
    "#### Label Encoded Data"
   ]
  },
  {
   "cell_type": "code",
   "execution_count": 126,
   "metadata": {},
   "outputs": [],
   "source": [
    "nb_enc = GaussianNB()\n",
    "nb_enc.fit(X_train_enc, y_train_enc)\n",
    "predictions_nb_enc = nb_enc.predict(X_train_enc)"
   ]
  },
  {
   "cell_type": "code",
   "execution_count": 127,
   "metadata": {
    "scrolled": true
   },
   "outputs": [
    {
     "name": "stdout",
     "output_type": "stream",
     "text": [
      "              precision    recall  f1-score   support\n",
      "\n",
      "           0       0.86      0.78      0.82       549\n",
      "           1       0.69      0.80      0.74       340\n",
      "\n",
      "    accuracy                           0.79       889\n",
      "   macro avg       0.78      0.79      0.78       889\n",
      "weighted avg       0.80      0.79      0.79       889\n",
      "\n",
      "[[429 120]\n",
      " [ 67 273]]\n"
     ]
    }
   ],
   "source": [
    "print(classification_report(y_train_enc, predictions_nb_enc))\n",
    "print(confusion_matrix(y_train_enc, predictions_nb_enc))"
   ]
  },
  {
   "cell_type": "code",
   "execution_count": 128,
   "metadata": {},
   "outputs": [
    {
     "name": "stdout",
     "output_type": "stream",
     "text": [
      "78.97\n"
     ]
    }
   ],
   "source": [
    "acc_nb_enc = round(nb_enc.score(X_train_enc, y_train_enc) * 100,2)\n",
    "print(acc_nb_enc)"
   ]
  },
  {
   "cell_type": "markdown",
   "metadata": {},
   "source": [
    "__* Accuracy of Naive Bayes -*__ <br>\n",
    "__*One Hot Encoded : 78.4 %*__ <br>\n",
    "__*Label Encoded: 78.97 %*__"
   ]
  },
  {
   "cell_type": "markdown",
   "metadata": {},
   "source": [
    "### 3.2.5 Decision Trees"
   ]
  },
  {
   "cell_type": "markdown",
   "metadata": {},
   "source": [
    "#### One Hot Encoded Data"
   ]
  },
  {
   "cell_type": "code",
   "execution_count": 129,
   "metadata": {},
   "outputs": [],
   "source": [
    "dt_one = tree.DecisionTreeClassifier()\n",
    "model_dt_one = dt_one.fit(X_train_one, y_train_one)\n",
    "predictions_dt_one = dt_one.predict(X_train_one)"
   ]
  },
  {
   "cell_type": "code",
   "execution_count": 130,
   "metadata": {},
   "outputs": [
    {
     "name": "stdout",
     "output_type": "stream",
     "text": [
      "              precision    recall  f1-score   support\n",
      "\n",
      "           0       0.94      0.98      0.96       549\n",
      "           1       0.96      0.89      0.93       340\n",
      "\n",
      "    accuracy                           0.94       889\n",
      "   macro avg       0.95      0.94      0.94       889\n",
      "weighted avg       0.95      0.94      0.94       889\n",
      "\n",
      "[[536  13]\n",
      " [ 36 304]]\n"
     ]
    }
   ],
   "source": [
    "print(classification_report(y_train_one, predictions_dt_one))\n",
    "print(confusion_matrix(y_train_one, predictions_dt_one))"
   ]
  },
  {
   "cell_type": "code",
   "execution_count": 131,
   "metadata": {},
   "outputs": [
    {
     "name": "stdout",
     "output_type": "stream",
     "text": [
      "94.49\n"
     ]
    }
   ],
   "source": [
    "acc_dt_one = round(dt_one.score(X_train_one, y_train_one) * 100, 2)\n",
    "print(acc_dt_one)"
   ]
  },
  {
   "cell_type": "markdown",
   "metadata": {},
   "source": [
    "#### Label Encoded Data"
   ]
  },
  {
   "cell_type": "code",
   "execution_count": 132,
   "metadata": {},
   "outputs": [],
   "source": [
    "dt_enc = tree.DecisionTreeClassifier()\n",
    "model_dt_enc = dt_enc.fit(X_train_enc, y_train_enc)\n",
    "predictions_dt_enc = dt_enc.predict(X_train_enc)"
   ]
  },
  {
   "cell_type": "code",
   "execution_count": 133,
   "metadata": {
    "scrolled": true
   },
   "outputs": [
    {
     "name": "stdout",
     "output_type": "stream",
     "text": [
      "              precision    recall  f1-score   support\n",
      "\n",
      "           0       0.94      0.98      0.96       549\n",
      "           1       0.96      0.89      0.93       340\n",
      "\n",
      "    accuracy                           0.94       889\n",
      "   macro avg       0.95      0.94      0.94       889\n",
      "weighted avg       0.95      0.94      0.94       889\n",
      "\n",
      "[[536  13]\n",
      " [ 36 304]]\n"
     ]
    }
   ],
   "source": [
    "print(classification_report(y_train_enc, predictions_dt_enc))\n",
    "print(confusion_matrix(y_train_enc, predictions_dt_enc))"
   ]
  },
  {
   "cell_type": "code",
   "execution_count": 134,
   "metadata": {},
   "outputs": [
    {
     "name": "stdout",
     "output_type": "stream",
     "text": [
      "94.49\n"
     ]
    }
   ],
   "source": [
    "acc_dt_enc = round(dt_enc.score(X_train_enc, y_train_enc) * 100,2)\n",
    "print(acc_dt_enc)"
   ]
  },
  {
   "cell_type": "markdown",
   "metadata": {},
   "source": [
    "__* Accuracy of Decision Tree -*__ <br>\n",
    "__*One Hot Encoded : 94.49 %*__ <br>\n",
    "__*Label Encoded: 94.49 %*__"
   ]
  },
  {
   "cell_type": "code",
   "execution_count": 135,
   "metadata": {},
   "outputs": [
    {
     "data": {
      "text/plain": [
       "[Text(169.54549632352942, 211.4, 'X[8] <= 0.5\\nentropy = 0.472\\nsamples = 889\\nvalue = [549, 340]'),\n",
       " Text(83.1358455882353, 199.32, 'X[5] <= 0.5\\nentropy = 0.423\\nsamples = 372\\nvalue = [113, 259]'),\n",
       " Text(43.491176470588236, 187.24, 'X[10] <= 0.5\\nentropy = 0.211\\nsamples = 200\\nvalue = [24, 176]'),\n",
       " Text(34.464705882352945, 175.16, 'X[2] <= 28.856\\nentropy = 0.099\\nsamples = 173\\nvalue = [9, 164]'),\n",
       " Text(27.35294117647059, 163.07999999999998, 'X[2] <= 28.231\\nentropy = 0.173\\nsamples = 73\\nvalue = [7, 66]'),\n",
       " Text(25.164705882352944, 151.0, 'X[1] <= 0.5\\nentropy = 0.153\\nsamples = 72\\nvalue = [6, 66]'),\n",
       " Text(17.50588235294118, 138.92000000000002, 'X[15] <= 0.5\\nentropy = 0.198\\nsamples = 45\\nvalue = [5, 40]'),\n",
       " Text(15.317647058823532, 126.84, 'entropy = 0.0\\nsamples = 7\\nvalue = [0, 7]'),\n",
       " Text(19.694117647058825, 126.84, 'X[0] <= 0.5\\nentropy = 0.229\\nsamples = 38\\nvalue = [5, 33]'),\n",
       " Text(15.317647058823532, 114.75999999999999, 'X[2] <= 13.25\\nentropy = 0.191\\nsamples = 28\\nvalue = [3, 25]'),\n",
       " Text(13.129411764705884, 102.67999999999999, 'X[17] <= 0.5\\nentropy = 0.245\\nsamples = 21\\nvalue = [3, 18]'),\n",
       " Text(10.941176470588236, 90.6, 'X[18] <= 0.5\\nentropy = 0.255\\nsamples = 20\\nvalue = [3, 17]'),\n",
       " Text(6.564705882352942, 78.52000000000001, 'X[7] <= 0.5\\nentropy = 0.32\\nsamples = 5\\nvalue = [1, 4]'),\n",
       " Text(4.376470588235295, 66.44, 'X[2] <= 11.75\\nentropy = 0.5\\nsamples = 2\\nvalue = [1, 1]'),\n",
       " Text(2.1882352941176473, 54.359999999999985, 'entropy = 0.0\\nsamples = 1\\nvalue = [1, 0]'),\n",
       " Text(6.564705882352942, 54.359999999999985, 'entropy = 0.0\\nsamples = 1\\nvalue = [0, 1]'),\n",
       " Text(8.75294117647059, 66.44, 'entropy = 0.0\\nsamples = 3\\nvalue = [0, 3]'),\n",
       " Text(15.317647058823532, 78.52000000000001, 'X[9] <= 0.5\\nentropy = 0.231\\nsamples = 15\\nvalue = [2, 13]'),\n",
       " Text(13.129411764705884, 66.44, 'X[2] <= 11.75\\nentropy = 0.32\\nsamples = 10\\nvalue = [2, 8]'),\n",
       " Text(10.941176470588236, 54.359999999999985, 'entropy = 0.0\\nsamples = 2\\nvalue = [0, 2]'),\n",
       " Text(15.317647058823532, 54.359999999999985, 'entropy = 0.375\\nsamples = 8\\nvalue = [2, 6]'),\n",
       " Text(17.50588235294118, 66.44, 'entropy = 0.0\\nsamples = 5\\nvalue = [0, 5]'),\n",
       " Text(15.317647058823532, 90.6, 'entropy = 0.0\\nsamples = 1\\nvalue = [0, 1]'),\n",
       " Text(17.50588235294118, 102.67999999999999, 'entropy = 0.0\\nsamples = 7\\nvalue = [0, 7]'),\n",
       " Text(24.07058823529412, 114.75999999999999, 'X[18] <= 0.5\\nentropy = 0.32\\nsamples = 10\\nvalue = [2, 8]'),\n",
       " Text(21.88235294117647, 102.67999999999999, 'entropy = 0.5\\nsamples = 2\\nvalue = [1, 1]'),\n",
       " Text(26.258823529411767, 102.67999999999999, 'X[2] <= 23.5\\nentropy = 0.219\\nsamples = 8\\nvalue = [1, 7]'),\n",
       " Text(24.07058823529412, 90.6, 'X[0] <= 2.0\\nentropy = 0.5\\nsamples = 2\\nvalue = [1, 1]'),\n",
       " Text(21.88235294117647, 78.52000000000001, 'entropy = 0.0\\nsamples = 1\\nvalue = [1, 0]'),\n",
       " Text(26.258823529411767, 78.52000000000001, 'entropy = 0.0\\nsamples = 1\\nvalue = [0, 1]'),\n",
       " Text(28.447058823529414, 90.6, 'entropy = 0.0\\nsamples = 6\\nvalue = [0, 6]'),\n",
       " Text(32.82352941176471, 138.92000000000002, 'X[18] <= 0.5\\nentropy = 0.071\\nsamples = 27\\nvalue = [1, 26]'),\n",
       " Text(30.635294117647064, 126.84, 'entropy = 0.0\\nsamples = 17\\nvalue = [0, 17]'),\n",
       " Text(35.01176470588236, 126.84, 'X[0] <= 0.5\\nentropy = 0.18\\nsamples = 10\\nvalue = [1, 9]'),\n",
       " Text(32.82352941176471, 114.75999999999999, 'entropy = 0.0\\nsamples = 5\\nvalue = [0, 5]'),\n",
       " Text(37.2, 114.75999999999999, 'X[2] <= 26.125\\nentropy = 0.32\\nsamples = 5\\nvalue = [1, 4]'),\n",
       " Text(35.01176470588236, 102.67999999999999, 'X[1] <= 2.0\\nentropy = 0.5\\nsamples = 2\\nvalue = [1, 1]'),\n",
       " Text(32.82352941176471, 90.6, 'entropy = 0.0\\nsamples = 1\\nvalue = [1, 0]'),\n",
       " Text(37.2, 90.6, 'entropy = 0.0\\nsamples = 1\\nvalue = [0, 1]'),\n",
       " Text(39.38823529411765, 102.67999999999999, 'entropy = 0.0\\nsamples = 3\\nvalue = [0, 3]'),\n",
       " Text(29.541176470588237, 151.0, 'entropy = 0.0\\nsamples = 1\\nvalue = [1, 0]'),\n",
       " Text(41.576470588235296, 163.07999999999998, 'X[2] <= 149.035\\nentropy = 0.039\\nsamples = 100\\nvalue = [2, 98]'),\n",
       " Text(39.38823529411765, 151.0, 'entropy = 0.0\\nsamples = 80\\nvalue = [0, 80]'),\n",
       " Text(43.76470588235294, 151.0, 'X[2] <= 152.506\\nentropy = 0.18\\nsamples = 20\\nvalue = [2, 18]'),\n",
       " Text(41.576470588235296, 138.92000000000002, 'X[1] <= 1.0\\nentropy = 0.5\\nsamples = 4\\nvalue = [2, 2]'),\n",
       " Text(39.38823529411765, 126.84, 'entropy = 0.0\\nsamples = 1\\nvalue = [0, 1]'),\n",
       " Text(43.76470588235294, 126.84, 'X[12] <= 0.5\\nentropy = 0.444\\nsamples = 3\\nvalue = [2, 1]'),\n",
       " Text(41.576470588235296, 114.75999999999999, 'entropy = 0.0\\nsamples = 2\\nvalue = [2, 0]'),\n",
       " Text(45.952941176470596, 114.75999999999999, 'entropy = 0.0\\nsamples = 1\\nvalue = [0, 1]'),\n",
       " Text(45.952941176470596, 138.92000000000002, 'entropy = 0.0\\nsamples = 16\\nvalue = [0, 16]'),\n",
       " Text(52.517647058823535, 175.16, 'X[12] <= 0.5\\nentropy = 0.494\\nsamples = 27\\nvalue = [15, 12]'),\n",
       " Text(50.32941176470589, 163.07999999999998, 'entropy = 0.0\\nsamples = 7\\nvalue = [0, 7]'),\n",
       " Text(54.70588235294118, 163.07999999999998, 'X[2] <= 29.11\\nentropy = 0.375\\nsamples = 20\\nvalue = [15, 5]'),\n",
       " Text(52.517647058823535, 151.0, 'entropy = 0.0\\nsamples = 11\\nvalue = [11, 0]'),\n",
       " Text(56.89411764705883, 151.0, 'X[1] <= 0.5\\nentropy = 0.494\\nsamples = 9\\nvalue = [4, 5]'),\n",
       " Text(54.70588235294118, 138.92000000000002, 'X[14] <= 0.5\\nentropy = 0.408\\nsamples = 7\\nvalue = [2, 5]'),\n",
       " Text(52.517647058823535, 126.84, 'X[2] <= 37.55\\nentropy = 0.278\\nsamples = 6\\nvalue = [1, 5]'),\n",
       " Text(50.32941176470589, 114.75999999999999, 'entropy = 0.0\\nsamples = 3\\nvalue = [0, 3]'),\n",
       " Text(54.70588235294118, 114.75999999999999, 'X[2] <= 48.265\\nentropy = 0.444\\nsamples = 3\\nvalue = [1, 2]'),\n",
       " Text(52.517647058823535, 102.67999999999999, 'entropy = 0.0\\nsamples = 1\\nvalue = [1, 0]'),\n",
       " Text(56.89411764705883, 102.67999999999999, 'entropy = 0.0\\nsamples = 2\\nvalue = [0, 2]'),\n",
       " Text(56.89411764705883, 126.84, 'entropy = 0.0\\nsamples = 1\\nvalue = [1, 0]'),\n",
       " Text(59.082352941176474, 138.92000000000002, 'entropy = 0.0\\nsamples = 2\\nvalue = [2, 0]'),\n",
       " Text(122.78051470588237, 187.24, 'X[2] <= 23.35\\nentropy = 0.499\\nsamples = 172\\nvalue = [89, 83]'),\n",
       " Text(96.76102941176471, 175.16, 'X[19] <= 0.5\\nentropy = 0.473\\nsamples = 128\\nvalue = [49, 79]'),\n",
       " Text(94.57279411764706, 163.07999999999998, 'X[15] <= 0.5\\nentropy = 0.46\\nsamples = 123\\nvalue = [44, 79]'),\n",
       " Text(71.11764705882354, 151.0, 'X[2] <= 15.621\\nentropy = 0.388\\nsamples = 57\\nvalue = [15, 42]'),\n",
       " Text(68.92941176470589, 138.92000000000002, 'X[2] <= 13.935\\nentropy = 0.425\\nsamples = 49\\nvalue = [15, 34]'),\n",
       " Text(61.27058823529413, 126.84, 'X[2] <= 6.987\\nentropy = 0.327\\nsamples = 34\\nvalue = [7, 27]'),\n",
       " Text(59.082352941176474, 114.75999999999999, 'entropy = 0.0\\nsamples = 1\\nvalue = [1, 0]'),\n",
       " Text(63.458823529411774, 114.75999999999999, 'X[1] <= 1.5\\nentropy = 0.298\\nsamples = 33\\nvalue = [6, 27]'),\n",
       " Text(61.27058823529413, 102.67999999999999, 'X[18] <= 0.5\\nentropy = 0.264\\nsamples = 32\\nvalue = [5, 27]'),\n",
       " Text(59.082352941176474, 90.6, 'entropy = 0.0\\nsamples = 9\\nvalue = [0, 9]'),\n",
       " Text(63.458823529411774, 90.6, 'X[2] <= 8.008\\nentropy = 0.34\\nsamples = 23\\nvalue = [5, 18]'),\n",
       " Text(61.27058823529413, 78.52000000000001, 'X[2] <= 7.769\\nentropy = 0.298\\nsamples = 22\\nvalue = [4, 18]'),\n",
       " Text(59.082352941176474, 66.44, 'X[2] <= 7.429\\nentropy = 0.375\\nsamples = 16\\nvalue = [4, 12]'),\n",
       " Text(56.89411764705883, 54.359999999999985, 'entropy = 0.0\\nsamples = 2\\nvalue = [0, 2]'),\n",
       " Text(61.27058823529413, 54.359999999999985, 'X[2] <= 7.681\\nentropy = 0.408\\nsamples = 14\\nvalue = [4, 10]'),\n",
       " Text(59.082352941176474, 42.28, 'entropy = 0.0\\nsamples = 1\\nvalue = [1, 0]'),\n",
       " Text(63.458823529411774, 42.28, 'X[2] <= 7.744\\nentropy = 0.355\\nsamples = 13\\nvalue = [3, 10]'),\n",
       " Text(61.27058823529413, 30.19999999999999, 'entropy = 0.0\\nsamples = 2\\nvalue = [0, 2]'),\n",
       " Text(65.64705882352942, 30.19999999999999, 'entropy = 0.397\\nsamples = 11\\nvalue = [3, 8]'),\n",
       " Text(63.458823529411774, 66.44, 'entropy = 0.0\\nsamples = 6\\nvalue = [0, 6]'),\n",
       " Text(65.64705882352942, 78.52000000000001, 'entropy = 0.0\\nsamples = 1\\nvalue = [1, 0]'),\n",
       " Text(65.64705882352942, 102.67999999999999, 'entropy = 0.0\\nsamples = 1\\nvalue = [1, 0]'),\n",
       " Text(76.58823529411765, 126.84, 'X[2] <= 14.852\\nentropy = 0.498\\nsamples = 15\\nvalue = [8, 7]'),\n",
       " Text(72.21176470588236, 114.75999999999999, 'X[7] <= 0.5\\nentropy = 0.278\\nsamples = 6\\nvalue = [5, 1]'),\n",
       " Text(70.02352941176471, 102.67999999999999, 'X[17] <= 0.5\\nentropy = 0.5\\nsamples = 2\\nvalue = [1, 1]'),\n",
       " Text(67.83529411764707, 90.6, 'entropy = 0.0\\nsamples = 1\\nvalue = [1, 0]'),\n",
       " Text(72.21176470588236, 90.6, 'entropy = 0.0\\nsamples = 1\\nvalue = [0, 1]'),\n",
       " Text(74.4, 102.67999999999999, 'entropy = 0.0\\nsamples = 4\\nvalue = [4, 0]'),\n",
       " Text(80.96470588235294, 114.75999999999999, 'X[1] <= 0.5\\nentropy = 0.444\\nsamples = 9\\nvalue = [3, 6]'),\n",
       " Text(78.7764705882353, 102.67999999999999, 'entropy = 0.0\\nsamples = 3\\nvalue = [0, 3]'),\n",
       " Text(83.15294117647059, 102.67999999999999, 'X[6] <= 0.5\\nentropy = 0.5\\nsamples = 6\\nvalue = [3, 3]'),\n",
       " Text(80.96470588235294, 90.6, 'X[1] <= 1.5\\nentropy = 0.375\\nsamples = 4\\nvalue = [3, 1]'),\n",
       " Text(78.7764705882353, 78.52000000000001, 'entropy = 0.0\\nsamples = 2\\nvalue = [2, 0]'),\n",
       " Text(83.15294117647059, 78.52000000000001, 'entropy = 0.5\\nsamples = 2\\nvalue = [1, 1]'),\n",
       " Text(85.34117647058824, 90.6, 'entropy = 0.0\\nsamples = 2\\nvalue = [0, 2]'),\n",
       " Text(73.30588235294118, 138.92000000000002, 'entropy = 0.0\\nsamples = 8\\nvalue = [0, 8]'),\n",
       " Text(118.0279411764706, 151.0, 'X[2] <= 10.825\\nentropy = 0.493\\nsamples = 66\\nvalue = [29, 37]'),\n",
       " Text(98.19705882352942, 138.92000000000002, 'X[2] <= 7.763\\nentropy = 0.49\\nsamples = 35\\nvalue = [20, 15]'),\n",
       " Text(87.52941176470588, 126.84, 'X[2] <= 7.523\\nentropy = 0.278\\nsamples = 6\\nvalue = [1, 5]'),\n",
       " Text(85.34117647058824, 114.75999999999999, 'entropy = 0.0\\nsamples = 2\\nvalue = [0, 2]'),\n",
       " Text(89.71764705882354, 114.75999999999999, 'X[2] <= 7.6\\nentropy = 0.375\\nsamples = 4\\nvalue = [1, 3]'),\n",
       " Text(87.52941176470588, 102.67999999999999, 'entropy = 0.5\\nsamples = 2\\nvalue = [1, 1]'),\n",
       " Text(91.90588235294119, 102.67999999999999, 'entropy = 0.0\\nsamples = 2\\nvalue = [0, 2]'),\n",
       " Text(108.86470588235295, 126.84, 'X[18] <= 0.5\\nentropy = 0.452\\nsamples = 29\\nvalue = [19, 10]'),\n",
       " Text(98.47058823529413, 114.75999999999999, 'X[2] <= 7.89\\nentropy = 0.49\\nsamples = 7\\nvalue = [3, 4]'),\n",
       " Text(96.28235294117648, 102.67999999999999, 'entropy = 0.0\\nsamples = 2\\nvalue = [2, 0]'),\n",
       " Text(100.65882352941178, 102.67999999999999, 'X[2] <= 10.152\\nentropy = 0.32\\nsamples = 5\\nvalue = [1, 4]'),\n",
       " Text(98.47058823529413, 90.6, 'entropy = 0.0\\nsamples = 4\\nvalue = [0, 4]'),\n",
       " Text(102.84705882352942, 90.6, 'entropy = 0.0\\nsamples = 1\\nvalue = [1, 0]'),\n",
       " Text(119.25882352941177, 114.75999999999999, 'X[2] <= 7.988\\nentropy = 0.397\\nsamples = 22\\nvalue = [16, 6]'),\n",
       " Text(111.60000000000001, 102.67999999999999, 'X[2] <= 7.875\\nentropy = 0.5\\nsamples = 10\\nvalue = [5, 5]'),\n",
       " Text(107.22352941176472, 90.6, 'X[0] <= 0.5\\nentropy = 0.48\\nsamples = 5\\nvalue = [2, 3]'),\n",
       " Text(105.03529411764707, 78.52000000000001, 'X[2] <= 7.815\\nentropy = 0.5\\nsamples = 4\\nvalue = [2, 2]'),\n",
       " Text(102.84705882352942, 66.44, 'entropy = 0.5\\nsamples = 2\\nvalue = [1, 1]'),\n",
       " Text(107.22352941176472, 66.44, 'entropy = 0.5\\nsamples = 2\\nvalue = [1, 1]'),\n",
       " Text(109.41176470588236, 78.52000000000001, 'entropy = 0.0\\nsamples = 1\\nvalue = [0, 1]'),\n",
       " Text(115.9764705882353, 90.6, 'X[0] <= 0.5\\nentropy = 0.48\\nsamples = 5\\nvalue = [3, 2]'),\n",
       " Text(113.78823529411765, 78.52000000000001, 'X[2] <= 7.91\\nentropy = 0.5\\nsamples = 4\\nvalue = [2, 2]'),\n",
       " Text(111.60000000000001, 66.44, 'entropy = 0.0\\nsamples = 1\\nvalue = [1, 0]'),\n",
       " Text(115.9764705882353, 66.44, 'entropy = 0.444\\nsamples = 3\\nvalue = [1, 2]'),\n",
       " Text(118.16470588235295, 78.52000000000001, 'entropy = 0.0\\nsamples = 1\\nvalue = [1, 0]'),\n",
       " Text(126.91764705882355, 102.67999999999999, 'X[7] <= 0.5\\nentropy = 0.153\\nsamples = 12\\nvalue = [11, 1]'),\n",
       " Text(124.7294117647059, 90.6, 'X[1] <= 0.5\\nentropy = 0.444\\nsamples = 3\\nvalue = [2, 1]'),\n",
       " Text(122.54117647058825, 78.52000000000001, 'X[2] <= 8.367\\nentropy = 0.5\\nsamples = 2\\nvalue = [1, 1]'),\n",
       " Text(120.3529411764706, 66.44, 'entropy = 0.0\\nsamples = 1\\nvalue = [1, 0]'),\n",
       " Text(124.7294117647059, 66.44, 'entropy = 0.0\\nsamples = 1\\nvalue = [0, 1]'),\n",
       " Text(126.91764705882355, 78.52000000000001, 'entropy = 0.0\\nsamples = 1\\nvalue = [1, 0]'),\n",
       " Text(129.1058823529412, 90.6, 'entropy = 0.0\\nsamples = 9\\nvalue = [9, 0]'),\n",
       " Text(137.85882352941178, 138.92000000000002, 'X[2] <= 17.6\\nentropy = 0.412\\nsamples = 31\\nvalue = [9, 22]'),\n",
       " Text(131.29411764705884, 126.84, 'X[9] <= 0.5\\nentropy = 0.188\\nsamples = 19\\nvalue = [2, 17]'),\n",
       " Text(129.1058823529412, 114.75999999999999, 'entropy = 0.0\\nsamples = 9\\nvalue = [0, 9]'),\n",
       " Text(133.4823529411765, 114.75999999999999, 'X[0] <= 0.5\\nentropy = 0.32\\nsamples = 10\\nvalue = [2, 8]'),\n",
       " Text(131.29411764705884, 102.67999999999999, 'entropy = 0.0\\nsamples = 3\\nvalue = [0, 3]'),\n",
       " Text(135.67058823529413, 102.67999999999999, 'X[2] <= 15.125\\nentropy = 0.408\\nsamples = 7\\nvalue = [2, 5]'),\n",
       " Text(133.4823529411765, 90.6, 'entropy = 0.0\\nsamples = 1\\nvalue = [1, 0]'),\n",
       " Text(137.85882352941178, 90.6, 'X[2] <= 15.975\\nentropy = 0.278\\nsamples = 6\\nvalue = [1, 5]'),\n",
       " Text(135.67058823529413, 78.52000000000001, 'entropy = 0.0\\nsamples = 2\\nvalue = [0, 2]'),\n",
       " Text(140.04705882352943, 78.52000000000001, 'X[2] <= 16.75\\nentropy = 0.375\\nsamples = 4\\nvalue = [1, 3]'),\n",
       " Text(137.85882352941178, 66.44, 'entropy = 0.444\\nsamples = 3\\nvalue = [1, 2]'),\n",
       " Text(142.23529411764707, 66.44, 'entropy = 0.0\\nsamples = 1\\nvalue = [0, 1]'),\n",
       " Text(144.42352941176472, 126.84, 'X[0] <= 1.5\\nentropy = 0.486\\nsamples = 12\\nvalue = [7, 5]'),\n",
       " Text(142.23529411764707, 114.75999999999999, 'X[1] <= 0.5\\nentropy = 0.469\\nsamples = 8\\nvalue = [3, 5]'),\n",
       " Text(140.04705882352943, 102.67999999999999, 'entropy = 0.0\\nsamples = 2\\nvalue = [2, 0]'),\n",
       " Text(144.42352941176472, 102.67999999999999, 'X[1] <= 3.0\\nentropy = 0.278\\nsamples = 6\\nvalue = [1, 5]'),\n",
       " Text(142.23529411764707, 90.6, 'entropy = 0.0\\nsamples = 5\\nvalue = [0, 5]'),\n",
       " Text(146.61176470588236, 90.6, 'entropy = 0.0\\nsamples = 1\\nvalue = [1, 0]'),\n",
       " Text(146.61176470588236, 114.75999999999999, 'entropy = 0.0\\nsamples = 4\\nvalue = [4, 0]'),\n",
       " Text(98.94926470588236, 163.07999999999998, 'entropy = 0.0\\nsamples = 5\\nvalue = [5, 0]'),\n",
       " Text(148.8, 175.16, 'X[1] <= 0.5\\nentropy = 0.165\\nsamples = 44\\nvalue = [40, 4]'),\n",
       " Text(146.61176470588236, 163.07999999999998, 'entropy = 0.0\\nsamples = 1\\nvalue = [0, 1]'),\n",
       " Text(150.98823529411766, 163.07999999999998, 'X[2] <= 31.331\\nentropy = 0.13\\nsamples = 43\\nvalue = [40, 3]'),\n",
       " Text(148.8, 151.0, 'entropy = 0.0\\nsamples = 23\\nvalue = [23, 0]'),\n",
       " Text(153.1764705882353, 151.0, 'X[2] <= 32.881\\nentropy = 0.255\\nsamples = 20\\nvalue = [17, 3]'),\n",
       " Text(150.98823529411766, 138.92000000000002, 'X[12] <= 0.5\\nentropy = 0.375\\nsamples = 4\\nvalue = [1, 3]'),\n",
       " Text(148.8, 126.84, 'entropy = 0.0\\nsamples = 2\\nvalue = [0, 2]'),\n",
       " Text(153.1764705882353, 126.84, 'entropy = 0.5\\nsamples = 2\\nvalue = [1, 1]'),\n",
       " Text(155.36470588235295, 138.92000000000002, 'entropy = 0.0\\nsamples = 16\\nvalue = [16, 0]'),\n",
       " Text(255.95514705882354, 199.32, 'X[2] <= 26.269\\nentropy = 0.264\\nsamples = 517\\nvalue = [436, 81]'),\n",
       " Text(226.7558823529412, 187.24, 'X[13] <= 0.5\\nentropy = 0.18\\nsamples = 390\\nvalue = [351, 39]'),\n",
       " Text(206.24117647058824, 175.16, 'X[2] <= 13.25\\nentropy = 0.168\\nsamples = 346\\nvalue = [314, 32]'),\n",
       " Text(184.9058823529412, 163.07999999999998, 'X[2] <= 7.91\\nentropy = 0.188\\nsamples = 285\\nvalue = [255, 30]'),\n",
       " Text(166.8529411764706, 151.0, 'X[2] <= 7.865\\nentropy = 0.125\\nsamples = 149\\nvalue = [139, 10]'),\n",
       " Text(164.66470588235296, 138.92000000000002, 'X[2] <= 7.746\\nentropy = 0.159\\nsamples = 115\\nvalue = [105, 10]'),\n",
       " Text(159.74117647058824, 126.84, 'X[2] <= 7.196\\nentropy = 0.087\\nsamples = 66\\nvalue = [63, 3]'),\n",
       " Text(157.5529411764706, 114.75999999999999, 'X[2] <= 7.133\\nentropy = 0.142\\nsamples = 39\\nvalue = [36, 3]'),\n",
       " Text(155.36470588235295, 102.67999999999999, 'X[2] <= 7.01\\nentropy = 0.1\\nsamples = 38\\nvalue = [36, 2]'),\n",
       " Text(153.1764705882353, 90.6, 'X[2] <= 6.962\\nentropy = 0.153\\nsamples = 24\\nvalue = [22, 2]'),\n",
       " Text(148.8, 78.52000000000001, 'X[5] <= 0.5\\nentropy = 0.087\\nsamples = 22\\nvalue = [21, 1]'),\n",
       " Text(146.61176470588236, 66.44, 'entropy = 0.0\\nsamples = 11\\nvalue = [11, 0]'),\n",
       " Text(150.98823529411766, 66.44, 'X[2] <= 3.119\\nentropy = 0.165\\nsamples = 11\\nvalue = [10, 1]'),\n",
       " Text(148.8, 54.359999999999985, 'X[18] <= 0.5\\nentropy = 0.375\\nsamples = 4\\nvalue = [3, 1]'),\n",
       " Text(146.61176470588236, 42.28, 'entropy = 0.0\\nsamples = 1\\nvalue = [1, 0]'),\n",
       " Text(150.98823529411766, 42.28, 'entropy = 0.444\\nsamples = 3\\nvalue = [2, 1]'),\n",
       " Text(153.1764705882353, 54.359999999999985, 'entropy = 0.0\\nsamples = 7\\nvalue = [7, 0]'),\n",
       " Text(157.5529411764706, 78.52000000000001, 'X[18] <= 0.5\\nentropy = 0.5\\nsamples = 2\\nvalue = [1, 1]'),\n",
       " Text(155.36470588235295, 66.44, 'entropy = 0.0\\nsamples = 1\\nvalue = [1, 0]'),\n",
       " Text(159.74117647058824, 66.44, 'entropy = 0.0\\nsamples = 1\\nvalue = [0, 1]'),\n",
       " Text(157.5529411764706, 90.6, 'entropy = 0.0\\nsamples = 14\\nvalue = [14, 0]'),\n",
       " Text(159.74117647058824, 102.67999999999999, 'entropy = 0.0\\nsamples = 1\\nvalue = [0, 1]'),\n",
       " Text(161.9294117647059, 114.75999999999999, 'entropy = 0.0\\nsamples = 27\\nvalue = [27, 0]'),\n",
       " Text(169.58823529411765, 126.84, 'X[18] <= 0.5\\nentropy = 0.245\\nsamples = 49\\nvalue = [42, 7]'),\n",
       " Text(167.4, 114.75999999999999, 'entropy = 0.0\\nsamples = 11\\nvalue = [11, 0]'),\n",
       " Text(171.7764705882353, 114.75999999999999, 'X[15] <= 0.5\\nentropy = 0.301\\nsamples = 38\\nvalue = [31, 7]'),\n",
       " Text(166.30588235294118, 102.67999999999999, 'X[0] <= 0.5\\nentropy = 0.231\\nsamples = 15\\nvalue = [13, 2]'),\n",
       " Text(164.11764705882354, 90.6, 'X[2] <= 7.79\\nentropy = 0.245\\nsamples = 14\\nvalue = [12, 2]'),\n",
       " Text(161.9294117647059, 78.52000000000001, 'entropy = 0.26\\nsamples = 13\\nvalue = [11, 2]'),\n",
       " Text(166.30588235294118, 78.52000000000001, 'entropy = 0.0\\nsamples = 1\\nvalue = [1, 0]'),\n",
       " Text(168.49411764705883, 90.6, 'entropy = 0.0\\nsamples = 1\\nvalue = [1, 0]'),\n",
       " Text(177.24705882352944, 102.67999999999999, 'X[2] <= 7.798\\nentropy = 0.34\\nsamples = 23\\nvalue = [18, 5]'),\n",
       " Text(172.87058823529412, 90.6, 'X[2] <= 7.785\\nentropy = 0.391\\nsamples = 15\\nvalue = [11, 4]'),\n",
       " Text(170.68235294117648, 78.52000000000001, 'X[0] <= 0.5\\nentropy = 0.32\\nsamples = 10\\nvalue = [8, 2]'),\n",
       " Text(168.49411764705883, 66.44, 'entropy = 0.219\\nsamples = 8\\nvalue = [7, 1]'),\n",
       " Text(172.87058823529412, 66.44, 'entropy = 0.5\\nsamples = 2\\nvalue = [1, 1]'),\n",
       " Text(175.05882352941177, 78.52000000000001, 'entropy = 0.48\\nsamples = 5\\nvalue = [3, 2]'),\n",
       " Text(181.62352941176474, 90.6, 'X[2] <= 7.827\\nentropy = 0.219\\nsamples = 8\\nvalue = [7, 1]'),\n",
       " Text(179.4352941176471, 78.52000000000001, 'entropy = 0.0\\nsamples = 1\\nvalue = [1, 0]'),\n",
       " Text(183.81176470588238, 78.52000000000001, 'X[0] <= 0.5\\nentropy = 0.245\\nsamples = 7\\nvalue = [6, 1]'),\n",
       " Text(181.62352941176474, 66.44, 'entropy = 0.278\\nsamples = 6\\nvalue = [5, 1]'),\n",
       " Text(186.00000000000003, 66.44, 'entropy = 0.0\\nsamples = 1\\nvalue = [1, 0]'),\n",
       " Text(169.04117647058825, 138.92000000000002, 'entropy = 0.0\\nsamples = 34\\nvalue = [34, 0]'),\n",
       " Text(202.95882352941177, 151.0, 'X[2] <= 7.988\\nentropy = 0.251\\nsamples = 136\\nvalue = [116, 20]'),\n",
       " Text(194.7529411764706, 138.92000000000002, 'X[0] <= 1.5\\nentropy = 0.473\\nsamples = 13\\nvalue = [8, 5]'),\n",
       " Text(192.56470588235297, 126.84, 'X[0] <= 0.5\\nentropy = 0.496\\nsamples = 11\\nvalue = [6, 5]'),\n",
       " Text(190.37647058823532, 114.75999999999999, 'X[19] <= 0.5\\nentropy = 0.48\\nsamples = 10\\nvalue = [6, 4]'),\n",
       " Text(188.18823529411767, 102.67999999999999, 'entropy = 0.408\\nsamples = 7\\nvalue = [5, 2]'),\n",
       " Text(192.56470588235297, 102.67999999999999, 'entropy = 0.444\\nsamples = 3\\nvalue = [1, 2]'),\n",
       " Text(194.7529411764706, 114.75999999999999, 'entropy = 0.0\\nsamples = 1\\nvalue = [0, 1]'),\n",
       " Text(196.94117647058826, 126.84, 'entropy = 0.0\\nsamples = 2\\nvalue = [2, 0]'),\n",
       " Text(211.16470588235296, 138.92000000000002, 'X[20] <= 0.5\\nentropy = 0.214\\nsamples = 123\\nvalue = [108, 15]'),\n",
       " Text(208.97647058823532, 126.84, 'X[2] <= 12.637\\nentropy = 0.206\\nsamples = 120\\nvalue = [106, 14]'),\n",
       " Text(201.31764705882355, 114.75999999999999, 'X[2] <= 8.135\\nentropy = 0.19\\nsamples = 94\\nvalue = [84, 10]'),\n",
       " Text(196.94117647058826, 102.67999999999999, 'X[17] <= 0.5\\nentropy = 0.245\\nsamples = 42\\nvalue = [36, 6]'),\n",
       " Text(194.7529411764706, 90.6, 'X[2] <= 8.081\\nentropy = 0.184\\nsamples = 39\\nvalue = [35, 4]'),\n",
       " Text(192.56470588235297, 78.52000000000001, 'X[18] <= 0.5\\nentropy = 0.145\\nsamples = 38\\nvalue = [35, 3]'),\n",
       " Text(190.37647058823532, 66.44, 'entropy = 0.245\\nsamples = 7\\nvalue = [6, 1]'),\n",
       " Text(194.7529411764706, 66.44, 'entropy = 0.121\\nsamples = 31\\nvalue = [29, 2]'),\n",
       " Text(196.94117647058826, 78.52000000000001, 'entropy = 0.0\\nsamples = 1\\nvalue = [0, 1]'),\n",
       " Text(199.1294117647059, 90.6, 'entropy = 0.444\\nsamples = 3\\nvalue = [1, 2]'),\n",
       " Text(205.69411764705885, 102.67999999999999, 'X[18] <= 0.5\\nentropy = 0.142\\nsamples = 52\\nvalue = [48, 4]'),\n",
       " Text(203.5058823529412, 90.6, 'entropy = 0.0\\nsamples = 12\\nvalue = [12, 0]'),\n",
       " Text(207.8823529411765, 90.6, 'X[2] <= 8.658\\nentropy = 0.18\\nsamples = 40\\nvalue = [36, 4]'),\n",
       " Text(205.69411764705885, 78.52000000000001, 'entropy = 0.0\\nsamples = 5\\nvalue = [5, 0]'),\n",
       " Text(210.07058823529414, 78.52000000000001, 'X[2] <= 9.673\\nentropy = 0.202\\nsamples = 35\\nvalue = [31, 4]'),\n",
       " Text(205.69411764705885, 66.44, 'X[2] <= 9.492\\nentropy = 0.266\\nsamples = 19\\nvalue = [16, 3]'),\n",
       " Text(203.5058823529412, 54.359999999999985, 'X[2] <= 8.831\\nentropy = 0.165\\nsamples = 11\\nvalue = [10, 1]'),\n",
       " Text(201.31764705882355, 42.28, 'X[0] <= 1.0\\nentropy = 0.278\\nsamples = 6\\nvalue = [5, 1]'),\n",
       " Text(199.1294117647059, 30.19999999999999, 'entropy = 0.32\\nsamples = 5\\nvalue = [4, 1]'),\n",
       " Text(203.5058823529412, 30.19999999999999, 'entropy = 0.0\\nsamples = 1\\nvalue = [1, 0]'),\n",
       " Text(205.69411764705885, 42.28, 'entropy = 0.0\\nsamples = 5\\nvalue = [5, 0]'),\n",
       " Text(207.8823529411765, 54.359999999999985, 'entropy = 0.375\\nsamples = 8\\nvalue = [6, 2]'),\n",
       " Text(214.44705882352943, 66.44, 'X[2] <= 11.0\\nentropy = 0.117\\nsamples = 16\\nvalue = [15, 1]'),\n",
       " Text(212.25882352941179, 54.359999999999985, 'X[5] <= 0.5\\nentropy = 0.142\\nsamples = 13\\nvalue = [12, 1]'),\n",
       " Text(210.07058823529414, 42.28, 'entropy = 0.165\\nsamples = 11\\nvalue = [10, 1]'),\n",
       " Text(214.44705882352943, 42.28, 'entropy = 0.0\\nsamples = 2\\nvalue = [2, 0]'),\n",
       " Text(216.63529411764708, 54.359999999999985, 'entropy = 0.0\\nsamples = 3\\nvalue = [3, 0]'),\n",
       " Text(216.63529411764708, 114.75999999999999, 'X[17] <= 0.5\\nentropy = 0.26\\nsamples = 26\\nvalue = [22, 4]'),\n",
       " Text(214.44705882352943, 102.67999999999999, 'X[18] <= 0.5\\nentropy = 0.269\\nsamples = 25\\nvalue = [21, 4]'),\n",
       " Text(212.25882352941179, 90.6, 'entropy = 0.278\\nsamples = 6\\nvalue = [5, 1]'),\n",
       " Text(216.63529411764708, 90.6, 'entropy = 0.266\\nsamples = 19\\nvalue = [16, 3]'),\n",
       " Text(218.82352941176472, 102.67999999999999, 'entropy = 0.0\\nsamples = 1\\nvalue = [1, 0]'),\n",
       " Text(213.3529411764706, 126.84, 'entropy = 0.444\\nsamples = 3\\nvalue = [2, 1]'),\n",
       " Text(227.5764705882353, 163.07999999999998, 'X[0] <= 1.5\\nentropy = 0.063\\nsamples = 61\\nvalue = [59, 2]'),\n",
       " Text(223.20000000000002, 151.0, 'X[2] <= 25.962\\nentropy = 0.034\\nsamples = 57\\nvalue = [56, 1]'),\n",
       " Text(221.01176470588237, 138.92000000000002, 'entropy = 0.0\\nsamples = 41\\nvalue = [41, 0]'),\n",
       " Text(225.38823529411766, 138.92000000000002, 'X[0] <= 0.5\\nentropy = 0.117\\nsamples = 16\\nvalue = [15, 1]'),\n",
       " Text(223.20000000000002, 126.84, 'entropy = 0.0\\nsamples = 9\\nvalue = [9, 0]'),\n",
       " Text(227.5764705882353, 126.84, 'X[19] <= 0.5\\nentropy = 0.245\\nsamples = 7\\nvalue = [6, 1]'),\n",
       " Text(225.38823529411766, 114.75999999999999, 'X[2] <= 26.125\\nentropy = 0.32\\nsamples = 5\\nvalue = [4, 1]'),\n",
       " Text(223.20000000000002, 102.67999999999999, 'entropy = 0.375\\nsamples = 4\\nvalue = [3, 1]'),\n",
       " Text(227.5764705882353, 102.67999999999999, 'entropy = 0.0\\nsamples = 1\\nvalue = [1, 0]'),\n",
       " Text(229.76470588235296, 114.75999999999999, 'entropy = 0.0\\nsamples = 2\\nvalue = [2, 0]'),\n",
       " Text(231.9529411764706, 151.0, 'X[15] <= 0.5\\nentropy = 0.375\\nsamples = 4\\nvalue = [3, 1]'),\n",
       " Text(229.76470588235296, 138.92000000000002, 'entropy = 0.0\\nsamples = 1\\nvalue = [0, 1]'),\n",
       " Text(234.14117647058825, 138.92000000000002, 'entropy = 0.0\\nsamples = 3\\nvalue = [3, 0]'),\n",
       " Text(247.27058823529416, 175.16, 'X[2] <= 15.396\\nentropy = 0.268\\nsamples = 44\\nvalue = [37, 7]'),\n",
       " Text(242.89411764705883, 163.07999999999998, 'X[2] <= 14.158\\nentropy = 0.224\\nsamples = 39\\nvalue = [34, 5]'),\n",
       " Text(240.7058823529412, 151.0, 'X[2] <= 13.369\\nentropy = 0.251\\nsamples = 34\\nvalue = [29, 5]'),\n",
       " Text(238.51764705882354, 138.92000000000002, 'X[18] <= 0.5\\nentropy = 0.213\\nsamples = 33\\nvalue = [29, 4]'),\n",
       " Text(236.3294117647059, 126.84, 'entropy = 0.0\\nsamples = 4\\nvalue = [4, 0]'),\n",
       " Text(240.7058823529412, 126.84, 'X[2] <= 8.279\\nentropy = 0.238\\nsamples = 29\\nvalue = [25, 4]'),\n",
       " Text(238.51764705882354, 114.75999999999999, 'X[2] <= 6.831\\nentropy = 0.26\\nsamples = 26\\nvalue = [22, 4]'),\n",
       " Text(236.3294117647059, 102.67999999999999, 'entropy = 0.0\\nsamples = 2\\nvalue = [2, 0]'),\n",
       " Text(240.7058823529412, 102.67999999999999, 'X[2] <= 7.227\\nentropy = 0.278\\nsamples = 24\\nvalue = [20, 4]'),\n",
       " Text(238.51764705882354, 90.6, 'entropy = 0.219\\nsamples = 8\\nvalue = [7, 1]'),\n",
       " Text(242.89411764705883, 90.6, 'X[2] <= 7.562\\nentropy = 0.305\\nsamples = 16\\nvalue = [13, 3]'),\n",
       " Text(240.7058823529412, 78.52000000000001, 'entropy = 0.298\\nsamples = 11\\nvalue = [9, 2]'),\n",
       " Text(245.0823529411765, 78.52000000000001, 'entropy = 0.32\\nsamples = 5\\nvalue = [4, 1]'),\n",
       " Text(242.89411764705883, 114.75999999999999, 'entropy = 0.0\\nsamples = 3\\nvalue = [3, 0]'),\n",
       " Text(242.89411764705883, 138.92000000000002, 'entropy = 0.0\\nsamples = 1\\nvalue = [0, 1]'),\n",
       " Text(245.0823529411765, 151.0, 'entropy = 0.0\\nsamples = 5\\nvalue = [5, 0]'),\n",
       " Text(251.64705882352945, 163.07999999999998, 'X[2] <= 20.233\\nentropy = 0.48\\nsamples = 5\\nvalue = [3, 2]'),\n",
       " Text(249.4588235294118, 151.0, 'X[16] <= 0.5\\nentropy = 0.444\\nsamples = 3\\nvalue = [1, 2]'),\n",
       " Text(247.27058823529416, 138.92000000000002, 'entropy = 0.0\\nsamples = 2\\nvalue = [0, 2]'),\n",
       " Text(251.64705882352945, 138.92000000000002, 'entropy = 0.0\\nsamples = 1\\nvalue = [1, 0]'),\n",
       " Text(253.8352941176471, 151.0, 'entropy = 0.0\\nsamples = 2\\nvalue = [2, 0]'),\n",
       " Text(285.1544117647059, 187.24, 'X[2] <= 26.775\\nentropy = 0.443\\nsamples = 127\\nvalue = [85, 42]'),\n",
       " Text(262.5882352941177, 175.16, 'X[20] <= 0.5\\nentropy = 0.43\\nsamples = 16\\nvalue = [5, 11]'),\n",
       " Text(260.40000000000003, 163.07999999999998, 'X[2] <= 26.469\\nentropy = 0.26\\nsamples = 13\\nvalue = [2, 11]'),\n",
       " Text(258.2117647058824, 151.0, 'entropy = 0.0\\nsamples = 4\\nvalue = [0, 4]'),\n",
       " Text(262.5882352941177, 151.0, 'X[15] <= 0.5\\nentropy = 0.346\\nsamples = 9\\nvalue = [2, 7]'),\n",
       " Text(260.40000000000003, 138.92000000000002, 'entropy = 0.0\\nsamples = 1\\nvalue = [0, 1]'),\n",
       " Text(264.7764705882353, 138.92000000000002, 'X[19] <= 0.5\\nentropy = 0.375\\nsamples = 8\\nvalue = [2, 6]'),\n",
       " Text(262.5882352941177, 126.84, 'entropy = 0.375\\nsamples = 4\\nvalue = [1, 3]'),\n",
       " Text(266.964705882353, 126.84, 'entropy = 0.375\\nsamples = 4\\nvalue = [1, 3]'),\n",
       " Text(264.7764705882353, 163.07999999999998, 'entropy = 0.0\\nsamples = 3\\nvalue = [3, 0]'),\n",
       " Text(307.72058823529414, 175.16, 'X[4] <= 0.5\\nentropy = 0.403\\nsamples = 111\\nvalue = [80, 31]'),\n",
       " Text(305.5323529411765, 163.07999999999998, 'X[18] <= 0.5\\nentropy = 0.433\\nsamples = 98\\nvalue = [67, 31]'),\n",
       " Text(282.8294117647059, 151.0, 'X[13] <= 0.5\\nentropy = 0.314\\nsamples = 41\\nvalue = [33, 8]'),\n",
       " Text(273.5294117647059, 138.92000000000002, 'X[1] <= 0.5\\nentropy = 0.211\\nsamples = 25\\nvalue = [22, 3]'),\n",
       " Text(271.34117647058827, 126.84, 'X[2] <= 30.25\\nentropy = 0.305\\nsamples = 16\\nvalue = [13, 3]'),\n",
       " Text(266.964705882353, 114.75999999999999, 'X[20] <= 0.5\\nentropy = 0.5\\nsamples = 2\\nvalue = [1, 1]'),\n",
       " Text(264.7764705882353, 102.67999999999999, 'entropy = 0.0\\nsamples = 1\\nvalue = [1, 0]'),\n",
       " Text(269.1529411764706, 102.67999999999999, 'entropy = 0.0\\nsamples = 1\\nvalue = [0, 1]'),\n",
       " Text(275.71764705882356, 114.75999999999999, 'X[0] <= 0.5\\nentropy = 0.245\\nsamples = 14\\nvalue = [12, 2]'),\n",
       " Text(273.5294117647059, 102.67999999999999, 'entropy = 0.0\\nsamples = 8\\nvalue = [8, 0]'),\n",
       " Text(277.9058823529412, 102.67999999999999, 'X[2] <= 54.227\\nentropy = 0.444\\nsamples = 6\\nvalue = [4, 2]'),\n",
       " Text(275.71764705882356, 90.6, 'X[2] <= 52.277\\nentropy = 0.444\\nsamples = 3\\nvalue = [1, 2]'),\n",
       " Text(273.5294117647059, 78.52000000000001, 'entropy = 0.5\\nsamples = 2\\nvalue = [1, 1]'),\n",
       " Text(277.9058823529412, 78.52000000000001, 'entropy = 0.0\\nsamples = 1\\nvalue = [0, 1]'),\n",
       " Text(280.09411764705885, 90.6, 'entropy = 0.0\\nsamples = 3\\nvalue = [3, 0]'),\n",
       " Text(275.71764705882356, 126.84, 'entropy = 0.0\\nsamples = 9\\nvalue = [9, 0]'),\n",
       " Text(292.12941176470594, 138.92000000000002, 'X[2] <= 69.354\\nentropy = 0.43\\nsamples = 16\\nvalue = [11, 5]'),\n",
       " Text(286.6588235294118, 126.84, 'X[2] <= 32.827\\nentropy = 0.245\\nsamples = 7\\nvalue = [6, 1]'),\n",
       " Text(284.47058823529414, 114.75999999999999, 'X[2] <= 30.848\\nentropy = 0.444\\nsamples = 3\\nvalue = [2, 1]'),\n",
       " Text(282.2823529411765, 102.67999999999999, 'entropy = 0.0\\nsamples = 2\\nvalue = [2, 0]'),\n",
       " Text(286.6588235294118, 102.67999999999999, 'entropy = 0.0\\nsamples = 1\\nvalue = [0, 1]'),\n",
       " Text(288.84705882352944, 114.75999999999999, 'entropy = 0.0\\nsamples = 4\\nvalue = [4, 0]'),\n",
       " Text(297.6, 126.84, 'X[2] <= 97.765\\nentropy = 0.494\\nsamples = 9\\nvalue = [5, 4]'),\n",
       " Text(293.22352941176473, 114.75999999999999, 'X[0] <= 0.5\\nentropy = 0.375\\nsamples = 4\\nvalue = [1, 3]'),\n",
       " Text(291.0352941176471, 102.67999999999999, 'entropy = 0.0\\nsamples = 1\\nvalue = [1, 0]'),\n",
       " Text(295.4117647058824, 102.67999999999999, 'entropy = 0.0\\nsamples = 3\\nvalue = [0, 3]'),\n",
       " Text(301.9764705882353, 114.75999999999999, 'X[19] <= 0.5\\nentropy = 0.32\\nsamples = 5\\nvalue = [4, 1]'),\n",
       " Text(299.78823529411767, 102.67999999999999, 'X[1] <= 1.0\\nentropy = 0.5\\nsamples = 2\\nvalue = [1, 1]'),\n",
       " Text(297.6, 90.6, 'entropy = 0.0\\nsamples = 1\\nvalue = [1, 0]'),\n",
       " Text(301.9764705882353, 90.6, 'entropy = 0.0\\nsamples = 1\\nvalue = [0, 1]'),\n",
       " Text(304.16470588235296, 102.67999999999999, 'entropy = 0.0\\nsamples = 3\\nvalue = [3, 0]'),\n",
       " Text(328.2352941176471, 151.0, 'X[2] <= 387.665\\nentropy = 0.481\\nsamples = 57\\nvalue = [34, 23]'),\n",
       " Text(326.0470588235294, 138.92000000000002, 'X[2] <= 127.817\\nentropy = 0.472\\nsamples = 55\\nvalue = [34, 21]'),\n",
       " Text(323.8588235294118, 126.84, 'X[2] <= 86.085\\nentropy = 0.492\\nsamples = 48\\nvalue = [27, 21]'),\n",
       " Text(321.67058823529413, 114.75999999999999, 'X[2] <= 64.979\\nentropy = 0.48\\nsamples = 45\\nvalue = [27, 18]'),\n",
       " Text(312.91764705882355, 102.67999999999999, 'X[2] <= 54.271\\nentropy = 0.498\\nsamples = 36\\nvalue = [19, 17]'),\n",
       " Text(306.3529411764706, 90.6, 'X[2] <= 37.812\\nentropy = 0.453\\nsamples = 26\\nvalue = [17, 9]'),\n",
       " Text(299.78823529411767, 78.52000000000001, 'X[2] <= 28.725\\nentropy = 0.498\\nsamples = 15\\nvalue = [8, 7]'),\n",
       " Text(297.6, 66.44, 'entropy = 0.0\\nsamples = 3\\nvalue = [3, 0]'),\n",
       " Text(301.9764705882353, 66.44, 'X[2] <= 35.25\\nentropy = 0.486\\nsamples = 12\\nvalue = [5, 7]'),\n",
       " Text(299.78823529411767, 54.359999999999985, 'X[2] <= 30.598\\nentropy = 0.5\\nsamples = 10\\nvalue = [5, 5]'),\n",
       " Text(297.6, 42.28, 'X[1] <= 0.5\\nentropy = 0.408\\nsamples = 7\\nvalue = [2, 5]'),\n",
       " Text(295.4117647058824, 30.19999999999999, 'X[2] <= 30.25\\nentropy = 0.278\\nsamples = 6\\nvalue = [1, 5]'),\n",
       " Text(293.22352941176473, 18.120000000000005, 'X[15] <= 0.5\\nentropy = 0.375\\nsamples = 4\\nvalue = [1, 3]'),\n",
       " Text(291.0352941176471, 6.039999999999992, 'entropy = 0.0\\nsamples = 2\\nvalue = [0, 2]'),\n",
       " Text(295.4117647058824, 6.039999999999992, 'entropy = 0.5\\nsamples = 2\\nvalue = [1, 1]'),\n",
       " Text(297.6, 18.120000000000005, 'entropy = 0.0\\nsamples = 2\\nvalue = [0, 2]'),\n",
       " Text(299.78823529411767, 30.19999999999999, 'entropy = 0.0\\nsamples = 1\\nvalue = [1, 0]'),\n",
       " Text(301.9764705882353, 42.28, 'entropy = 0.0\\nsamples = 3\\nvalue = [3, 0]'),\n",
       " Text(304.16470588235296, 54.359999999999985, 'entropy = 0.0\\nsamples = 2\\nvalue = [0, 2]'),\n",
       " Text(312.91764705882355, 78.52000000000001, 'X[1] <= 0.5\\nentropy = 0.298\\nsamples = 11\\nvalue = [9, 2]'),\n",
       " Text(310.7294117647059, 66.44, 'X[2] <= 52.55\\nentropy = 0.18\\nsamples = 10\\nvalue = [9, 1]'),\n",
       " Text(308.54117647058825, 54.359999999999985, 'entropy = 0.0\\nsamples = 7\\nvalue = [7, 0]'),\n",
       " Text(312.91764705882355, 54.359999999999985, 'entropy = 0.444\\nsamples = 3\\nvalue = [2, 1]'),\n",
       " Text(315.1058823529412, 66.44, 'entropy = 0.0\\nsamples = 1\\nvalue = [0, 1]'),\n",
       " Text(319.4823529411765, 90.6, 'X[5] <= 0.5\\nentropy = 0.32\\nsamples = 10\\nvalue = [2, 8]'),\n",
       " Text(317.29411764705884, 78.52000000000001, 'entropy = 0.0\\nsamples = 3\\nvalue = [0, 3]'),\n",
       " Text(321.67058823529413, 78.52000000000001, 'entropy = 0.408\\nsamples = 7\\nvalue = [2, 5]'),\n",
       " Text(330.4235294117647, 102.67999999999999, 'X[15] <= 0.5\\nentropy = 0.198\\nsamples = 9\\nvalue = [8, 1]'),\n",
       " Text(328.2352941176471, 90.6, 'X[2] <= 77.965\\nentropy = 0.444\\nsamples = 3\\nvalue = [2, 1]'),\n",
       " Text(326.0470588235294, 78.52000000000001, 'entropy = 0.0\\nsamples = 1\\nvalue = [0, 1]'),\n",
       " Text(330.4235294117647, 78.52000000000001, 'entropy = 0.0\\nsamples = 2\\nvalue = [2, 0]'),\n",
       " Text(332.61176470588236, 90.6, 'entropy = 0.0\\nsamples = 6\\nvalue = [6, 0]'),\n",
       " Text(326.0470588235294, 114.75999999999999, 'entropy = 0.0\\nsamples = 3\\nvalue = [0, 3]'),\n",
       " Text(328.2352941176471, 126.84, 'entropy = 0.0\\nsamples = 7\\nvalue = [7, 0]'),\n",
       " Text(330.4235294117647, 138.92000000000002, 'entropy = 0.0\\nsamples = 2\\nvalue = [0, 2]'),\n",
       " Text(309.9088235294118, 163.07999999999998, 'entropy = 0.0\\nsamples = 13\\nvalue = [13, 0]')]"
      ]
     },
     "execution_count": 135,
     "metadata": {},
     "output_type": "execute_result"
    },
    {
     "data": {
      "image/png": "[encoded data removed]",
      "text/plain": [
       "<Figure size 432x288 with 1 Axes>"
      ]
     },
     "metadata": {},
     "output_type": "display_data"
    }
   ],
   "source": [
    "tree.plot_tree(model_dt_one)"
   ]
  },
  {
   "cell_type": "markdown",
   "metadata": {},
   "source": [
    "# REFERENCES:\n",
    "https://realpython.com/python-data-cleaning-numpy-pandas/  <br>\n",
    "http://www.titanicandco.com/inside.html  <br>\n",
    "https://machinelearningmastery.com/why-one-hot-encode-data-in-machine-learning/ <br>\n",
    "https://www.ntu.edu.sg/home/ehchua/programming/howto/Regexe.html <br>\n",
    "https://towardsdatascience.com/supervised-machine-learning-classification-5e685fe18a6d <br>\n",
    "https://blog.goodaudience.com/machine-learning-using-logistic-regression-in-python-with-code-ab3c7f5f3bed  <br>\n",
    "https://machinelearningmastery.com/classification-accuracy-is-not-enough-more-performance-measures-you-can-use/ <br>\n",
    "https://towardsdatascience.com/precision-vs-recall-386cf9f89488 <br>"
   ]
  },
  {
   "cell_type": "code",
   "execution_count": null,
   "metadata": {},
   "outputs": [],
   "source": []
  }
 ],
 "metadata": {
  "kernelspec": {
   "display_name": "Python 3",
   "language": "python",
   "name": "python3"
  },
  "language_info": {
   "codemirror_mode": {
    "name": "ipython",
    "version": 3
   },
   "file_extension": ".py",
   "mimetype": "text/x-python",
   "name": "python",
   "nbconvert_exporter": "python",
   "pygments_lexer": "ipython3",
   "version": "3.6.7"
  }
 },
 "nbformat": 4,
 "nbformat_minor": 2
}
